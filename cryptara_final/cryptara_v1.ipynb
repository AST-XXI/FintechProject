{
 "cells": [
  {
   "cell_type": "code",
   "execution_count": 4,
   "id": "86787244",
   "metadata": {},
   "outputs": [
    {
     "name": "stdin",
     "output_type": "stream",
     "text": [
      "Welcome Crypto Investor, what is your name? bob\n"
     ]
    }
   ],
   "source": [
    "#The name of this project is 'Cryptara' and the objective of this script is to build a Robo-advisor\n",
    "name = input(\"Welcome Crypto Investor, what is your name?\")"
   ]
  },
  {
   "cell_type": "code",
   "execution_count": 5,
   "id": "18347d0a-b7ca-4de5-af04-e6530b028ed2",
   "metadata": {},
   "outputs": [
    {
     "name": "stdout",
     "output_type": "stream",
     "text": [
      "Hello bob, my name is Cryptara. I make your savings go to good use in the Crypto market!\n",
      "\n"
     ]
    },
    {
     "name": "stdin",
     "output_type": "stream",
     "text": [
      "Would you like to import a csv file or input your tickers manually? Type: 'import' OR 'input' import\n"
     ]
    },
    {
     "name": "stdout",
     "output_type": "stream",
     "text": [
      "import option has been selected..\n",
      "\n"
     ]
    },
    {
     "name": "stdin",
     "output_type": "stream",
     "text": [
      "how much cash would you like to invest? 2135111\n"
     ]
    },
    {
     "name": "stdout",
     "output_type": "stream",
     "text": [
      "\n",
      "Once I have your list, This process starts automatically..\n",
      "I use data from the TradingView API and filter your list, then I apply a built-in technical analysis function to determine which cryptos are good picks at this point in time\n",
      "Then, I run hundreds of simulations to determine optimal weights for each crypto selection\n",
      "From there, I will scan multiple exchanges to determine where you could get the most volume for the dollar at that particular time '(based on cross-exchange rates)'\n",
      "Lastly, I will present to you an interactive Dashboard based on future projections..\n"
     ]
    }
   ],
   "source": [
    "#Introduction. Have user input their desired upload option. Options include importing a csv or inputting individual tickers.\n",
    "if name == None:\n",
    "    print('I respect your privacy, you dont mind if I call you Karen, right')\n",
    "    name = \"Karen\"\n",
    "if name != \"\" or name == None:\n",
    "    # Store user's cash investment.\n",
    "    print(f\"Hello {name}, my name is Cryptara. I make your savings go to good use in the Crypto market!\")\n",
    "    print('')\n",
    "    data_source=input(\"Would you like to import a csv file or input your tickers manually? Type: 'import' OR 'input'\")\n",
    "    print(f\"{data_source} option has been selected..\")\n",
    "    print(f\"\")\n",
    "    investment=input(\"how much cash would you like to invest?\")\n",
    "    investment = float(investment)\n",
    "    print('')\n",
    "    print(f'Once I have your list, This process starts automatically..')\n",
    "    print(f'I use data from the TradingView API and filter your list, then I apply a built-in technical analysis function to determine which cryptos are good picks at this point in time')\n",
    "    print(f\"Then, I run hundreds of simulations to determine optimal weights for each crypto selection\")\n",
    "    print(f\"From there, I will scan multiple exchanges to determine where you could get the most volume for the dollar at that particular time '(based on cross-exchange rates)'\")\n",
    "    print(f\"Lastly, I will present to you an interactive Dashboard based on future projections..\")"
   ]
  },
  {
   "cell_type": "code",
   "execution_count": 6,
   "id": "284c97fc",
   "metadata": {},
   "outputs": [
    {
     "name": "stdout",
     "output_type": "stream",
     "text": [
      "Thanks for using our csv file import option! Let me look through your list and see if I can validate the data..\n"
     ]
    }
   ],
   "source": [
    "#User input validation\n",
    "if data_source == 'import':\n",
    "    from pathlib import Path\n",
    "    ticker_data = Path(\"data_files/crypto_tickers1.csv\")\n",
    "    print(f'Thanks for using our csv file import option! Let me look through your list and see if I can validate the data..')\n",
    "if data_source == 'input':\n",
    "    ticker_1=input(\"Tell me the first ticker\")\n",
    "    ticker_2=input(\"Tell me the second ticker\")\n",
    "    ticker_3=input(\"Tell me the third ticker\")\n",
    "    ticker_4=input(\"Tell me the fourth ticker\")\n",
    "    ticker_5=input(\"Tell me the fifth ticker\")\n",
    "    ticker_6=input(\"Tell me the sixth ticker\")\n",
    "    ticker_7=input(\"Tell me the seventh ticker\")\n",
    "    ticker_8=input(\"Tell me the eigth ticker\")\n",
    "    ticker_9=input(\"Tell me the ninth ticker\")\n",
    "    print(\"Please upgrade to Premium to input more than nine tickers.\")\n",
    "    ticker_data = ([ticker_1,ticker_2,ticker_3,ticker_4,ticker_5,ticker_6,ticker_7,ticker_8,ticker_7,ticker_8,ticker_9])\n",
    "    print(f'Got it. Give me a minute to make sure these tickers are valid')\n",
    "if data_source != 'import':\n",
    "    if data_source != 'input':\n",
    "        data_source = input('Please try again..')"
   ]
  },
  {
   "cell_type": "code",
   "execution_count": 7,
   "id": "4b4c633d",
   "metadata": {},
   "outputs": [
    {
     "name": "stdout",
     "output_type": "stream",
     "text": [
      "Lets get warmed up..\n"
     ]
    }
   ],
   "source": [
    "#Import libraries and dependencies\n",
    "print(f'Lets get warmed up..')\n",
    "from dotenv import load_dotenv\n",
    "from itertools import product\n",
    "import datetime\n",
    "import os\n",
    "import random\n",
    "import logging\n",
    "import pandas as pd\n",
    "import numpy as np\n",
    "from pathlib import Path\n",
    "%matplotlib inline"
   ]
  },
  {
   "cell_type": "code",
   "execution_count": 8,
   "id": "70f11973",
   "metadata": {},
   "outputs": [
    {
     "name": "stdout",
     "output_type": "stream",
     "text": [
      "Trading View is my trusted partner, together we will see where your money should go\n"
     ]
    }
   ],
   "source": [
    "#Create TradingView variable and activate env variables\n",
    "print(f'Trading View is my trusted partner, together we will see where your money should go')\n",
    "from tvDatafeed import TvDatafeed,Interval\n",
    "load_dotenv()\n",
    "tradev_id = os.getenv(\"username\")\n",
    "tradev_secret_key = os.getenv(\"password\")"
   ]
  },
  {
   "cell_type": "code",
   "execution_count": 9,
   "id": "ea679333",
   "metadata": {
    "tags": []
   },
   "outputs": [
    {
     "name": "stderr",
     "output_type": "stream",
     "text": [
      "DEBUG:tvDatafeed.main:auth loaded\n"
     ]
    },
    {
     "name": "stdout",
     "output_type": "stream",
     "text": [
      "TradingView Authentication is successfull\n"
     ]
    }
   ],
   "source": [
    "#Log into TradingView\n",
    "logging.basicConfig(level=logging.DEBUG)\n",
    "tv = TvDatafeed(tradev_id, tradev_secret_key, chromedriver_path=None)\n",
    "print('TradingView Authentication is successfull')"
   ]
  },
  {
   "cell_type": "code",
   "execution_count": 10,
   "id": "5df44dd8",
   "metadata": {},
   "outputs": [
    {
     "name": "stdout",
     "output_type": "stream",
     "text": [
      "Nice work! No issues have been identified with your list, let me look into these and get back to you shortly...\n"
     ]
    }
   ],
   "source": [
    "from pathlib import Path\n",
    "ticker_data = Path(\"data_files/crypto_tickers1.csv\")\n",
    "ticker= pd.read_csv(ticker_data, header=None)\n",
    "ticker_df = pd.DataFrame(ticker)\n",
    "my_crypto_list = ticker_df[0].tolist()\n",
    "screener=\"CRYPTO\"\n",
    "exchange=\"BINANCE\"\n",
    "df_daily = pd.DataFrame()\n",
    "print(f\"Nice work! No issues have been identified with your list, let me look into these and get back to you shortly...\")"
   ]
  },
  {
   "cell_type": "code",
   "execution_count": null,
   "id": "8704e9fb",
   "metadata": {
    "tags": []
   },
   "outputs": [
    {
     "name": "stderr",
     "output_type": "stream",
     "text": [
      "DEBUG:root:creating websocket connection\n",
      "DEBUG:tvDatafeed.main:getting data for BINANCE:BTCUSD...\n"
     ]
    },
    {
     "name": "stdout",
     "output_type": "stream",
     "text": [
      "Extracting price history..\n"
     ]
    },
    {
     "name": "stderr",
     "output_type": "stream",
     "text": [
      "DEBUG:root:creating websocket connection\n",
      "DEBUG:tvDatafeed.main:getting data for BINANCE:ETHUSD...\n",
      "DEBUG:root:creating websocket connection\n",
      "DEBUG:tvDatafeed.main:getting data for BINANCE:DOGEUSD...\n",
      "DEBUG:root:creating websocket connection\n",
      "DEBUG:tvDatafeed.main:getting data for BINANCE:LTCUSD...\n",
      "DEBUG:root:creating websocket connection\n",
      "DEBUG:tvDatafeed.main:getting data for BINANCE:VGXETH...\n",
      "DEBUG:root:creating websocket connection\n",
      "DEBUG:tvDatafeed.main:getting data for BINANCE:VGXBTC...\n",
      "DEBUG:root:creating websocket connection\n",
      "DEBUG:tvDatafeed.main:getting data for BINANCE:MBOXBNB...\n",
      "DEBUG:root:creating websocket connection\n",
      "DEBUG:tvDatafeed.main:getting data for BINANCE:TRIBEUSD...\n",
      "DEBUG:root:creating websocket connection\n",
      "DEBUG:tvDatafeed.main:getting data for BINANCE:TRIBEBTC...\n",
      "DEBUG:root:creating websocket connection\n",
      "DEBUG:tvDatafeed.main:getting data for BINANCE:TRIBEBNB...\n",
      "DEBUG:root:creating websocket connection\n",
      "DEBUG:tvDatafeed.main:getting data for BINANCE:MITHBNB...\n",
      "DEBUG:root:creating websocket connection\n",
      "DEBUG:tvDatafeed.main:getting data for BINANCE:BTCDOWNUSDT...\n",
      "DEBUG:root:creating websocket connection\n",
      "DEBUG:tvDatafeed.main:getting data for BINANCE:VTHOBNB...\n",
      "DEBUG:root:creating websocket connection\n",
      "DEBUG:tvDatafeed.main:getting data for BINANCE:1INCHDOWNUSDT...\n",
      "DEBUG:root:creating websocket connection\n",
      "DEBUG:tvDatafeed.main:getting data for BINANCE:HARDBNB...\n",
      "DEBUG:root:creating websocket connection\n",
      "DEBUG:tvDatafeed.main:getting data for BINANCE:MITHUSD...\n",
      "DEBUG:root:creating websocket connection\n",
      "DEBUG:tvDatafeed.main:getting data for BINANCE:EOSDOWNUSDT...\n",
      "DEBUG:root:creating websocket connection\n",
      "DEBUG:tvDatafeed.main:getting data for BINANCE:BNBDOWNUSDT...\n",
      "DEBUG:root:creating websocket connection\n",
      "DEBUG:tvDatafeed.main:getting data for BINANCE:USDTRUB...\n",
      "DEBUG:root:creating websocket connection\n",
      "DEBUG:tvDatafeed.main:getting data for BINANCE:GLMETH...\n",
      "DEBUG:root:creating websocket connection\n",
      "DEBUG:tvDatafeed.main:getting data for BINANCE:ETHDOWNUSDT...\n",
      "DEBUG:root:creating websocket connection\n",
      "DEBUG:tvDatafeed.main:getting data for BINANCE:BCHDOWNUSDT...\n",
      "DEBUG:root:creating websocket connection\n",
      "DEBUG:tvDatafeed.main:getting data for BINANCE:PHABTC...\n",
      "DEBUG:root:creating websocket connection\n",
      "DEBUG:tvDatafeed.main:getting data for BINANCE:CELOUSD...\n",
      "DEBUG:root:creating websocket connection\n",
      "DEBUG:tvDatafeed.main:getting data for BINANCE:CREAMBNB...\n",
      "DEBUG:root:creating websocket connection\n",
      "DEBUG:tvDatafeed.main:getting data for BINANCE:ELFETH...\n",
      "DEBUG:root:creating websocket connection\n",
      "DEBUG:tvDatafeed.main:getting data for BINANCE:BURGERBNB...\n",
      "DEBUG:root:creating websocket connection\n",
      "DEBUG:tvDatafeed.main:getting data for BINANCE:BUSDBRL...\n",
      "DEBUG:root:creating websocket connection\n",
      "DEBUG:tvDatafeed.main:getting data for BINANCE:USDTBRL...\n",
      "DEBUG:root:creating websocket connection\n",
      "DEBUG:tvDatafeed.main:getting data for BINANCE:COVERBUSD...\n",
      "DEBUG:root:creating websocket connection\n",
      "DEBUG:tvDatafeed.main:getting data for BINANCE:MATICBNB...\n",
      "DEBUG:root:creating websocket connection\n",
      "DEBUG:tvDatafeed.main:getting data for BINANCE:AAVEDOWNUSDT...\n",
      "DEBUG:root:creating websocket connection\n",
      "DEBUG:tvDatafeed.main:getting data for BINANCE:GXSBTC...\n",
      "DEBUG:root:creating websocket connection\n",
      "DEBUG:tvDatafeed.main:getting data for BINANCE:FUNBTC...\n",
      "DEBUG:root:creating websocket connection\n",
      "DEBUG:tvDatafeed.main:getting data for BINANCE:TRXXRP...\n",
      "DEBUG:root:creating websocket connection\n",
      "DEBUG:tvDatafeed.main:getting data for BINANCE:LINKDOWNUSDT...\n",
      "DEBUG:root:creating websocket connection\n",
      "DEBUG:tvDatafeed.main:getting data for BINANCE:GLMBTC...\n",
      "DEBUG:root:creating websocket connection\n",
      "DEBUG:tvDatafeed.main:getting data for BINANCE:MDABTC...\n",
      "DEBUG:root:creating websocket connection\n",
      "DEBUG:tvDatafeed.main:getting data for BINANCE:YFIDOWNUSDT...\n",
      "DEBUG:root:creating websocket connection\n",
      "DEBUG:tvDatafeed.main:getting data for BINANCE:FILDOWNUSDT...\n",
      "DEBUG:root:creating websocket connection\n",
      "DEBUG:tvDatafeed.main:getting data for BINANCE:SXPDOWNUSDT...\n",
      "DEBUG:root:creating websocket connection\n",
      "DEBUG:tvDatafeed.main:getting data for BINANCE:BUSDRUB...\n",
      "DEBUG:root:creating websocket connection\n",
      "DEBUG:tvDatafeed.main:getting data for BINANCE:SWRVBNB...\n",
      "DEBUG:root:creating websocket connection\n",
      "DEBUG:tvDatafeed.main:getting data for BINANCE:TRXDOWNUSDT...\n",
      "DEBUG:root:creating websocket connection\n",
      "DEBUG:tvDatafeed.main:getting data for BINANCE:ADADOWNUSDT...\n",
      "DEBUG:root:creating websocket connection\n",
      "DEBUG:tvDatafeed.main:getting data for BINANCE:PAXGUSDT...\n",
      "DEBUG:root:creating websocket connection\n",
      "DEBUG:tvDatafeed.main:getting data for BINANCE:PAXGBTC...\n",
      "DEBUG:root:creating websocket connection\n",
      "DEBUG:tvDatafeed.main:getting data for BINANCE:SYSBTC...\n",
      "DEBUG:root:creating websocket connection\n",
      "DEBUG:tvDatafeed.main:getting data for BINANCE:USDTIDRT...\n",
      "DEBUG:root:creating websocket connection\n",
      "DEBUG:tvDatafeed.main:getting data for BINANCE:ADABTC...\n",
      "DEBUG:root:creating websocket connection\n",
      "DEBUG:tvDatafeed.main:getting data for BINANCE:DOTDOWNUSDT...\n",
      "DEBUG:root:creating websocket connection\n",
      "DEBUG:tvDatafeed.main:getting data for BINANCE:COVERETH...\n",
      "DEBUG:root:creating websocket connection\n",
      "DEBUG:tvDatafeed.main:getting data for BINANCE:TROYUSDT...\n",
      "DEBUG:root:creating websocket connection\n",
      "DEBUG:tvDatafeed.main:getting data for BINANCE:MITHUSDT...\n",
      "DEBUG:root:creating websocket connection\n",
      "DEBUG:tvDatafeed.main:getting data for BINANCE:USDTNGN...\n",
      "DEBUG:root:creating websocket connection\n",
      "DEBUG:tvDatafeed.main:getting data for BINANCE:OMGBTC...\n",
      "DEBUG:root:creating websocket connection\n",
      "DEBUG:tvDatafeed.main:getting data for BINANCE:BUSDBIDR...\n",
      "DEBUG:root:creating websocket connection\n",
      "DEBUG:tvDatafeed.main:getting data for BINANCE:USDTBIDR...\n",
      "DEBUG:root:creating websocket connection\n",
      "DEBUG:tvDatafeed.main:getting data for BINANCE:TROYBNB...\n",
      "DEBUG:root:creating websocket connection\n",
      "DEBUG:tvDatafeed.main:getting data for BINANCE:TUSDUSDT...\n",
      "DEBUG:root:creating websocket connection\n",
      "DEBUG:tvDatafeed.main:getting data for BINANCE:XRPDOWNUSDT...\n",
      "DEBUG:root:creating websocket connection\n",
      "DEBUG:tvDatafeed.main:getting data for BINANCE:CELOBTC...\n",
      "DEBUG:root:creating websocket connection\n",
      "DEBUG:tvDatafeed.main:getting data for BINANCE:MITHBTC...\n",
      "DEBUG:root:creating websocket connection\n",
      "DEBUG:tvDatafeed.main:getting data for BINANCE:TRIBEBUSD...\n",
      "DEBUG:root:creating websocket connection\n",
      "DEBUG:tvDatafeed.main:getting data for BINANCE:TRIBEUSDT...\n",
      "DEBUG:root:creating websocket connection\n",
      "DEBUG:tvDatafeed.main:getting data for BINANCE:ADXBTC...\n",
      "DEBUG:root:creating websocket connection\n",
      "DEBUG:tvDatafeed.main:getting data for BINANCE:PAXGBNB...\n",
      "DEBUG:root:creating websocket connection\n",
      "DEBUG:tvDatafeed.main:getting data for BINANCE:RIFBTC...\n"
     ]
    }
   ],
   "source": [
    "#Get historical pricing information for total population\n",
    "print(f'Extracting price history..')\n",
    "for ticker in my_crypto_list:\n",
    "    data = tv.get_hist(\n",
    "        symbol=ticker,\n",
    "        exchange=exchange,\n",
    "        interval=Interval.in_daily,n_bars=500)\n",
    "    df_daily = df_daily.append(data)\n",
    "print(f'finished extracting historical prices..')"
   ]
  },
  {
   "cell_type": "code",
   "execution_count": null,
   "id": "7d63eb8d",
   "metadata": {
    "tags": []
   },
   "outputs": [],
   "source": [
    "#Grab indicator recommendations from Trading View API\n",
    "print(f'Risk protocol: Filtering by analyst recommendations')\n",
    "from tradingview_ta import TA_Handler, Interval, Exchange\n",
    "staging_df = pd.DataFrame()\n",
    "ticker_df_daily = pd.DataFrame()\n",
    "for ticker in my_crypto_list:\n",
    "    try:\n",
    "        data = (TA_Handler(symbol=ticker,screener=screener,\n",
    "                           exchange=exchange,interval=Interval.INTERVAL_1_DAY ).get_analysis().summary)\n",
    "        symbol = ticker\n",
    "        staging_df = list(data.values())\n",
    "        final_df = (pd.DataFrame((data), index={ticker}))\n",
    "        ticker_df_daily = ticker_df_daily.append(final_df)\n",
    "    except:\n",
    "        pass\n",
    "print(f'finished extracting analyst recommendations..')"
   ]
  },
  {
   "cell_type": "code",
   "execution_count": null,
   "id": "ddd4c38c",
   "metadata": {
    "tags": []
   },
   "outputs": [],
   "source": [
    "#Filter imported list by analyst recommendations\n",
    "print(f'We checked what the top analysts are saying about each crypto in your list')\n",
    "print(f'To reduce program speed, Cryptara will only analyze cryptos that meet a BUY or NEUTRAL classification')\n",
    "initial_drop = ticker_df_daily.loc[ticker_df_daily['RECOMMENDATION']=='SELL']\n",
    "initial_pass_prime = ticker_df_daily.loc[ticker_df_daily['RECOMMENDATION']=='BUY']\n",
    "initial_pass_subprime = ticker_df_daily.loc[ticker_df_daily['RECOMMENDATION']=='NEUTRAL']\n",
    "\n",
    "#initial_drop = initial_indicator['RECOMMENDATION'].str.contains('SELL')\n",
    "buy_count = initial_pass_prime['RECOMMENDATION'].count() + initial_pass_subprime['RECOMMENDATION'].count()\n",
    "sell_count = initial_drop['RECOMMENDATION'].count()\n",
    "print('Here are the initial findings:')\n",
    "print('')\n",
    "print(f'It is not a good time to invest in {sell_count} of the cryptos from your list')\n",
    "print(f'These {sell_count} cryptos are not in a buying position')\n",
    "print(initial_drop['RECOMMENDATION'])\n",
    "print(f'These {sell_count} cryptos have been dropped from consideration..')\n",
    "print('')\n",
    "print('')\n",
    "print(f'Moving on, our initial inidicator data suggest {buy_count} cryptos from your list should be considered for further analysis:')\n",
    "print('Here they are:')\n",
    "print('Our Prime candidates that are in buy positions are:')\n",
    "print(initial_pass_prime['RECOMMENDATION'])\n",
    "print('')\n",
    "print('And these are neutral for now, we can resverve for later if we need additional cryptos for analysis')\n",
    "print(initial_pass_subprime['RECOMMENDATION'])"
   ]
  },
  {
   "cell_type": "code",
   "execution_count": null,
   "id": "0da5989a",
   "metadata": {},
   "outputs": [],
   "source": [
    "#Extract index values for the tickers that are prime and subprime and format data for further analysis. \n",
    "print(f'Nice work, {name}, you found {buy_count} cryptos that might be good investments this week!')\n",
    "initial_pass_prime.reset_index(inplace=True)\n",
    "initial_pass_prime = initial_pass_prime['index']\n",
    "initial_pass_subprime.reset_index(inplace=True)\n",
    "initial_pass_subprime = initial_pass_subprime['index']\n",
    "staging_df = pd.DataFrame()\n",
    "staging_df1 = pd.DataFrame()\n",
    "prime_df = pd.DataFrame()\n",
    "subprime_df = pd.DataFrame()\n",
    "print(f'Lets see what Cryptara thinks about these cryptos..')\n",
    "print(f'')\n"
   ]
  },
  {
   "cell_type": "code",
   "execution_count": null,
   "id": "60c8c962",
   "metadata": {
    "tags": []
   },
   "outputs": [],
   "source": [
    "#Run a for loop through prime and subprime cryptos and pull in all oscilattor data for technical analysis\n",
    "#Prime cryptos\n",
    "print(f'Extracting oscillator data from TradingView for built in technical analysis test...')\n",
    "for ticker in initial_pass_prime:\n",
    "    try:\n",
    "        data = (TA_Handler(symbol=ticker,screener=screener,\n",
    "                           exchange=exchange,interval=Interval.INTERVAL_1_DAY ).get_analysis().indicators)\n",
    "        symbol = ticker\n",
    "        staging_df = list(data.values())\n",
    "        final_df = (pd.DataFrame((data), index={ticker}))\n",
    "        prime_df = prime_df.append(final_df)\n",
    "    except:\n",
    "        pass\n",
    "    \n",
    "#Sub-prime cryptos\n",
    "for ticker in initial_pass_subprime:\n",
    "    try:\n",
    "        data = (TA_Handler(symbol=ticker,screener=screener,\n",
    "                           exchange=exchange,interval=Interval.INTERVAL_1_DAY ).get_analysis().indicators)\n",
    "        symbol = ticker\n",
    "        staging_df1 = list(data.values())\n",
    "        final_df = (pd.DataFrame((data), index={ticker}))\n",
    "        subprime_df = subprime_df.append(final_df)\n",
    "    except:\n",
    "        pass\n",
    "print('Extracted oscillator data, initializing technical analysis test on key trend indicators..')"
   ]
  },
  {
   "cell_type": "code",
   "execution_count": null,
   "id": "d4de7643",
   "metadata": {
    "tags": []
   },
   "outputs": [],
   "source": [
    "#Extract oscillator information for all cryptos that meet the 'buy threshold'  \n",
    "crypataras_picks = []\n",
    "print(f'Determining which cryptos are in an optimal buying position based on trend indicators...')\n",
    "print('Relative Strength Index (RSI), Moving Average Covergence and Divergence (MACD), Stachator positioning and the Awesome Oscillators')\n",
    "print(f'By doing this, we can see which cryptos are currently overbought or oversold based on historical prices..')\n",
    "print(f'')\n",
    "def strong_performers():\n",
    "    for i, j in prime_df.iterrows():\n",
    "        if j['RSI'] > 45 and j['RSI'] < 90:\n",
    "            print(f'{i} has passed the rsi_test, moving to moving average covergence and divergence analysis..')\n",
    "            if j['MACD.macd'] > 0 and j['MACD.macd'] < 40:\n",
    "                print(f'{i} has passed our moving average covergence and divergence analysis, moving to stochator analysis..')\n",
    "                if j['Stoch.K'] > 35 and j['Stoch.K'] < 85:\n",
    "                    if j['Stoch.D'] > 40 and j['Stoch.D'] < 85:\n",
    "                        if j['Stoch.RSI.K'] > 30 and j['Stoch.RSI.K'] < 80:\n",
    "                            print(f'{i} has passed our multiple stochator analysis, testing the Awesome Oscillators..')\n",
    "                            if j['AO'] > 0 and j['AO'] < 55:\n",
    "                                if i not in crypataras_picks:\n",
    "                                    print(f'Crytara has selected {i} ')\n",
    "                                    crypataras_picks.append(i)\n",
    "                                \n",
    "    else:\n",
    "        print(f'FAIL! dropping crypto from further consideration..')\n",
    "\n",
    "strong_performers()\n",
    "initial_count = len(crypataras_picks)\n",
    "print(f'')\n",
    "print('Technical Analysis test is complete.')\n",
    "print('')\n",
    "print('Crptara has analyzed key technical indicators and suggest that the following crypto assets')\n",
    "print('are in optimal buying positions')\n",
    "print(f'Crytara chooses: {crypataras_picks}')"
   ]
  },
  {
   "cell_type": "code",
   "execution_count": null,
   "id": "2bded7c0",
   "metadata": {
    "tags": []
   },
   "outputs": [],
   "source": [
    "print(f'{initial_count} tickers are in optimal buying positions..lets see if we have the minimum buy count of five..')\n",
    "print(f'')\n",
    "#Test if we have a minimum of five tickers for final analyses.\n",
    "if len(crypataras_picks) > 5:\n",
    "        crypataras_picks.remove(random.choice(crypataras_picks))\n",
    "        print(f'removed ticker from list to meet maxiumum requirements')\n",
    "\n",
    "if len(crypataras_picks) < 5:\n",
    "    print('This program requires a minimum of five cryptos to run remaining analysis. Importing random ticker from subprime dataframe..')\n",
    "    computer_selection_1 = subprime_df.sample().reset_index()\n",
    "    ticker_random_1 = computer_selection_1.iloc[:, 0].tolist()\n",
    "    string=''.join([str(item) for item in ticker_random_1])\n",
    "    if string in crypataras_picks:\n",
    "        pass\n",
    "    else:\n",
    "        crypataras_picks.append(string)\n",
    "        print(f'added {string} from BUY list to meet minimum requirements')\n",
    "        \n",
    "if len(crypataras_picks) < 5:\n",
    "    print('This program requires a minimum of five cryptos to run remaining analysis.')\n",
    "    computer_selection_2 = subprime_df.sample().reset_index()\n",
    "    ticker_random_2 = computer_selection_2.iloc[:, 0].tolist()\n",
    "    string=''.join([str(item) for item in ticker_random_2])\n",
    "    if string in crypataras_picks:\n",
    "        pass\n",
    "    else:\n",
    "        crypataras_picks.append(string)\n",
    "        print(f'added {string} from BUY list to meet minimum requirements')\n",
    "        \n",
    "if len(crypataras_picks) < 5:\n",
    "    print('This program requires a minimum of five cryptos to run remaining analysis')\n",
    "    computer_selection_3 = subprime_df.sample().reset_index()\n",
    "    ticker_random_3 = computer_selection_3.iloc[:, 0].tolist()\n",
    "    string=''.join([str(item) for item in ticker_random_3])\n",
    "    if string in crypataras_picks:\n",
    "        pass\n",
    "    else:\n",
    "        crypataras_picks.append(string)\n",
    "        print(f'added {string} from BUY list to meet minimum requirements')\n",
    "        \n",
    "if len(crypataras_picks) < 5:\n",
    "    print('This program requires a minimum of five cryptos to run remaining analysis')\n",
    "    computer_selection_4 = subprime_df.sample().reset_index()\n",
    "    ticker_random_4 = computer_selection_4.iloc[:, 0].tolist()\n",
    "    string=''.join([str(item) for item in ticker_random_4])\n",
    "    if string in crypataras_picks:\n",
    "        pass\n",
    "    else:\n",
    "        crypataras_picks.append(string)\n",
    "        print(f'added {string} from BUY list to meet minimum requirements')\n",
    "\n",
    "if len(crypataras_picks) > 5:\n",
    "        crypataras_picks.remove(random.choice(crypataras_picks))\n",
    "        print(f'removed ticker from list to meet maxiumum requirements')\n",
    "\n",
    "print(f'')\n",
    "print(f'Here are the final Cryptara picks:')\n",
    "print(f'')\n",
    "csv_export = pd.DataFrame(crypataras_picks)\n",
    "csv_export.to_csv('cryptaras_final_cryptos.csv')\n",
    "crypataras_picks"
   ]
  },
  {
   "cell_type": "code",
   "execution_count": null,
   "id": "903873cf",
   "metadata": {},
   "outputs": [],
   "source": [
    "from tvDatafeed import TvDatafeed,Interval\n",
    "load_dotenv()\n",
    "tradev_id = os.getenv(\"username\")\n",
    "tradev_secret_key = os.getenv(\"password\")\n",
    "print(f'Gathering return data on Crypto picks..')\n",
    "logging.basicConfig(level=logging.DEBUG)\n",
    "tv = TvDatafeed(tradev_id, tradev_secret_key, chromedriver_path=None)"
   ]
  },
  {
   "cell_type": "code",
   "execution_count": null,
   "id": "98686172",
   "metadata": {},
   "outputs": [],
   "source": [
    "print(f'Extracting most recent prices..')\n",
    "final_crypto_df = pd.DataFrame()\n",
    "bars= 1000\n",
    "for all_picks in crypataras_picks:\n",
    "    picks_df = tv.get_hist(symbol=all_picks,\n",
    "                       exchange=exchange,\n",
    "                       interval=Interval.in_daily,\n",
    "                       n_bars=bars)\n",
    "    final_crypto_df = final_crypto_df.append(picks_df)\n",
    "final_crypto_df.head(5)"
   ]
  },
  {
   "cell_type": "code",
   "execution_count": null,
   "id": "99ea6a85",
   "metadata": {},
   "outputs": [],
   "source": [
    "#Format dataframe.\n",
    "#Step 1: extract exchange and ticker from 'symbol' column into separate columns.\n",
    "final_df_cleaner = final_crypto_df\n",
    "final_df_cleaner[['exchange', 'ticker']] = final_df_cleaner['symbol'].str.split(':',expand=True)\n",
    "#Step 2: Extract ticker and close values, reset index\n",
    "final_df_cleaner = final_df_cleaner[['ticker','close']]\n",
    "final_df_cleaner = final_df_cleaner[['ticker','close']].reset_index()\n",
    "#Step3: Pivot data to make ticker values the column headers\n",
    "final_df_cleaner = final_df_cleaner.pivot(index='datetime',\n",
    "           columns='ticker',\n",
    "           values='close')\n",
    "#Step4: calculate return data\n",
    "print('Extracted historical returns into dataframe..')\n",
    "crypto_pick_returns = final_df_cleaner.pct_change().dropna()\n",
    "crypto_pick_returns.tail(5)"
   ]
  },
  {
   "cell_type": "code",
   "execution_count": null,
   "id": "f438c042",
   "metadata": {},
   "outputs": [],
   "source": [
    "#Step5: Calculate Cumulative Returns\n",
    "print('Calculated cumulative returns..')\n",
    "cumulative_daily_returns = (1 + crypto_pick_returns).cumprod() -1\n",
    "cumulative_daily_returns.tail(10)"
   ]
  },
  {
   "cell_type": "code",
   "execution_count": null,
   "id": "d228955d",
   "metadata": {},
   "outputs": [],
   "source": [
    "#Step5: Calculate Cumulative Returns\n",
    "print('Activating Cryptara Smartfolio')\n",
    "print('')\n",
    "print('Logging returns to normalize dataset..')\n",
    "log_returns= np.log(abs(cumulative_daily_returns))\n",
    "log_returns.tail()"
   ]
  },
  {
   "cell_type": "code",
   "execution_count": null,
   "id": "db8fd57c",
   "metadata": {},
   "outputs": [],
   "source": [
    "#Calculate volatility and \n",
    "print(f'Running multiple scenaries to determine appropriate weights for selected cryptos')\n",
    "#Initialize variables for \n",
    "num_of_portfolios= 5000\n",
    "weight= np.zeros((num_of_portfolios,len(crypataras_picks)))\n",
    "expected_return=  np.zeros(num_of_portfolios)\n",
    "expected_volatility= np.zeros(num_of_portfolios)\n",
    "sharpe_ratio= np.zeros(num_of_portfolios)\n",
    "expected_return\n",
    "mean_log_ret= log_returns.mean()\n",
    "sigma = log_returns.cov()\n",
    "\n",
    "for i in range (num_of_portfolios):\n",
    "    # generate random weight vectos \n",
    "    w= np.array(np.random.random(len(crypataras_picks)))\n",
    "        #sum of weights equal to 1 \n",
    "    w= w/ np.sum(w)\n",
    "    weight[i,:]= w\n",
    "    \n",
    "    # expected log return \n",
    "    expected_return[i]= np.sum(mean_log_ret*w) \n",
    "    \n",
    "    #expected volatility \n",
    "    expected_volatility[i]= np.sqrt(np.dot(w.T,np.dot(sigma,w)))\n",
    "    \n",
    "    # sharpe ratio\n",
    "    sharpe_ratio[i] =  expected_return[i]/expected_volatility[i]\n",
    "    \n",
    "print(f'Here are the weights: ')\n",
    "# Weighted portfolio that sharpe ratio\n",
    "max_index = sharpe_ratio.argmax()\n",
    "weight[max_index,:]"
   ]
  },
  {
   "cell_type": "code",
   "execution_count": null,
   "id": "8855c702-8ce5-4896-a71c-a7af624dc9a8",
   "metadata": {},
   "outputs": [],
   "source": [
    "def flatten(portfolio_weights):\n",
    "    return [item for sublist in portfolio_weights for item in sublist]"
   ]
  },
  {
   "cell_type": "code",
   "execution_count": null,
   "id": "df0b11b4-1f79-40d2-b197-b20ed65ea158",
   "metadata": {},
   "outputs": [],
   "source": [
    "flatten(portfolio_weights)"
   ]
  },
  {
   "cell_type": "code",
   "execution_count": null,
   "id": "ca14c13b",
   "metadata": {},
   "outputs": [],
   "source": [
    "# Portfolio weights are exported to a csv that can be used for monteclaro simulation\n",
    "print(f'Loading Smartfolio weights..')\n",
    "print(f'One Second please....')\n",
    "portfolio_weights = np.array([weight[max_index,:]])\n",
    "portfolio_weights = portfolio_weights.tolist() \n",
    "smartfolio_weights = pd.DataFrame(portfolio_weights)\n",
    "total_invested=(smartfolio_weights*investment).round(2)\n",
    "smartfolio_weights.to_csv('smartfolio_weights.csv')\n",
    "smartfolio_weights_df = smartfolio_weights\n",
    "smartfolio_weights_df.columns = ([crypataras_picks])\n",
    "print(f' ............and DONE!')\n",
    "print(f'Here are there optimal weights to invest in for the selected cryptos:')\n",
    "smartfolio_weights_df.head\n",
    "print('')\n",
    "print('')\n",
    "print(f'Now give me a second while I allocate your funds...') \n",
    "print('')\n",
    "#print(f' The optimal portfolio weight for '\n",
    "print(f'The optimal portfolio weight for {crypataras_picks[0]} is {smartfolio_weights.iloc[0][0]:.3f}, and your total invesment value is ${total_invested.iloc[0][0]}.')\n",
    "print('')\n",
    "print(f' The optimal portfolio weight for {crypataras_picks[1]} is {smartfolio_weights.iloc[0][1]:.3f}, and your total invesment value is ${total_invested.iloc[0][1]}.')\n",
    "print('')\n",
    "print(f' The optimal portfolio weight for {crypataras_picks[2]} is {smartfolio_weights.iloc[0][2]:.3f}, and your total invesment value is ${total_invested.iloc[0][2]}.')\n",
    "print('')\n",
    "print(f' The optimal portfolio weight for {crypataras_picks[3]} is {smartfolio_weights.iloc[0][3]:.3f}, and your total invesment value is ${total_invested.iloc[0][3]}.')\n",
    "print('')\n",
    "print(f' The optimal portfolio weight for {crypataras_picks[4]} is {smartfolio_weights.iloc[0][4]:.3f}, and your total invesment value is ${total_invested.iloc[0][4]}.')"
   ]
  },
  {
   "cell_type": "markdown",
   "id": "7e096ebc-d614-4eb4-b01c-b97321e6aeb5",
   "metadata": {},
   "source": [
    "import matplotlib.pyplot as plt\n",
    "#plt.figure(figsize=(20,5))\n",
    "#plt.scatter(expected_volatility,expected_return,c=sharpe_ratio)\n",
    "#plt.xlabel('Expected Volatility')\n",
    "#plt.ylabel('Expected Log Returns')\n",
    "#plt.colorbar(label='Sharpe Ratio')\n",
    "#plt.scatter(expected_volatility[max_index], expected_return[max_index], c='red')\n",
    "#plt.show()\n",
    "#print(f'Our Smartfolio suggest the following weights for Cryptaras picks:')\n",
    "#\n",
    "display_weights.columns = ([crypataras_picks])"
   ]
  },
  {
   "cell_type": "code",
   "execution_count": null,
   "id": "22e7e271",
   "metadata": {},
   "outputs": [],
   "source": [
    "import itertools\n",
    "from itertools import product\n",
    "from MCForecastTools import MCSimulation\n",
    "%matplotlib inline"
   ]
  },
  {
   "cell_type": "code",
   "execution_count": null,
   "id": "684c7b34",
   "metadata": {},
   "outputs": [],
   "source": [
    "mcsims_df = pd.DataFrame()\n",
    "for final_cryptos in crypataras_picks:\n",
    "    mcsims = tv.get_hist(symbol=final_cryptos,\n",
    "                       exchange=exchange,\n",
    "                       interval=Interval.in_daily,\n",
    "                       n_bars=bars)\n",
    "    mcsims_df = mcsims_df.append(mcsims)\n",
    "\n",
    "ticker1_df = mcsims_df.loc[mcsims_df.symbol==f'{exchange}' + ':' +f'{crypataras_picks[0]}']\n",
    "ticker2_df = mcsims_df.loc[mcsims_df.symbol==f'{exchange}' + ':' +f'{crypataras_picks[1]}']\n",
    "ticker3_df = mcsims_df.loc[mcsims_df.symbol==f'{exchange}' + ':' +f'{crypataras_picks[2]}']\n",
    "ticker4_df = mcsims_df.loc[mcsims_df.symbol==f'{exchange}' + ':' +f'{crypataras_picks[3]}']\n",
    "ticker5_df = mcsims_df.loc[mcsims_df.symbol==f'{exchange}' + ':' +f'{crypataras_picks[4]}']\n",
    "sim_data = pd.concat([ticker1_df, ticker2_df, ticker3_df, ticker4_df, ticker5_df], axis='columns', join='inner')\n",
    "\n",
    "\n",
    "print(f'Finished extracting extracting historical prices for selected cryptos')\n",
    "mcsims_df.head(5)"
   ]
  },
  {
   "cell_type": "code",
   "execution_count": null,
   "id": "fc3b0597",
   "metadata": {},
   "outputs": [],
   "source": [
    "print(f'Now, lets run multiple simulations to determine the optimal weights')\n",
    "mdex = itertools.product(crypataras_picks, ticker1_df.columns)\n",
    "columns = []\n",
    "for x in mdex:\n",
    " columns.append(x)\n",
    "sim_data.columns = pd.MultiIndex.from_tuples(columns) \n",
    "print('Our SmartFolio analyzer is telling us these are the optimal weights for each of Cryptaras picks:')\n",
    "print('')\n",
    "print('Smartfolio Weights:')\n",
    "smartfolio_weights.head()"
   ]
  },
  {
   "cell_type": "code",
   "execution_count": null,
   "id": "9f446390-7620-421b-9163-da4dd914b80f",
   "metadata": {},
   "outputs": [],
   "source": [
    "testing = smartfolio_weights.iloc[0][0]\n",
    "type(testing)"
   ]
  },
  {
   "cell_type": "code",
   "execution_count": null,
   "id": "120c4904",
   "metadata": {},
   "outputs": [],
   "source": [
    "print(f'Now that we know exactly how to pool your {investment} investment , lets run a Monte Carlo Simulation to project your future returns')\n",
    "print(f'')\n",
    "\n",
    "MC_even_dist = MCSimulation(\n",
    "    portfolio_data = sim_data, \n",
    "    weights = [smartfolio_weights.iloc[0][0], smartfolio_weights.iloc[0][1], smartfolio_weights.iloc[0][2], smartfolio_weights.iloc[0][3], smartfolio_weights.iloc[0][4]],\n",
    "    num_simulation=100,\n",
    "    num_trading_days = 126\n",
    ")\n",
    "cumula_return = MC_even_dist.calc_cumulative_return()\n",
    "cumula_return.to_csv('mc_df.csv')"
   ]
  },
  {
   "cell_type": "code",
   "execution_count": null,
   "id": "ae494330",
   "metadata": {
    "tags": []
   },
   "outputs": [],
   "source": [
    "cumula_return = MC_even_dist.calc_cumulative_return()\n",
    "simulated_returns_data = {\n",
    "    \"mean\": list(MC_even_dist.simulated_return.mean(axis=1)),\n",
    "    \"median\": list(MC_even_dist.simulated_return.median(axis=1)),\n",
    "    \"min\": list(MC_even_dist.simulated_return.min(axis=1)),\n",
    "    \"max\": list(MC_even_dist.simulated_return.max(axis=1))\n",
    "}\n",
    "df_simulated_returns = pd.DataFrame(simulated_returns_data)\n",
    "df_simulated_returns.head()\n",
    "df_simulated_returns.to_csv('mc_stats.csv')\n",
    "crypto_pick_returns.head()"
   ]
  },
  {
   "cell_type": "code",
   "execution_count": null,
   "id": "35f0c451-07d3-4997-8d04-365b985df0ab",
   "metadata": {},
   "outputs": [],
   "source": [
    "#Format dataset for Dashboard visualization and save to csv\n",
    "\n",
    "#Recall Cryptaras picks from above and run for loop to pull in historical prices\n",
    "my_crypto_portfolio = crypataras_picks\n",
    "dashboard_df = pd.DataFrame()\n",
    "for ticker in my_crypto_portfolio:\n",
    "    data = tv.get_hist(\n",
    "        symbol=ticker,\n",
    "        exchange=exchange,\n",
    "        interval=Interval.in_daily,n_bars=1000)\n",
    "    dashboard_df = dashboard_df.append(data)\n",
    "    \n",
    "    \n",
    "#Adjust index from datetime to date to remove timestamp\n",
    "dashboard_df.index = pd.to_datetime(dashboard_df.index, errors='coerce').date\n",
    "\n",
    "#Divide volume column by 1,000,000 to remove scientific notation in volume column\n",
    "#ONLY RUN THIS ONCE - has compounding affect on volume column\n",
    "dashboard_df['volume'] = (dashboard_df['volume'].astype(float)/1000).round(4).astype(float)\n",
    "\n",
    "dashboard_df.to_csv('daily_ohlc.csv')"
   ]
  },
  {
   "cell_type": "code",
   "execution_count": null,
   "id": "cfdc4dab-ddfb-44e5-b993-0f288aa3d72e",
   "metadata": {},
   "outputs": [],
   "source": [
    "logging.basicConfig(level=logging.DEBUG)\n",
    "tv = TvDatafeed(tradev_id, tradev_secret_key, chromedriver_path=None)"
   ]
  },
  {
   "cell_type": "code",
   "execution_count": null,
   "id": "89a665b4-f178-4db7-803f-5d28f3a873cd",
   "metadata": {},
   "outputs": [],
   "source": [
    "#Format dataset for Dashboard visualization and save to csv\n",
    "\n",
    "#Recall Cryptaras picks from above and run for loop to pull in historical prices\n",
    "df_1_crypto = pd.DataFrame()\n",
    "data_1 = tv.get_hist(symbol=crypataras_picks[0],exchange=exchange,interval=Interval.in_daily,n_bars=1000)\n",
    "df_1_crypto = df_1_crypto.append(data_1)\n",
    "    \n",
    "    \n",
    "#Adjust index from datetime to date to remove timestamp\n",
    "df_1_crypto.index = pd.to_datetime(df_1_crypto.index, errors='coerce').date\n",
    "\n",
    "#Divide volume column by 1,000,000 to remove scientific notation in volume column\n",
    "#ONLY RUN THIS ONCE - has compounding affect on volume column\n",
    "df_1_crypto['volume'] = (df_1_crypto['volume'].astype(float)/1000).round(4).astype(float)\n",
    "\n",
    "df_1_crypto.to_csv('ticker_1.csv')"
   ]
  },
  {
   "cell_type": "code",
   "execution_count": null,
   "id": "f009401c-3635-4d6c-a202-fa2d4e087794",
   "metadata": {},
   "outputs": [],
   "source": [
    "#Format dataset for Dashboard visualization and save to csv\n",
    "\n",
    "#Recall Cryptaras picks from above and run for loop to pull in historical prices\n",
    "df_2_crypto = pd.DataFrame()\n",
    "data_2 = tv.get_hist(symbol=crypataras_picks[1],exchange=exchange,interval=Interval.in_daily,n_bars=1000)\n",
    "df_2_crypto = df_2_crypto.append(data_2)\n",
    "    \n",
    "    \n",
    "#Adjust index from datetime to date to remove timestamp\n",
    "df_2_crypto.index = pd.to_datetime(df_2_crypto.index, errors='coerce').date\n",
    "\n",
    "#Divide volume column by 1,000,000 to remove scientific notation in volume column\n",
    "#ONLY RUN THIS ONCE - has compounding affect on volume column\n",
    "df_2_crypto['volume'] = (df_2_crypto['volume'].astype(float)/1000).round(4).astype(float)\n",
    "\n",
    "df_2_crypto.to_csv('ticker_2.csv')"
   ]
  },
  {
   "cell_type": "code",
   "execution_count": null,
   "id": "7e40ba31-2e2c-49ac-ac1a-61527d2495ad",
   "metadata": {},
   "outputs": [],
   "source": [
    "#Format dataset for Dashboard visualization and save to csv\n",
    "\n",
    "#Recall Cryptaras picks from above and run for loop to pull in historical prices\n",
    "df_3_crypto = pd.DataFrame()\n",
    "data_3 = tv.get_hist(symbol=crypataras_picks[2],exchange=exchange,interval=Interval.in_daily,n_bars=1000)\n",
    "df_3_crypto = df_3_crypto.append(data_3)\n",
    "    \n",
    "    \n",
    "#Adjust index from datetime to date to remove timestamp\n",
    "df_3_crypto.index = pd.to_datetime(df_3_crypto.index, errors='coerce').date\n",
    "\n",
    "#Divide volume column by 1,000,000 to remove scientific notation in volume column\n",
    "#ONLY RUN THIS ONCE - has compounding affect on volume column\n",
    "df_3_crypto['volume'] = (df_3_crypto['volume'].astype(float)/1000).round(4).astype(float)\n",
    "\n",
    "df_3_crypto.to_csv('ticker_3.csv')"
   ]
  },
  {
   "cell_type": "code",
   "execution_count": null,
   "id": "635ffe9e-8b00-463b-b95a-c99b58daba65",
   "metadata": {},
   "outputs": [],
   "source": [
    "#Format dataset for Dashboard visualization and save to csv\n",
    "\n",
    "#Recall Cryptaras picks from above and run for loop to pull in historical prices\n",
    "df_4_crypto = pd.DataFrame()\n",
    "data_4 = tv.get_hist(symbol=crypataras_picks[3],exchange=exchange,interval=Interval.in_daily,n_bars=1000)\n",
    "df_4_crypto = df_4_crypto.append(data_4)\n",
    "    \n",
    "    \n",
    "#Adjust index from datetime to date to remove timestamp\n",
    "df_4_crypto.index = pd.to_datetime(df_4_crypto.index, errors='coerce').date\n",
    "\n",
    "#Divide volume column by 1,000,000 to remove scientific notation in volume column\n",
    "#ONLY RUN THIS ONCE - has compounding affect on volume column\n",
    "df_4_crypto['volume'] = (df_4_crypto['volume'].astype(float)/1000).round(4).astype(float)\n",
    "\n",
    "df_4_crypto.to_csv('ticker_4.csv')"
   ]
  },
  {
   "cell_type": "code",
   "execution_count": null,
   "id": "4f8d163d-3b75-400c-9cc7-7da64deaaaff",
   "metadata": {},
   "outputs": [],
   "source": [
    "#Format dataset for Dashboard visualization and save to csv\n",
    "\n",
    "#Recall Cryptaras picks from above and run for loop to pull in historical prices\n",
    "df_5_crypto = pd.DataFrame()\n",
    "data_5 = tv.get_hist(symbol=crypataras_picks[4],exchange=exchange,interval=Interval.in_daily,n_bars=1000)\n",
    "df_5_crypto = df_5_crypto.append(data_5)\n",
    "    \n",
    "    \n",
    "#Adjust index from datetime to date to remove timestamp\n",
    "df_5_crypto.index = pd.to_datetime(df_5_crypto.index, errors='coerce').date\n",
    "\n",
    "#Divide volume column by 1,000,000 to remove scientific notation in volume column\n",
    "#ONLY RUN THIS ONCE - has compounding affect on volume column\n",
    "df_5_crypto['volume'] = (df_5_crypto['volume'].astype(float)/1000).round(4).astype(float)\n",
    "\n",
    "df_5_crypto.to_csv('ticker_5.csv')"
   ]
  },
  {
   "cell_type": "code",
   "execution_count": null,
   "id": "6df2ead9-c387-4f12-b6d3-55cb5f0aef1d",
   "metadata": {},
   "outputs": [],
   "source": []
  }
 ],
 "metadata": {
  "kernelspec": {
   "display_name": "Python 3 (ipykernel)",
   "language": "python",
   "name": "python3"
  },
  "language_info": {
   "codemirror_mode": {
    "name": "ipython",
    "version": 3
   },
   "file_extension": ".py",
   "mimetype": "text/x-python",
   "name": "python",
   "nbconvert_exporter": "python",
   "pygments_lexer": "ipython3",
   "version": "3.9.6"
  }
 },
 "nbformat": 4,
 "nbformat_minor": 5
}
