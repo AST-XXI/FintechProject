{
 "cells": [
  {
   "cell_type": "code",
   "execution_count": 1,
   "id": "bb393121-d4db-4310-8ff9-98212c4c4cbf",
   "metadata": {},
   "outputs": [],
   "source": [
    "from tvDatafeed import TvDatafeed, Interval\n",
    "import pandas as pd\n",
    "import datetime\n",
    "import logging\n",
    "import os\n",
    "import requests\n",
    "import numpy as np\n",
    "from dotenv import load_dotenv\n",
    "from MCForecastTools import MCSimulation\n",
    "\n",
    "%matplotlib inline"
   ]
  },
  {
   "cell_type": "code",
   "execution_count": 2,
   "id": "bb0798d5-8038-4735-aaf9-696fd2ea004f",
   "metadata": {},
   "outputs": [],
   "source": [
    "load_dotenv()\n",
    "tradev_id = os.getenv(\"username\")\n",
    "tradev_secret_key =os.getenv(\"password\")"
   ]
  },
  {
   "cell_type": "code",
   "execution_count": 3,
   "id": "13d43fe9-e359-45c4-abc4-34bcf9275585",
   "metadata": {},
   "outputs": [
    {
     "name": "stderr",
     "output_type": "stream",
     "text": [
      "WARNING:tvDatafeed.main:you are using nologin method, data you access may be limited\n"
     ]
    }
   ],
   "source": [
    "logging.basicConfig(level=logging.DEBUG)\n",
    "tv=TvDatafeed(auto_login=True)"
   ]
  },
  {
   "cell_type": "code",
   "execution_count": 11,
   "id": "04d785ad-9e52-4651-b456-de2ee5bf5d30",
   "metadata": {},
   "outputs": [
    {
     "data": {
      "text/plain": [
       "['AVAXUSD', 'CRVUSD', 'BTCUSD', 'ETHUSD']"
      ]
     },
     "execution_count": 11,
     "metadata": {},
     "output_type": "execute_result"
    }
   ],
   "source": [
    "my_crypto_portfolio = ['AVAXUSD', 'CRVUSD', 'BTCUSD', 'ETHUSD' ]\n",
    "my_crypto_portfolio"
   ]
  },
  {
   "cell_type": "code",
   "execution_count": 12,
   "id": "2f857788-69f8-4047-9e26-2a57ac902558",
   "metadata": {},
   "outputs": [
    {
     "ename": "NameError",
     "evalue": "name 'df_daily' is not defined",
     "output_type": "error",
     "traceback": [
      "\u001b[1;31m---------------------------------------------------------------------------\u001b[0m",
      "\u001b[1;31mNameError\u001b[0m                                 Traceback (most recent call last)",
      "\u001b[1;32m~\\AppData\\Local\\Temp/ipykernel_11588/1958518785.py\u001b[0m in \u001b[0;36m<module>\u001b[1;34m\u001b[0m\n\u001b[0;32m      9\u001b[0m     )\n\u001b[0;32m     10\u001b[0m     \u001b[0mdf_daily\u001b[0m \u001b[1;33m=\u001b[0m \u001b[0mdf_daily\u001b[0m\u001b[1;33m.\u001b[0m\u001b[0mappend\u001b[0m\u001b[1;33m(\u001b[0m\u001b[0mdata\u001b[0m\u001b[1;33m)\u001b[0m\u001b[1;33m\u001b[0m\u001b[1;33m\u001b[0m\u001b[0m\n\u001b[1;32m---> 11\u001b[1;33m \u001b[0mdf_daily\u001b[0m\u001b[1;33m.\u001b[0m\u001b[0mhead\u001b[0m\u001b[1;33m(\u001b[0m\u001b[1;33m)\u001b[0m\u001b[1;33m\u001b[0m\u001b[1;33m\u001b[0m\u001b[0m\n\u001b[0m",
      "\u001b[1;31mNameError\u001b[0m: name 'df_daily' is not defined"
     ]
    }
   ],
   "source": [
    "my_crypto_portfolio= pd.DataFrame()\n",
    "exchange = 'BINANCE'\n",
    "\n",
    "for ticker in my_crypto_portfolio:\n",
    "    data = tv.get_hist(\n",
    "        symbol = ticker,\n",
    "        exchange = exchange,\n",
    "        interval = Interval.in_daily, n_bars=500\n",
    "    )\n",
    "    df_daily = df_daily.append(data)\n",
    "df_daily.head()           "
   ]
  },
  {
   "cell_type": "code",
   "execution_count": 6,
   "id": "642c9726-2fa9-454f-83c2-d95ff9b5e19b",
   "metadata": {},
   "outputs": [
    {
     "ename": "NameError",
     "evalue": "name 'df_daily' is not defined",
     "output_type": "error",
     "traceback": [
      "\u001b[1;31m---------------------------------------------------------------------------\u001b[0m",
      "\u001b[1;31mNameError\u001b[0m                                 Traceback (most recent call last)",
      "\u001b[1;32m~\\AppData\\Local\\Temp/ipykernel_11588/3568314926.py\u001b[0m in \u001b[0;36m<module>\u001b[1;34m\u001b[0m\n\u001b[1;32m----> 1\u001b[1;33m \u001b[0mavax_df\u001b[0m \u001b[1;33m=\u001b[0m \u001b[0mdf_daily\u001b[0m\u001b[1;33m.\u001b[0m\u001b[0mloc\u001b[0m\u001b[1;33m[\u001b[0m\u001b[0mdf_daily\u001b[0m\u001b[1;33m.\u001b[0m\u001b[0msymbol\u001b[0m\u001b[1;33m==\u001b[0m\u001b[1;34m'BINANCE:AVAXUSD'\u001b[0m\u001b[1;33m]\u001b[0m\u001b[1;33m\u001b[0m\u001b[1;33m\u001b[0m\u001b[0m\n\u001b[0m\u001b[0;32m      2\u001b[0m \u001b[0mcrv_df\u001b[0m \u001b[1;33m=\u001b[0m \u001b[0mdf_daily\u001b[0m\u001b[1;33m.\u001b[0m\u001b[0mloc\u001b[0m\u001b[1;33m[\u001b[0m\u001b[0mdf_daily\u001b[0m\u001b[1;33m.\u001b[0m\u001b[0msymbol\u001b[0m\u001b[1;33m==\u001b[0m\u001b[1;34m'BINANCE:CRVUSD'\u001b[0m\u001b[1;33m]\u001b[0m\u001b[1;33m\u001b[0m\u001b[1;33m\u001b[0m\u001b[0m\n\u001b[0;32m      3\u001b[0m \u001b[0mbtc_df\u001b[0m \u001b[1;33m=\u001b[0m \u001b[0mdf_daily\u001b[0m\u001b[1;33m.\u001b[0m\u001b[0mloc\u001b[0m\u001b[1;33m[\u001b[0m\u001b[0mdf_daily\u001b[0m\u001b[1;33m.\u001b[0m\u001b[0msymbol\u001b[0m\u001b[1;33m==\u001b[0m\u001b[1;34m'BINANCE:BTCUSD'\u001b[0m\u001b[1;33m]\u001b[0m\u001b[1;33m\u001b[0m\u001b[1;33m\u001b[0m\u001b[0m\n\u001b[0;32m      4\u001b[0m \u001b[0meth_df\u001b[0m \u001b[1;33m=\u001b[0m \u001b[0mdf_daily\u001b[0m\u001b[1;33m.\u001b[0m\u001b[0mloc\u001b[0m\u001b[1;33m[\u001b[0m\u001b[0mdf_daily\u001b[0m\u001b[1;33m.\u001b[0m\u001b[0msymbol\u001b[0m\u001b[1;33m==\u001b[0m\u001b[1;34m'BINANCE:ETHUSD'\u001b[0m\u001b[1;33m]\u001b[0m\u001b[1;33m\u001b[0m\u001b[1;33m\u001b[0m\u001b[0m\n\u001b[0;32m      5\u001b[0m \u001b[0mraw_data\u001b[0m \u001b[1;33m=\u001b[0m \u001b[0mpd\u001b[0m\u001b[1;33m.\u001b[0m\u001b[0mconcat\u001b[0m\u001b[1;33m(\u001b[0m\u001b[1;33m[\u001b[0m\u001b[0mavax_df\u001b[0m\u001b[1;33m,\u001b[0m \u001b[0mcrv_df\u001b[0m\u001b[1;33m,\u001b[0m \u001b[0mbtc_df\u001b[0m\u001b[1;33m,\u001b[0m \u001b[0meth_df\u001b[0m\u001b[1;33m]\u001b[0m\u001b[1;33m,\u001b[0m \u001b[0maxis\u001b[0m\u001b[1;33m=\u001b[0m\u001b[1;34m'columns'\u001b[0m\u001b[1;33m,\u001b[0m \u001b[0mjoin\u001b[0m\u001b[1;33m=\u001b[0m\u001b[1;34m'inner'\u001b[0m\u001b[1;33m)\u001b[0m\u001b[1;33m\u001b[0m\u001b[1;33m\u001b[0m\u001b[0m\n",
      "\u001b[1;31mNameError\u001b[0m: name 'df_daily' is not defined"
     ]
    }
   ],
   "source": [
    "avax_df = df_daily.loc[df_daily.symbol=='BINANCE:AVAXUSD']\n",
    "crv_df = df_daily.loc[df_daily.symbol=='BINANCE:CRVUSD']\n",
    "btc_df = df_daily.loc[df_daily.symbol=='BINANCE:BTCUSD']\n",
    "eth_df = df_daily.loc[df_daily.symbol=='BINANCE:ETHUSD']\n",
    "raw_data = pd.concat([avax_df, crv_df, btc_df, eth_df], axis='columns', join='inner')\n",
    "#raw_data\n",
    "# May need ways to reshape data automatically so we wont need to create a new dataframe and concat for bigger portfolios"
   ]
  },
  {
   "cell_type": "code",
   "execution_count": null,
   "id": "f2e4e8ac-b4ed-4e64-81cb-1f9d5f3111e5",
   "metadata": {},
   "outputs": [],
   "source": [
    "#columns = [('AVAXUSD', 'symbol'), ('AVAXUSD', 'open'), ('AVAXUSD', 'high'), ('AVAXUSD', 'low'), ('AVAXUSD', 'close'), ('AVAXUSD', 'volume'),\n",
    "#           ('CRVUSD', 'symbol'), ('CRVUSD', 'open'), ('CRVUSD', 'high'), ('CRVUSD', 'low'), ('CRVUSD', 'close'), ('CRVUSD', 'volume'), \n",
    "#           ('BTCUSD', 'symbol'), ('BTCUSD', 'open'), ('BTCUSD', 'high'), ('BTCUSD', 'low'), ('BTCUSD', 'close'), ('BTCUSD', 'volume'),\n",
    "#           ('ETHUSD', 'symbol'), ('ETHUSD', 'open'), ('ETHUSD', 'high'), ('ETHUSD', 'low'), ('ETHUSD', 'close'), ('ETHUSD', 'volume')]\n",
    "\n",
    "#raw_data.columns = pd.MultiIndex.from_tuples(columns)\n",
    "raw_data.head()\n",
    "                      "
   ]
  },
  {
   "cell_type": "code",
   "execution_count": null,
   "id": "7c8b5ca2-d853-41b7-9e8a-33100d5639e3",
   "metadata": {},
   "outputs": [],
   "source": [
    "MC_even_dist = MCSimulation(\n",
    "    portfolio_data = raw_data, \n",
    "    weights = [.25, .25, .25, .25],\n",
    "    num_simulation=250,\n",
    "    num_trading_days = 252*3\n",
    ")"
   ]
  },
  {
   "cell_type": "code",
   "execution_count": null,
   "id": "a89512dd-b917-4124-be7c-ba68882d6c84",
   "metadata": {},
   "outputs": [],
   "source": [
    "MC_even_dist.calc_cumulative_return()"
   ]
  },
  {
   "cell_type": "code",
   "execution_count": null,
   "id": "271c53d1-37a8-4fac-95bf-bb07da1eba00",
   "metadata": {},
   "outputs": [],
   "source": [
    "[(my_por\n",
    "\n",
    "\n",
    "#tot_portfolio = raw_data\n",
    "#tot_portfolio.drop(columns = ['open', 'high', 'low', 'volume'], inplace = True)\n",
    "#tot_portfolio"
   ]
  },
  {
   "cell_type": "code",
   "execution_count": null,
   "id": "9669b325-828c-4684-b967-893c74870909",
   "metadata": {},
   "outputs": [],
   "source": [
    "raw_data.head()"
   ]
  },
  {
   "cell_type": "code",
   "execution_count": null,
   "id": "43d69cb0-4eea-4a7b-9277-2915da6985dd",
   "metadata": {},
   "outputs": [],
   "source": [
    "tot_portfolio.columns = ['symbol', 'AVAX Close', 'symbol', 'CRV Close', 'symbol', 'BTC Close', 'symbol', 'ETH Close']\n",
    "tot_portfolio.drop(columns = ['symbol'], inplace = True)\n",
    "tot_portfolio\n",
    "\n",
    "# How would I pull and rename close columns automatically? Concat w/ loop through ticker list that looks for the word close?"
   ]
  },
  {
   "cell_type": "code",
   "execution_count": null,
   "id": "8a8b9548-2909-4952-b201-a9d46845bf99",
   "metadata": {},
   "outputs": [],
   "source": [
    "daily_return = tot_portfolio.pct_change()\n",
    "volatility = daily_return.std()*np.sqrt(252)\n",
    "daily_return"
   ]
  },
  {
   "cell_type": "code",
   "execution_count": null,
   "id": "7f49cc2f-720a-45a8-8e2a-6a3efb8b9354",
   "metadata": {},
   "outputs": [],
   "source": [
    "correlation = tot_portfolio.corr()\n",
    "correlation"
   ]
  },
  {
   "cell_type": "code",
   "execution_count": null,
   "id": "008b60e9-2241-454c-a9c5-2e3b6e0d218c",
   "metadata": {},
   "outputs": [],
   "source": [
    "raw_data.columns()"
   ]
  },
  {
   "cell_type": "code",
   "execution_count": null,
   "id": "e1da4996-bef0-4509-823b-975d9f691d1f",
   "metadata": {},
   "outputs": [],
   "source": []
  }
 ],
 "metadata": {
  "kernelspec": {
   "display_name": "Python 3 (ipykernel)",
   "language": "python",
   "name": "python3"
  },
  "language_info": {
   "codemirror_mode": {
    "name": "ipython",
    "version": 3
   },
   "file_extension": ".py",
   "mimetype": "text/x-python",
   "name": "python",
   "nbconvert_exporter": "python",
   "pygments_lexer": "ipython3",
   "version": "3.9.6"
  }
 },
 "nbformat": 4,
 "nbformat_minor": 5
}
