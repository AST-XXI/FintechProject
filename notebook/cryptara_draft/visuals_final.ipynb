{
 "cells": [
  {
   "cell_type": "code",
   "execution_count": null,
   "id": "86787244",
   "metadata": {},
   "outputs": [],
   "source": [
    "#The name of this project is 'Cryptara' and the objective of this script is to build a Robo-advisor\n",
    "name = input(\"Welcome Crypto Investor, what is your name?\")"
   ]
  },
  {
   "cell_type": "code",
   "execution_count": null,
   "id": "18347d0a-b7ca-4de5-af04-e6530b028ed2",
   "metadata": {},
   "outputs": [],
   "source": [
    "#Introduction. Have user input their desired upload option. Options include importing a csv or inputting individual tickers.\n",
    "if name != \"\" or name == None:\n",
    "    # Store user's cash investment.\n",
    "    print(f\"Hello {name}, my name is Cryptara. I make your savings go to good use in the Crypto market..\")\n",
    "    print(f\"Tell me, do you have a csv file to upload or would you rather manually input your crypto tickers below?\")\n",
    "    print('')\n",
    "    data_source=input(\"type: 'import' OR 'input'\")\n",
    "    print(f\"{data_source} option has been selected..\")\n",
    "    print(f\"\")\n",
    "    investment=input(\"how much cash would you like to invest?\")\n",
    "    print('')\n",
    "    print(f'Once I have your list, This process starts automatically..')\n",
    "    print(f'I use data from the TradingView API and filter your list, then I apply a built-in technical analysis function to determine which cryptos are good picks at this point in time')\n",
    "    print(f\"Then, I run hundreds of simulations to determine optimal weights for each crypto selection\")\n",
    "    print(f\"From there, I will scan multiple exchanges to determine where you could get the most volume for the dollar at that particular time '(based on cross-exchange rates)'\")\n",
    "    print(f\"Lastly, I will present to you an interactive Dashboard based on future projections..\")"
   ]
  },
  {
   "cell_type": "code",
   "execution_count": null,
   "id": "284c97fc",
   "metadata": {},
   "outputs": [],
   "source": [
    "#User input validation\n",
    "if data_source == 'import':\n",
    "    from pathlib import Path\n",
    "    ticker_data = Path(\"data_files/crypto_tickers1.csv\")\n",
    "    print(f'Thanks for using our csv file import option! Let me look through your list and see if I can validate the data..')\n",
    "if data_source == 'input':\n",
    "    ticker_1=input(\"Tell me the first ticker\")\n",
    "    ticker_2=input(\"Tell me the second ticker\")\n",
    "    ticker_3=input(\"Tell me the third ticker\")\n",
    "    ticker_4=input(\"Tell me the fourth ticker\")\n",
    "    ticker_5=input(\"Tell me the fifth ticker\")\n",
    "    ticker_6=input(\"Tell me the sixth ticker\")\n",
    "    ticker_7=input(\"Tell me the seventh ticker\")\n",
    "    ticker_8=input(\"Tell me the eigth ticker\")\n",
    "    ticker_9=input(\"Tell me the ninth ticker\")\n",
    "    ticker_10=input(\"Tell me the tenth ticker\")\n",
    "    print(f'Got it. Give me a minute to make sure these tickers are valid')\n",
    "if data_source != 'import':\n",
    "    if data_source != 'input':\n",
    "        data_source = input('Please try again..')"
   ]
  },
  {
   "cell_type": "code",
   "execution_count": null,
   "id": "4b4c633d",
   "metadata": {},
   "outputs": [],
   "source": [
    "#Import libraries and dependencies\n",
    "from dotenv import load_dotenv\n",
    "from itertools import product\n",
    "import datetime\n",
    "import os\n",
    "import logging\n",
    "import pandas as pd\n",
    "import numpy as np\n",
    "from pathlib import Path\n",
    "%matplotlib inline"
   ]
  },
  {
   "cell_type": "code",
   "execution_count": null,
   "id": "70f11973",
   "metadata": {},
   "outputs": [],
   "source": [
    "#Create TradingView variable and activate env variables\n",
    "from tvDatafeed import TvDatafeed,Interval\n",
    "load_dotenv()\n",
    "tradev_id = os.getenv(\"username\")\n",
    "tradev_secret_key = os.getenv(\"password\")"
   ]
  },
  {
   "cell_type": "code",
   "execution_count": null,
   "id": "ea679333",
   "metadata": {
    "tags": []
   },
   "outputs": [],
   "source": [
    "#Log into TradingView\n",
    "logging.basicConfig(level=logging.DEBUG)\n",
    "tv = TvDatafeed(tradev_id, tradev_secret_key, chromedriver_path=None)\n",
    "print('Connected to TradingView..')"
   ]
  },
  {
   "cell_type": "code",
   "execution_count": null,
   "id": "5df44dd8",
   "metadata": {},
   "outputs": [],
   "source": [
    "from pathlib import Path\n",
    "ticker_data = Path(\"data_files/crypto_tickers1.csv\")\n",
    "ticker= pd.read_csv(ticker_data, header=None)\n",
    "ticker_df = pd.DataFrame(ticker)\n",
    "my_crypto_list = ticker_df[0].tolist()\n",
    "screener=\"CRYPTO\"\n",
    "exchange=\"BINANCE\"\n",
    "df_daily = pd.DataFrame()\n",
    "print(f\"Nice work! No issues have been identified, let me look into these and get back to you shortly...\")"
   ]
  },
  {
   "cell_type": "code",
   "execution_count": null,
   "id": "8704e9fb",
   "metadata": {
    "tags": []
   },
   "outputs": [],
   "source": [
    "#Get historical pricing information for total population\n",
    "print(f'Extracting price history..')\n",
    "for ticker in my_crypto_list:\n",
    "    data = tv.get_hist(\n",
    "        symbol=ticker,\n",
    "        exchange=exchange,\n",
    "        interval=Interval.in_daily,n_bars=500)\n",
    "    df_daily = df_daily.append(data)\n",
    "print(f'finished extracting historical prices..')"
   ]
  },
  {
   "cell_type": "code",
   "execution_count": null,
   "id": "7d63eb8d",
   "metadata": {
    "tags": []
   },
   "outputs": [],
   "source": [
    "#Grab indicator recommendations from Trading View API\n",
    "print(f'Risk protocol: Filtering by analyst recommendations')\n",
    "from tradingview_ta import TA_Handler, Interval, Exchange\n",
    "staging_df = pd.DataFrame()\n",
    "ticker_df_daily = pd.DataFrame()\n",
    "for ticker in my_crypto_list:\n",
    "    try:\n",
    "        data = (TA_Handler(symbol=ticker,screener=screener,\n",
    "                           exchange=exchange,interval=Interval.INTERVAL_1_DAY ).get_analysis().summary)\n",
    "        symbol = ticker\n",
    "        staging_df = list(data.values())\n",
    "        final_df = (pd.DataFrame((data), index={ticker}))\n",
    "        ticker_df_daily = ticker_df_daily.append(final_df)\n",
    "    except:\n",
    "        pass\n",
    "print(f'finished extracting analyst recommendations..')"
   ]
  },
  {
   "cell_type": "code",
   "execution_count": null,
   "id": "ddd4c38c",
   "metadata": {},
   "outputs": [],
   "source": [
    "#Filter imported list by analyst recommendations\n",
    "print(f'We checked what the top analysts are saying about each crypto in your list')\n",
    "print(f'To reduce program speed, Cryptara will only analyze cryptos that meet a BUY or NEUTRAL classification')\n",
    "initial_drop = ticker_df_daily.loc[ticker_df_daily['RECOMMENDATION']=='SELL']\n",
    "initial_pass_prime = ticker_df_daily.loc[ticker_df_daily['RECOMMENDATION']=='BUY']\n",
    "initial_pass_subprime = ticker_df_daily.loc[ticker_df_daily['RECOMMENDATION']=='NEUTRAL']\n",
    "#initial_drop = initial_indicator['RECOMMENDATION'].str.contains('SELL')\n",
    "buy_count = initial_pass_prime['RECOMMENDATION'].count() + initial_pass_subprime['RECOMMENDATION'].count()\n",
    "sell_count = initial_drop['RECOMMENDATION'].count()\n",
    "print('Here are the initial findings:')\n",
    "print('')\n",
    "print(f'It is not a good time to invest in {sell_count} of the cryptos from your list')\n",
    "print(f'These {sell_count} cryptos are not in a buying position')\n",
    "print(initial_drop['RECOMMENDATION'])\n",
    "print(f'These {sell_count} cryptos have been dropped from consideration..')\n",
    "print('')\n",
    "print('')\n",
    "print(f'Moving on, our initial inidicator data suggest {buy_count} cryptos from your list should be considered for further analysis:')\n",
    "print('Here they are:')\n",
    "print('Our Prime candidates that are in buy positions are:')\n",
    "print(initial_pass_prime['RECOMMENDATION'])\n",
    "print('')\n",
    "print('And these are neutral for now, we can resverve for later if we need additional cryptos for analysis')\n",
    "print(initial_pass_subprime['RECOMMENDATION'])"
   ]
  },
  {
   "cell_type": "code",
   "execution_count": null,
   "id": "0da5989a",
   "metadata": {},
   "outputs": [],
   "source": [
    "#Extract index values for the tickers that are prime and subprime and format data for further analysis. \n",
    "print(f'Nice work, {name}, you found {buy_count} cryptos that might be good investments this week!')\n",
    "initial_pass_prime.reset_index(inplace=True)\n",
    "initial_pass_prime = initial_pass_prime['index']\n",
    "initial_pass_subprime.reset_index(inplace=True)\n",
    "initial_pass_subprime = initial_pass_subprime['index']\n",
    "staging_df = pd.DataFrame()\n",
    "staging_df1 = pd.DataFrame()\n",
    "prime_df = pd.DataFrame()\n",
    "subprime_df = pd.DataFrame()\n",
    "print(f'Lets see what Cryptara thinks about these cryptos..')\n",
    "print(f'')\n"
   ]
  },
  {
   "cell_type": "code",
   "execution_count": null,
   "id": "60c8c962",
   "metadata": {
    "tags": []
   },
   "outputs": [],
   "source": [
    "#Run a for loop through prime and subprime cryptos and pull in all oscilattor data for technical analysis\n",
    "#Prime cryptos\n",
    "print(f'Extracting oscillator data from TradingView for built in technical analysis test...')\n",
    "for ticker in initial_pass_prime:\n",
    "    try:\n",
    "        data = (TA_Handler(symbol=ticker,screener=screener,\n",
    "                           exchange=exchange,interval=Interval.INTERVAL_1_DAY ).get_analysis().indicators)\n",
    "        symbol = ticker\n",
    "        staging_df = list(data.values())\n",
    "        final_df = (pd.DataFrame((data), index={ticker}))\n",
    "        prime_df = prime_df.append(final_df)\n",
    "    except:\n",
    "        pass\n",
    "    \n",
    "#Sub-prime cryptos\n",
    "for ticker in initial_pass_subprime:\n",
    "    try:\n",
    "        data = (TA_Handler(symbol=ticker,screener=screener,\n",
    "                           exchange=exchange,interval=Interval.INTERVAL_1_DAY ).get_analysis().indicators)\n",
    "        symbol = ticker\n",
    "        staging_df1 = list(data.values())\n",
    "        final_df = (pd.DataFrame((data), index={ticker}))\n",
    "        subprime_df = subprime_df.append(final_df)\n",
    "    except:\n",
    "        pass\n",
    "print('Extracted oscillator data, initializing technical analysis test on key trend indicators..')"
   ]
  },
  {
   "cell_type": "code",
   "execution_count": null,
   "id": "d4de7643",
   "metadata": {
    "tags": []
   },
   "outputs": [],
   "source": [
    "#Extract oscillator information for all cryptos that meet the 'buy threshold'  \n",
    "crypataras_picks = []\n",
    "print(f'Determining which cryptos are in an optimal buying position based on trend indicators...')\n",
    "print('Relative Strength Index (RSI), Moving Average Covergence and Divergence (MACD), Stachator positioning and the Awesome Oscillators')\n",
    "print(f'By doing this, we can see which cryptos are currently overbought or oversold based on historical prices..')\n",
    "print(f'')\n",
    "def strong_performers():\n",
    "    for i, j in prime_df.iterrows():\n",
    "        if j['RSI'] > 45 and j['RSI'] < 90:\n",
    "            print(f'{i} has passed the rsi_test, moving to moving average covergence and divergence analysis..')\n",
    "            if j['MACD.macd'] > 0 and j['MACD.macd'] < 40:\n",
    "                print(f'{i} has passed our moving average covergence and divergence analysis, moving to stochator analysis..')\n",
    "                if j['Stoch.K'] > 35 and j['Stoch.K'] < 85:\n",
    "                    if j['Stoch.D'] > 40 and j['Stoch.D'] < 85:\n",
    "                        if j['Stoch.RSI.K'] > 30 and j['Stoch.RSI.K'] < 80:\n",
    "                            print(f'{i} has passed our multiple stochator analysis, testing the Awesome Oscillators..')\n",
    "                            if j['AO'] > 0 and j['AO'] < 55:\n",
    "                                if i not in crypataras_picks:\n",
    "                                    print(f'Crytara has selected {i} ')\n",
    "                                    crypataras_picks.append(i)\n",
    "                                \n",
    "    else:\n",
    "        print(f'FAIL! dropping crypto from further consideration..')\n",
    "\n",
    "strong_performers()\n",
    "initial_count = len(crypataras_picks)\n",
    "print(f'')\n",
    "print('Technical Analysis test is complete.')\n",
    "print('')\n",
    "print('Crptara has analyzed key technical indicators and suggest that the following crypto assets')\n",
    "print('are in optimal buying positions')\n",
    "print(f'Crytara chooses: {crypataras_picks}')"
   ]
  },
  {
   "cell_type": "code",
   "execution_count": null,
   "id": "2bded7c0",
   "metadata": {},
   "outputs": [],
   "source": [
    "print(f'{initial_count} tickers are in optimal buying positions..lets see if we have the minimum buy count of five..')\n",
    "print(f'')\n",
    "#Test if we have a minimum of five tickers for final analyses. \n",
    "if len(crypataras_picks) > 5:\n",
    "    print('Minimum requirements have been met')\n",
    "if len(crypataras_picks) < 5:\n",
    "    print('This program requires a minimum of five cryptos to run remaining analysis.')\n",
    "    computer_selection_1 = subprime_df.sample().reset_index()\n",
    "    ticker_random_1 = computer_selection_1.iloc[:, 0].tolist()\n",
    "    string=''.join([str(item) for item in ticker_random_1])\n",
    "    if string in crypataras_picks:\n",
    "        pass\n",
    "    else:\n",
    "        crypataras_picks.append(string)\n",
    "        print(f'added {string} from prime dataframe to meet minimum requirements')\n",
    "        \n",
    "if len(crypataras_picks) < 5:\n",
    "    print('This program requires a minimum of five cryptos to run remaining analysis.')\n",
    "    computer_selection_2 = subprime_df.sample().reset_index()\n",
    "    ticker_random_2 = computer_selection_2.iloc[:, 0].tolist()\n",
    "    string=''.join([str(item) for item in ticker_random_2])\n",
    "    if string in crypataras_picks:\n",
    "        pass\n",
    "    else:\n",
    "        crypataras_picks.append(string)\n",
    "        print(f'added {string} from prime dataframe to meet minimum requirements')\n",
    "        \n",
    "if len(crypataras_picks) < 5:\n",
    "    print('This program requires a minimum of five cryptos to run remaining analysis.')\n",
    "    computer_selection_3 = subprime_df.sample().reset_index()\n",
    "    ticker_random_3 = computer_selection_3.iloc[:, 0].tolist()\n",
    "    string=''.join([str(item) for item in ticker_random_3])\n",
    "    if string in crypataras_picks:\n",
    "        pass\n",
    "    else:\n",
    "        crypataras_picks.append(string)\n",
    "        print(f'added {string} from prime dataframe to meet minimum requirements')\n",
    "        \n",
    "if len(crypataras_picks) < 5:\n",
    "    print('This program requires a minimum of five cryptos to run remaining analysis. Importing random ticker from subprime dataframe..')\n",
    "    computer_selection_4 = subprime_df.sample().reset_index()\n",
    "    ticker_random_4 = computer_selection_4.iloc[:, 0].tolist()\n",
    "    string=''.join([str(item) for item in ticker_random_4])\n",
    "    if string in crypataras_picks:\n",
    "        pass\n",
    "    else:\n",
    "        crypataras_picks.append(string)\n",
    "        print(f'added {string} from prime dataframe to meet minimum requirements')\n",
    "\n",
    "print(f'')\n",
    "print(f'Here are the final Cryptara picks:')\n",
    "print(f'')\n",
    "crypataras_picks"
   ]
  },
  {
   "cell_type": "code",
   "execution_count": null,
   "id": "903873cf",
   "metadata": {},
   "outputs": [],
   "source": [
    "from tvDatafeed import TvDatafeed,Interval\n",
    "load_dotenv()\n",
    "tradev_id = os.getenv(\"username\")\n",
    "tradev_secret_key = os.getenv(\"password\")\n",
    "print(f'Gathering return data on Crypto picks..')\n",
    "logging.basicConfig(level=logging.DEBUG)\n",
    "tv = TvDatafeed(tradev_id, tradev_secret_key, chromedriver_path=None)"
   ]
  },
  {
   "cell_type": "code",
   "execution_count": null,
   "id": "98686172",
   "metadata": {},
   "outputs": [],
   "source": [
    "print(f'Extracting most recent prices..')\n",
    "final_crypto_df = pd.DataFrame()\n",
    "bars= 100\n",
    "for all_picks in crypataras_picks:\n",
    "    picks_df = tv.get_hist(symbol=all_picks,\n",
    "                       exchange=exchange,\n",
    "                       interval=Interval.in_daily,\n",
    "                       n_bars=bars)\n",
    "    final_crypto_df = final_crypto_df.append(picks_df)\n",
    "final_crypto_df.head(5)"
   ]
  },
  {
   "cell_type": "code",
   "execution_count": null,
   "id": "99ea6a85",
   "metadata": {},
   "outputs": [],
   "source": [
    "#Format dataframe.\n",
    "#Step 1: extract exchange and ticker from 'symbol' column into separate columns.\n",
    "final_df_cleaner = final_crypto_df\n",
    "final_df_cleaner[['exchange', 'ticker']] = final_df_cleaner['symbol'].str.split(':',expand=True)\n",
    "#Step 2: Extract ticker and close values, reset index\n",
    "final_df_cleaner = final_df_cleaner[['ticker','close']]\n",
    "final_df_cleaner = final_df_cleaner[['ticker','close']].reset_index()\n",
    "#Step3: Pivot data to make ticker values the column headers\n",
    "final_df_cleaner = final_df_cleaner.pivot(index='datetime',\n",
    "           columns='ticker',\n",
    "           values='close')\n",
    "#Step4: calculate return data\n",
    "print('Extracted historical returns into dataframe..')\n",
    "crypto_pick_returns = final_df_cleaner.pct_change().dropna()\n",
    "crypto_pick_returns.tail(5)"
   ]
  },
  {
   "cell_type": "code",
   "execution_count": null,
   "id": "f438c042",
   "metadata": {},
   "outputs": [],
   "source": [
    "#Step5: Calculate Cumulative Returns\n",
    "print('Calculated cumulative returns..')\n",
    "cumulative_daily_returns = (1 + crypto_pick_returns).cumprod() -1\n",
    "cumulative_daily_returns.tail(10)"
   ]
  },
  {
   "cell_type": "code",
   "execution_count": null,
   "id": "d228955d",
   "metadata": {},
   "outputs": [],
   "source": [
    "#Step5: Calculate Cumulative Returns\n",
    "print('Activating Cryptara Smartfolio')\n",
    "print('')\n",
    "print('Logging returns to normalize dataset..')\n",
    "log_returns= np.log(abs(cumulative_daily_returns))\n",
    "log_returns.tail()"
   ]
  },
  {
   "cell_type": "code",
   "execution_count": null,
   "id": "db8fd57c",
   "metadata": {},
   "outputs": [],
   "source": [
    "#Calculate volatility and \n",
    "print(f'Running multiple scenaries to determine appropriate weights for selected cryptos')\n",
    "#Initialize variables for \n",
    "num_of_portfolios= 5000\n",
    "weight= np.zeros((num_of_portfolios,len(crypataras_picks)))\n",
    "expected_return=  np.zeros(num_of_portfolios)\n",
    "expected_volatility= np.zeros(num_of_portfolios)\n",
    "sharpe_ratio= np.zeros(num_of_portfolios)\n",
    "expected_return\n",
    "mean_log_ret= log_returns.mean()\n",
    "sigma = log_returns.cov()\n",
    "\n",
    "for i in range (num_of_portfolios):\n",
    "    # generate random weight vectos \n",
    "    w= np.array(np.random.random(len(crypataras_picks)))\n",
    "        #sum of weights equal to 1 \n",
    "    w= w/ np.sum(w)\n",
    "    weight[i,:]= w\n",
    "    \n",
    "    # expected log return \n",
    "    expected_return[i]= np.sum(mean_log_ret*w) \n",
    "    \n",
    "    #expected volatility \n",
    "    expected_volatility[i]= np.sqrt(np.dot(w.T,np.dot(sigma,w)))\n",
    "    \n",
    "    # sharpe ratio\n",
    "    sharpe_ratio[i] =  expected_return[i]/expected_volatility[i]\n",
    "    \n",
    "print(f'Here are the weights: ')\n",
    "# Weighted portfolio that sharpe ratio\n",
    "max_index = sharpe_ratio.argmax()\n",
    "weight[max_index,:]"
   ]
  },
  {
   "cell_type": "code",
   "execution_count": null,
   "id": "ca14c13b",
   "metadata": {},
   "outputs": [],
   "source": [
    "# Portfolio weights are exported to a csv that can be used for monteclaro simulation\n",
    "print(f'Loading Smartfolio weights..')\n",
    "print(f'One Second please....')\n",
    "investment = float(investment)\n",
    "portfolio_weights = np.array([weight[max_index,:]])\n",
    "portfolio_weights = portfolio_weights.tolist() \n",
    "smartfolio_weights = pd.DataFrame(portfolio_weights)\n",
    "total_invested=(smartfolio_weights*investment).round(2)\n",
    "smartfolio_weights.to_csv('smartfolio_weights.csv')\n",
    "print(f' ............and DONE!')\n",
    "print(f'Now give me a second while I allocate your funds...') \n",
    "print('')\n",
    "print(f'{crypataras_picks[0]} the optimal portfolio weight is {smartfolio_weights[0]}, and your total invesment ${total_invested.iloc[0][0]}.')\n",
    "print('')\n",
    "print(f'{crypataras_picks[1]} optimal portfolio weight is {smartfolio_weights.iloc[0][1]:.3f}, wiht a total of invesment ${total_invested.iloc[0][1]}.')\n",
    "print('')\n",
    "print(f'{crypataras_picks[2]} the optimal portfolio weight is {smartfolio_weights.iloc[0][2]:.3f}, and your total invesment ${total_invested.iloc[0][2]}.')\n",
    "print('')\n",
    "print(f'{crypataras_picks[3]} optimal portfolio weight is {smartfolio_weights.iloc[0][3]:.3f}, wiht a total of invesment ${total_invested.iloc[0][3]}.')\n",
    "print('')\n",
    "print(f'{crypataras_picks[4]} optimal portfolio weight is {smartfolio_weights.iloc[0][4]:.3f}, wiht a total of invesment ${total_invested.iloc[0][4]}.')"
   ]
  },
  {
   "cell_type": "code",
   "execution_count": null,
   "id": "5549f032",
   "metadata": {
    "tags": []
   },
   "outputs": [],
   "source": [
    "import matplotlib.pyplot as plt\n",
    "plt.figure(figsize=(20,5))\n",
    "plt.scatter(expected_volatility,expected_return,c=sharpe_ratio)\n",
    "plt.xlabel('Expected Volatility')\n",
    "plt.ylabel('Expected Log Returns')\n",
    "plt.colorbar(label='Sharpe Ratio')\n",
    "plt.scatter(expected_volatility[max_index], expected_return[max_index], c='red')\n",
    "plt.show()\n",
    "print(f'here are the smartfolio weights:{smartfolio_weights}')"
   ]
  },
  {
   "cell_type": "code",
   "execution_count": null,
   "id": "22e7e271",
   "metadata": {},
   "outputs": [],
   "source": [
    "import itertools\n",
    "from itertools import product\n",
    "from MCForecastTools import MCSimulation\n",
    "%matplotlib inline"
   ]
  },
  {
   "cell_type": "code",
   "execution_count": null,
   "id": "684c7b34",
   "metadata": {},
   "outputs": [],
   "source": [
    "mcsims_df = pd.DataFrame()\n",
    "for final_cryptos in crypataras_picks:\n",
    "    mcsims = tv.get_hist(symbol=final_cryptos,\n",
    "                       exchange=exchange,\n",
    "                       interval=Interval.in_daily,\n",
    "                       n_bars=bars)\n",
    "    mcsims_df = mcsims_df.append(mcsims)"
   ]
  },
  {
   "cell_type": "code",
   "execution_count": null,
   "id": "3ba53af8",
   "metadata": {
    "tags": []
   },
   "outputs": [],
   "source": [
    "mcsims_df"
   ]
  },
  {
   "cell_type": "code",
   "execution_count": null,
   "id": "5b409828",
   "metadata": {
    "tags": []
   },
   "outputs": [],
   "source": [
    "ticker1_df = mcsims_df.loc[mcsims_df.symbol==f'{exchange}' + ':' +f'{crypataras_picks[0]}']\n",
    "ticker2_df = mcsims_df.loc[mcsims_df.symbol==f'{exchange}' + ':' +f'{crypataras_picks[1]}']\n",
    "ticker3_df = mcsims_df.loc[mcsims_df.symbol==f'{exchange}' + ':' +f'{crypataras_picks[2]}']\n",
    "ticker4_df = mcsims_df.loc[mcsims_df.symbol==f'{exchange}' + ':' +f'{crypataras_picks[3]}']\n",
    "ticker5_df = mcsims_df.loc[mcsims_df.symbol==f'{exchange}' + ':' +f'{crypataras_picks[4]}']\n",
    "sim_data = pd.concat([ticker1_df, ticker2_df, ticker3_df, ticker4_df, ticker5_df], axis='columns', join='inner')"
   ]
  },
  {
   "cell_type": "code",
   "execution_count": null,
   "id": "fc3b0597",
   "metadata": {},
   "outputs": [],
   "source": [
    "mdex = itertools.product(crypataras_picks, ticker1_df.columns)\n",
    "columns = []\n",
    "for x in mdex:\n",
    " columns.append(x)\n",
    "sim_data.columns = pd.MultiIndex.from_tuples(columns) "
   ]
  },
  {
   "cell_type": "code",
   "execution_count": null,
   "id": "62a33063",
   "metadata": {},
   "outputs": [],
   "source": [
    "smartfolio_weights"
   ]
  },
  {
   "cell_type": "code",
   "execution_count": null,
   "id": "a79dd811",
   "metadata": {},
   "outputs": [],
   "source": [
    "# possible format for mc_weights?\n",
    "smart_weights =[smartfolio_weights[0],smartfolio_weights[1],smartfolio_weights[2],smartfolio_weights[3],smartfolio_weights[4]]"
   ]
  },
  {
   "cell_type": "code",
   "execution_count": null,
   "id": "120c4904",
   "metadata": {},
   "outputs": [],
   "source": [
    "MC_even_dist = MCSimulation(\n",
    "    portfolio_data = sim_data, \n",
    "    weights = [.20, .20, .20, .20, .20],\n",
    "    num_simulation=100,\n",
    "    num_trading_days = 126\n",
    ")\n"
   ]
  },
  {
   "cell_type": "code",
   "execution_count": null,
   "id": "ae494330",
   "metadata": {
    "tags": []
   },
   "outputs": [],
   "source": [
    "cumula_return = MC_even_dist.calc_cumulative_return()"
   ]
  },
  {
   "cell_type": "code",
   "execution_count": null,
   "id": "a9c6649a",
   "metadata": {},
   "outputs": [],
   "source": [
    "cumula_return.to_csv('mc_df.csv')"
   ]
  },
  {
   "cell_type": "code",
   "execution_count": null,
   "id": "0f7080f2",
   "metadata": {},
   "outputs": [],
   "source": [
    "type(simulated_returns_data)"
   ]
  },
  {
   "cell_type": "code",
   "execution_count": null,
   "id": "d21262bb",
   "metadata": {},
   "outputs": [],
   "source": [
    "simulated_returns_data = {\n",
    "    \"mean\": list(MC_even_dist.simulated_return.mean(axis=1)),\n",
    "    \"median\": list(MC_even_dist.simulated_return.median(axis=1)),\n",
    "    \"min\": list(MC_even_dist.simulated_return.min(axis=1)),\n",
    "    \"max\": list(MC_even_dist.simulated_return.max(axis=1))\n",
    "}"
   ]
  },
  {
   "cell_type": "code",
   "execution_count": null,
   "id": "e9cee79d",
   "metadata": {},
   "outputs": [],
   "source": [
    "df_simulated_returns = pd.DataFrame(simulated_returns_data)"
   ]
  },
  {
   "cell_type": "code",
   "execution_count": null,
   "id": "7d2c8b01",
   "metadata": {
    "tags": []
   },
   "outputs": [],
   "source": [
    "df_simulated_returns.head()"
   ]
  },
  {
   "cell_type": "code",
   "execution_count": null,
   "id": "f413ccc6",
   "metadata": {},
   "outputs": [],
   "source": [
    "df_simulated_returns.to_csv('mc_stats.csv')"
   ]
  },
  {
   "cell_type": "code",
   "execution_count": null,
   "id": "7996a38d",
   "metadata": {},
   "outputs": [],
   "source": [
    "import panel as pn\n",
    "pn.extension('plotly')\n",
    "from panel.interact import interact\n",
    "import plotly.express as px\n",
    "import plotly.graph_objects as go\n",
    "from plotly.offline import iplot\n",
    "from plotly.subplots import make_subplots\n",
    "from panel import widgets\n",
    "\n",
    "\n",
    "import pandas as pd\n",
    "import os\n",
    "from pathlib import Path\n",
    "from dotenv import load_dotenv\n",
    "\n",
    "import warnings\n",
    "warnings.filterwarnings('ignore')"
   ]
  },
  {
   "cell_type": "code",
   "execution_count": null,
   "id": "b624b867",
   "metadata": {},
   "outputs": [],
   "source": [
    "mcs_path = Path(\"mc_df.csv\")\n",
    "mc_df = pd.read_csv(mcs_path, index_col=[0])\n",
    "mc_df.index.name=\"Days\"\n",
    "mc_df.head(30)"
   ]
  },
  {
   "cell_type": "code",
   "execution_count": null,
   "id": "15dd7ddc",
   "metadata": {},
   "outputs": [],
   "source": [
    "fig1 = px.line(mc_df)\n",
    "fig1 = fig1.update_layout(\n",
    "    xaxis_title=\"Predicted Time Period(Days)\",\n",
    "    yaxis_title=\"Daily Return\",\n",
    "    showlegend=False,\n",
    "    title='Simulation of Returns on Portfolio Investment')\n",
    "fig1.show()"
   ]
  },
  {
   "cell_type": "code",
   "execution_count": null,
   "id": "716c00ed",
   "metadata": {},
   "outputs": [],
   "source": [
    "#use dataframe of stats for daily returns of simulation from aarons part as well\n",
    "mc_path = Path(\"mc_stats.csv\")\n",
    "df_simulated_returns = pd.read_csv(mc_path, index_col=[0])\n",
    "df_simulated_returns.index.name=\"Days\"\n",
    "df_simulated_returns\n"
   ]
  },
  {
   "cell_type": "code",
   "execution_count": null,
   "id": "9e548798",
   "metadata": {},
   "outputs": [],
   "source": [
    "\n",
    "fig2 = go.Figure()\n",
    "fig2.add_trace(go.Scatter(x=df_simulated_returns.index, y=df_simulated_returns['mean'],\n",
    "                    mode='lines',\n",
    "                    name='mean returns',\n",
    "                    line=dict(color=\"salmon\", width=1),))\n",
    "fig2.add_trace(go.Scatter(x=df_simulated_returns.index, y=df_simulated_returns['median'],\n",
    "                    mode='lines',\n",
    "                    name='median returns',\n",
    "                    line=dict(color=\"teal\", width=1),))\n",
    "fig2.add_trace(go.Scatter(x=df_simulated_returns.index, y=df_simulated_returns['min'],\n",
    "                    mode='lines',\n",
    "                    name='minimum returns',\n",
    "                    line=dict(color=\"darkred\", width=1),))\n",
    "fig2.add_trace(go.Scatter(x=df_simulated_returns.index, y=df_simulated_returns['max'],\n",
    "                    mode='lines',\n",
    "                    name='maximum returns',\n",
    "                    line=dict(color=\"olive\", width=1),))\n",
    "fig2.update_layout(\n",
    "    height=500,\n",
    "    width=1200,\n",
    "    xaxis_title=\"Number of Days(in Simulation)\",\n",
    "    yaxis_title=\"Daily Returns\",\n",
    "    legend_title=\"Stats\",\n",
    "    title=\"Statistical Analysis for Simulation of Return on Investment\")\n",
    "fig2.show()"
   ]
  },
  {
   "cell_type": "code",
   "execution_count": null,
   "id": "5682b84b",
   "metadata": {},
   "outputs": [],
   "source": [
    "# Set initial investment\n",
    "initial_investment = 11999\n",
    "\n",
    "# Multiply an initial investment by the daily returns of simulative stock prices to return the progression of daily returns in terms of money\n",
    "cumulative_pnl = initial_investment * df_simulated_returns\n",
    "\n",
    "# Display sample data\n",
    "cumulative_pnl.head()"
   ]
  },
  {
   "cell_type": "code",
   "execution_count": null,
   "id": "1e3ae445",
   "metadata": {},
   "outputs": [],
   "source": [
    "#Plot simulated investment portfolio returns with initial investment number (values are in USD)\n",
    "fig3 = go.Figure()\n",
    "fig3 = fig3.add_trace(go.Scatter(x=cumulative_pnl.index, y=cumulative_pnl['mean'],\n",
    "                    mode='lines',\n",
    "                    name='mean returns',\n",
    "                    line=dict(color=\"salmon\", width=1),))\n",
    "fig3 = fig3.add_trace(go.Scatter(x=cumulative_pnl.index, y=cumulative_pnl['median'],\n",
    "                    mode='lines',\n",
    "                    name='median returns',\n",
    "                    line=dict(color=\"teal\", width=1),))\n",
    "fig3 = fig3.add_trace(go.Scatter(x=cumulative_pnl.index, y=cumulative_pnl['min'],\n",
    "                    mode='lines',\n",
    "                    name='minimum returns',\n",
    "                    line=dict(color=\"darkred\", width=1),))\n",
    "fig3 = fig3.add_trace(go.Scatter(x=cumulative_pnl.index, y=cumulative_pnl['max'],\n",
    "                    mode='lines',\n",
    "                    name='maximum returns',\n",
    "                    line=dict(color=\"olive\", width=1),))\n",
    "fig3 = fig3.update_layout(\n",
    "    height=500,\n",
    "    width=1200,\n",
    "    xaxis_title=\"Time Period(Days)\",\n",
    "    yaxis_title=\"Returns(USD)\",\n",
    "    legend_title=\"Stats\",\n",
    "    title=\"$11,999 Initial Investment - Predicted Earnings\")\n",
    "fig3.show()\n",
    "\n",
    "print(\"You've chosen to invest $11,900 in a diverse cryptocurrency portfolio!\")\n",
    "print(\"This simulation can help you visualize what your portfolio may look like in the days following your initial investment.\")\n",
    "print(\"Let's take a look at some other coins that are popularly traded right now.\")\n"
   ]
  },
  {
   "cell_type": "code",
   "execution_count": null,
   "id": "4446e706",
   "metadata": {},
   "outputs": [],
   "source": [
    "#DO NOT READ IN THIS DATAFRAME IF YOU GET ^ PREVIOUS CELL TO RUN & FETCH LIVE DATA\n",
    "#read in COINBASE ticker dataframe\n",
    "daily_path = Path(\"Data_files/daily_ohlc.csv\")\n",
    "cryptaras_picks = pd.read_csv('Data_files/cryptaras_final_cryptos.csv', index_col=[0])\n",
    "df_daily = pd.read_csv(daily_path, index_col=[0])\n",
    "df_daily.index.name = \"Date\"\n",
    "\n",
    "#.loc COINBASE tickers Symbol, Open, High, Low, Close, Volume data as new df\n",
    "comp_df = df_daily.loc[df_daily.symbol==f'{exchange}' + ':' +f'{crypataras_picks[0]}]\n",
    "sushi_df = df_daily.loc[df_daily.symbol==f'{exchange}' + ':' +f'{crypataras_picks[1]}']\n",
    "ltc_df = df_daily.loc[df_daily.symbol==f'{exchange}' + ':' +f'{crypataras_picks[2]}']\n",
    "etc_df = df_daily.loc[df_daily.symbol==f'{exchange}' + ':' +f'{crypataras_picks[3]}']\n",
    "doge_df = df_daily.loc[df_daily.symbol==f'{exchange}' + ':' +f'{crypataras_picks[4]}']\n",
    "\n",
    "\n",
    "#reset COINBASE ticker index to prep for plotting candlestick RSI\n",
    "comp_df=comp_df.tail(60).reset_index()\n",
    "sushi_df=sushi_df.tail(60).reset_index()\n",
    "ltc_df=ltc_df.tail(60).reset_index()\n",
    "etc_df=etc_df.tail(60).reset_index()\n",
    "doge_df=doge_df.tail(60).reset_index()"
   ]
  },
  {
   "cell_type": "code",
   "execution_count": null,
   "id": "e1046cd6",
   "metadata": {},
   "outputs": [],
   "source": [
    "\n",
    "print(\"When current price falls below the 'lower-bb' we can expect prices to begin to rise - this indicates a good BUY opportunity.\") \n",
    "print(\"When current price raises above the 'upper-bb' we can expect prices to begin to fall soon - this presents an opportunity to SELL.\")\n",
    "\n",
    "# calculate sma and std for upper and lower bb for each df in df_list\n",
    "df_list = [comp_df, sushi_df, ltc_df, etc_df, doge_df, storj_df, ada_df, btc_df, eth_df, sol_df, uni_df]\n",
    "WINDOW=30\n",
    "\n",
    "for df in df_list:\n",
    "    df['sma'] = df['close'].rolling(WINDOW).mean()\n",
    "    df['std'] = df['close'].rolling(WINDOW).std(ddof = 0)\n",
    "    \n",
    "    \n",
    "    # Create subplots with 2 rows; top for candlestick price, and bottom for bar volume\n",
    "    fig = make_subplots(rows = 2, cols = 1, shared_xaxes = True, subplot_titles = (f'{df.symbol[0]} Relative Strength Index', 'Volume(MM)'), vertical_spacing = 0.1, row_width = [.5, 1.4])\n",
    "\n",
    "# Candlestick Plot\n",
    "    fig.add_trace(go.Candlestick(x = df['Date'],\n",
    "                                 open = df['open'],\n",
    "                                 high = df['high'],\n",
    "                                 low = df['low'],\n",
    "                                 close = df['close'], showlegend=False,\n",
    "                                 increasing_line_color= 'olive', decreasing_line_color= 'darkred',\n",
    "                                 name = 'candlestick'),\n",
    "                  row = 1, col = 1)\n",
    "\n",
    "# Moving Average\n",
    "    fig.add_trace(go.Scatter(x = df['Date'],\n",
    "                             y = df['sma'],\n",
    "                             line_color = 'black',\n",
    "                             name = 'sma'),\n",
    "                  row = 1, col = 1)\n",
    "    \n",
    "# Upper Bound\n",
    "    fig.add_trace(go.Scatter(x = df['Date'],\n",
    "                             y = df['sma'] + (df['std'] * 2),\n",
    "                             line_color = 'tan',\n",
    "                             line = {'dash': 'dash'},\n",
    "                             name = 'upper band',\n",
    "                             opacity = 0.5),\n",
    "                  row = 1, col = 1) \n",
    "# Lower Bound fill in between with parameter 'fill': 'tonexty'\n",
    "    fig.add_trace(go.Scatter(x = df['Date'],\n",
    "                             y = df['sma'] - (df['std'] * 2),\n",
    "                             line_color = 'tan',\n",
    "                             line = {'dash': 'dash'},\n",
    "                             fill = 'tonexty',\n",
    "                             name = 'lower band',\n",
    "                             opacity = 0.5),\n",
    "                  row = 1, col = 1)\n",
    "\n",
    "# Labels & Titles\n",
    "    fig.update_layout(\n",
    "        height=500,\n",
    "        width=1200,\n",
    "        xaxis_title=None,\n",
    "        yaxis_title=\"Price\",\n",
    "        legend_title=\"Indicators\",\n",
    "        )\n",
    "# ----------------\n",
    "\n",
    "# Volume Plot\n",
    "    fig.add_trace(go.Bar(x = df['Date'], y = df['volume'], showlegend=False), \n",
    "              row = 2, col = 1)\n",
    "# Remove range slider; (short time frame)\n",
    "    fig.update(layout_xaxis_rangeslider_visible=True)\n",
    "\n",
    "\n",
    "    #fig.show();    \n",
    "   \n"
   ]
  },
  {
   "cell_type": "code",
   "execution_count": null,
   "id": "f3dc4007",
   "metadata": {},
   "outputs": [],
   "source": [
    "comp_df"
   ]
  },
  {
   "cell_type": "code",
   "execution_count": null,
   "id": "3cb2b0d5",
   "metadata": {},
   "outputs": [],
   "source": [
    "#candlestick charts\n",
    "df_list = [comp_df, sushi_df, ltc_df, etc_df, doge_df, storj_df, ada_df, btc_df, eth_df, sol_df, uni_df]\n",
    "\n",
    "for df in df_list:\n",
    "    fig = go.Figure(\n",
    "    data=[\n",
    "        go.Candlestick(x=df['Date'],\n",
    "                       open=df['open'],\n",
    "                       high=df['high'],\n",
    "                       low=df['low'],\n",
    "                       close=df['close'],\n",
    "                       increasing_line_color= 'olive', decreasing_line_color= 'darkred')\n",
    "        \n",
    "    ])\n",
    "    fig.update(layout_xaxis_rangeslider_visible=True)\n",
    "    fig.update_layout(\n",
    "        height=500,\n",
    "        width=1200,\n",
    "        title=f'{df.symbol[0]} Daily Price',\n",
    "        xaxis_title='Date',\n",
    "        yaxis_title='Daily Price')\n",
    "    fig.show()\n"
   ]
  },
  {
   "cell_type": "code",
   "execution_count": null,
   "id": "bdfbf94b",
   "metadata": {},
   "outputs": [],
   "source": [
    "# dashboard components\n",
    "\n",
    "# mcsftool plot simulation (120)\n",
    "fig1 = px.line(mc_df)\n",
    "fig1 = fig1.update_layout(\n",
    "    xaxis_title=\"Predicted Time Period(Days)\",\n",
    "    yaxis_title=\"Daily Return\",\n",
    "    showlegend=False,\n",
    "    title='Simulation of Returns on Portfolio Investment')\n",
    "\n",
    "#stat plot \n",
    "fig2 = go.Figure()\n",
    "fig2 = fig2.add_trace(go.Scatter(x=df_simulated_returns.index, y=df_simulated_returns['mean'],\n",
    "                    mode='lines',\n",
    "                    name='mean returns',\n",
    "                    line=dict(color=\"salmon\", width=1),))\n",
    "fig2 =fig2.add_trace(go.Scatter(x=df_simulated_returns.index, y=df_simulated_returns['median'],\n",
    "                    mode='lines',\n",
    "                    name='median returns',\n",
    "                    line=dict(color=\"teal\", width=1),))\n",
    "fig2 =fig2.add_trace(go.Scatter(x=df_simulated_returns.index, y=df_simulated_returns['min'],\n",
    "                    mode='lines',\n",
    "                    name='minimum returns',\n",
    "                    line=dict(color=\"darkred\", width=1),))\n",
    "fig2 =fig2.add_trace(go.Scatter(x=df_simulated_returns.index, y=df_simulated_returns['max'],\n",
    "                    mode='lines',\n",
    "                    name='maximum returns',\n",
    "                    line=dict(color=\"olive\", width=1),))\n",
    "fig2 =fig2.update_layout(\n",
    "    height=500,\n",
    "    width=1200,\n",
    "    xaxis_title=\"Number of Days(in Simulation)\",\n",
    "    yaxis_title=\"Daily Returns\",\n",
    "    legend_title=\"Stats\",\n",
    "    title=\"Statistical Analysis for Simulation of Return on Investment\")\n",
    "\n",
    "#Plot simulated investment portfolio returns with initial investment number (values are in USD)\n",
    "fig3 = go.Figure()\n",
    "fig3 =fig3.add_trace(go.Scatter(x=cumulative_pnl.index, y=cumulative_pnl['mean'],\n",
    "                    mode='lines',\n",
    "                    name='mean returns',\n",
    "                    line=dict(color=\"salmon\", width=1),))\n",
    "fig3 =fig3.add_trace(go.Scatter(x=cumulative_pnl.index, y=cumulative_pnl['median'],\n",
    "                    mode='lines',\n",
    "                    name='median returns',\n",
    "                    line=dict(color=\"teal\", width=1),))\n",
    "fig3 =fig3.add_trace(go.Scatter(x=cumulative_pnl.index, y=cumulative_pnl['min'],\n",
    "                    mode='lines',\n",
    "                    name='minimum returns',\n",
    "                    line=dict(color=\"darkred\", width=1),))\n",
    "fig3 =fig3.add_trace(go.Scatter(x=cumulative_pnl.index, y=cumulative_pnl['max'],\n",
    "                    mode='lines',\n",
    "                    name='maximum returns',\n",
    "                    line=dict(color=\"olive\", width=1),))\n",
    "fig3 =fig3.update_layout(\n",
    "    height=500,\n",
    "    width=1200,\n",
    "    xaxis_title=\"Time Period(Days)\",\n",
    "    yaxis_title=\"Returns(USD)\",\n",
    "    legend_title=\"Stats\",\n",
    "    title=\"$11,999 Initial Investment - Predicted Earnings\")\n",
    "\n"
   ]
  },
  {
   "cell_type": "code",
   "execution_count": null,
   "id": "9e09501b",
   "metadata": {},
   "outputs": [],
   "source": [
    "monte_column = pn.Column(\"## Monte Carlo Simulations\", fig1)"
   ]
  },
  {
   "cell_type": "code",
   "execution_count": null,
   "id": "c5257bd2",
   "metadata": {},
   "outputs": [],
   "source": [
    "return_stats = pn.Column(\"##Return Stats\", fig2)"
   ]
  },
  {
   "cell_type": "code",
   "execution_count": null,
   "id": "9203c6a6",
   "metadata": {},
   "outputs": [],
   "source": [
    "investment_sim = pn.Column(\"## Investment Predictions\", fig3)"
   ]
  },
  {
   "cell_type": "code",
   "execution_count": null,
   "id": "18f6f89b",
   "metadata": {},
   "outputs": [],
   "source": [
    "simulations = pn.Tabs(\n",
    "    (\n",
    "        \"Monte Carlo Simulations\",\n",
    "        fig1\n",
    "    ),\n",
    "    (\n",
    "        \"Return Stats\",\n",
    "        fig2\n",
    "    ),\n",
    "    (\n",
    "        \"Investment Predictions\",\n",
    "        fig3\n",
    "    )\n",
    ")\n",
    "#simulations"
   ]
  },
  {
   "cell_type": "code",
   "execution_count": null,
   "id": "a9979182",
   "metadata": {},
   "outputs": [],
   "source": [
    "dashboard = pn.Tabs(\n",
    "    (\"Predicted Earnings\",monte_column),\n",
    "    ( \"Return Stats\",return_stats),\n",
    "    (\"Investment Predictions\",fig3)\n",
    ")"
   ]
  },
  {
   "cell_type": "code",
   "execution_count": null,
   "id": "61026313",
   "metadata": {},
   "outputs": [],
   "source": [
    "pn.serve(dashboard)"
   ]
  },
  {
   "cell_type": "code",
   "execution_count": null,
   "id": "dbdf0cd3",
   "metadata": {},
   "outputs": [],
   "source": [
    "#reference v2 for additional updates in visualization section"
   ]
  }
 ],
 "metadata": {
  "kernelspec": {
   "display_name": "Python 3 (ipykernel)",
   "language": "python",
   "name": "python3"
  },
  "language_info": {
   "codemirror_mode": {
    "name": "ipython",
    "version": 3
   },
   "file_extension": ".py",
   "mimetype": "text/x-python",
   "name": "python",
   "nbconvert_exporter": "python",
   "pygments_lexer": "ipython3",
   "version": "3.9.6"
  }
 },
 "nbformat": 4,
 "nbformat_minor": 5
}
