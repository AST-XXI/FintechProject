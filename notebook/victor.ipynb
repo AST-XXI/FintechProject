{
 "cells": [
  {
   "cell_type": "code",
   "execution_count": 39,
   "metadata": {},
   "outputs": [],
   "source": [
    "# Pull prices of crypto picks from different exchanges, prompt user to buy from that exchange to get the best deal.\n",
    "\n",
    "\n",
    "# Set up dev \n",
    "    # .env and APIs\n",
    "######################################\n",
    "#Pull picks Task\n",
    "    # -Pull Assets per Exchange from tradingview (tradingview, api3) *~\n",
    "    # -Present value and Daily Returns of the assets (pds1, api2)\n",
    "    # - compare to Monte Carlo forcasts (pv vs 1yr | pv vs 6mon) ---> this will be added from aaron and alex\n",
    "    # - create a monte carlo simulation for 7d trading using the 1 yrs data that = daily returns\n",
    "######################################\n",
    "\n",
    "#Prompt to Buy\n",
    "#  Task [\n",
    "    # Analyze and compare daily returns pre exchange\n",
    "    # expected returns @ 95% lower and \n",
    "\n",
    "    # portiflio returns\n",
    "###################################\n",
    "#Will select the best exchange\n",
    "\n",
    "# if asset A on exchangeA > exchangeB\n",
    "    #print(select a)\n",
    "# elif exhange b > exchange a\n",
    "    #print(select b)\n",
    " # else \n",
    "    #print(still looking)\n",
    "\n",
    "#######################################################   \n",
    "\n",
    "# ccxt buy orders"
   ]
  },
  {
   "cell_type": "code",
   "execution_count": 40,
   "metadata": {},
   "outputs": [
    {
     "name": "stderr",
     "output_type": "stream",
     "text": [
      "DEBUG:matplotlib.pyplot:Loaded backend module://ipykernel.pylab.backend_inline version unknown.\n"
     ]
    }
   ],
   "source": [
    "#import libraries\n",
    "from dotenv import load_dotenv\n",
    "from tradingview_ta import TA_Handler, Interval, Exchange\n",
    "import datetime\n",
    "import os\n",
    "import logging\n",
    "import pandas as pd\n",
    "from pathlib import Path\n",
    "%matplotlib inline"
   ]
  },
  {
   "cell_type": "code",
   "execution_count": 41,
   "metadata": {},
   "outputs": [],
   "source": [
    "#Create TradingView variable and activate env variables\n",
    "from tvDatafeed import TvDatafeed,Interval\n",
    "load_dotenv()\n",
    "tradev_id = os.getenv(\"username\")\n",
    "tradev_secret_key = os.getenv(\"password\")"
   ]
  },
  {
   "cell_type": "code",
   "execution_count": 42,
   "metadata": {},
   "outputs": [
    {
     "name": "stderr",
     "output_type": "stream",
     "text": [
      "WARNING:tvDatafeed.main:you are using nologin method, data you access may be limited\n"
     ]
    }
   ],
   "source": [
    "#Log into TradingView\n",
    "logging.basicConfig(level=logging.DEBUG)\n",
    "tv = TvDatafeed(\n",
    "    tradev_id,\n",
    "    tradev_secret_key,\n",
    "    chromedriver_path=None\n",
    ")"
   ]
  },
  {
   "cell_type": "code",
   "execution_count": 43,
   "metadata": {},
   "outputs": [
    {
     "name": "stderr",
     "output_type": "stream",
     "text": [
      "DEBUG:root:creating websocket connection\n",
      "DEBUG:tvDatafeed.main:getting data for coinbase:ETHUSD...\n"
     ]
    },
    {
     "name": "stdout",
     "output_type": "stream",
     "text": [
      "Thank You! Lets get started!\n"
     ]
    },
    {
     "name": "stderr",
     "output_type": "stream",
     "text": [
      "DEBUG:root:creating websocket connection\n",
      "DEBUG:tvDatafeed.main:getting data for kraken:LINKUSD...\n"
     ]
    },
    {
     "data": {
      "text/plain": "(                              symbol    open    high     low   close  \\\n datetime                                                               \n 2020-05-07 19:00:00  coinbase:ETHUSD  212.50  217.00  207.20  211.59   \n 2020-05-08 19:00:00  coinbase:ETHUSD  211.65  214.79  208.27  210.00   \n 2020-05-09 19:00:00  coinbase:ETHUSD  210.06  210.06  180.01  187.73   \n 2020-05-10 19:00:00  coinbase:ETHUSD  187.65  193.77  176.43  185.93   \n 2020-05-11 19:00:00  coinbase:ETHUSD  185.93  192.89  185.79  190.10   \n \n                            volume  \n datetime                           \n 2020-05-07 19:00:00  156564.18492  \n 2020-05-08 19:00:00  120178.89506  \n 2020-05-09 19:00:00  479238.23724  \n 2020-05-10 19:00:00  266403.28666  \n 2020-05-11 19:00:00  114408.97765  ,\n                              symbol     open     high      low    close  \\\n datetime                                                                  \n 2020-05-07 19:00:00  kraken:LINKUSD  3.77375  3.86422  3.69295  3.80876   \n 2020-05-08 19:00:00  kraken:LINKUSD  3.80683  4.20000  3.77250  4.03104   \n 2020-05-09 19:00:00  kraken:LINKUSD  4.00100  4.00100  3.50003  3.76805   \n 2020-05-10 19:00:00  kraken:LINKUSD  3.76899  3.83048  3.31565  3.57344   \n 2020-05-11 19:00:00  kraken:LINKUSD  3.58091  3.78500  3.55476  3.70502   \n \n                             volume  \n datetime                            \n 2020-05-07 19:00:00  119190.250854  \n 2020-05-08 19:00:00  430927.586010  \n 2020-05-09 19:00:00  438827.974393  \n 2020-05-10 19:00:00  371215.040551  \n 2020-05-11 19:00:00  151214.717488  )"
     },
     "execution_count": 43,
     "metadata": {},
     "output_type": "execute_result"
    }
   ],
   "source": [
    "# -Pull Assets per Exchange from tradingview (tradingview, api3)\n",
    "\n",
    "crypto_one = input(\"enter the ticker of your first choice:\")\n",
    "exchange1 = input(\"enter the exchange of your choice:\")\n",
    "crypto_two = input(\"enter the ticker of your second choice:\")\n",
    "exchange2 = input(\"enter the exchange 2 of your choice:\")\n",
    "\n",
    "# Time to view\n",
    "timeframe = \"1D\"\n",
    "start_date = input(\"Enter start date || ex.2021-01-01\")\n",
    "end_date = input(\"Enter end date || ex.2021-01-01\")\n",
    "#timezone = input(\"America/Chicago\")\n",
    "#tz = timezone\n",
    "startDate = pd.Timestamp(start_date)\n",
    "endDate = pd.Timestamp(end_date)\n",
    "\n",
    "print(f\"Thank You! Lets get started!\")\n",
    "\n",
    "crypto_one_df = tv.get_hist(symbol=crypto_one,exchange=exchange1,interval=Interval.in_daily,n_bars=500)\n",
    "crypto_two_df = tv.get_hist(symbol=crypto_two,exchange=exchange2,interval=Interval.in_daily,n_bars=500)\n",
    "crypto_one_df.head(), crypto_two_df.head()\n"
   ]
  },
  {
   "cell_type": "code",
   "execution_count": 44,
   "metadata": {},
   "outputs": [
    {
     "name": "stdout",
     "output_type": "stream",
     "text": [
      "lets see how your selections have performed these last few months.:\n"
     ]
    },
    {
     "data": {
      "text/plain": "(<AxesSubplot:xlabel='datetime'>,)"
     },
     "execution_count": 44,
     "metadata": {},
     "output_type": "execute_result"
    },
    {
     "data": {
      "image/png": "[encoded data removed]",
      "text/plain": "<Figure size 360x360 with 1 Axes>"
     },
     "metadata": {
      "needs_background": "light"
     },
     "output_type": "display_data"
    }
   ],
   "source": [
    "# -Present value and Daily Returns of the assets (pds1, api2\n",
    "print(f'lets see how your selections have performed these last few months.:')\n",
    "return_df = pd.DataFrame()\n",
    "#Calculate returns\n",
    "crypto_one_daily_returns = crypto_one_df['close'].pct_change().dropna()\n",
    "crypto_two_daily_returns = crypto_two_df['close'].pct_change().dropna()\n",
    "#Create a column in empty dataframe with return data\n",
    "return_df[crypto_one] = crypto_one_daily_returns\n",
    "return_df[crypto_two] = crypto_two_daily_returns\n",
    "\n",
    "cumulative_returns = (1 + return_df).cumprod() -1\n",
    "cumulative_returns.plot(figsize=(5,5)), "
   ]
  },
  {
   "cell_type": "code",
   "execution_count": 45,
   "metadata": {},
   "outputs": [
    {
     "name": "stdout",
     "output_type": "stream",
     "text": [
      "Consider LINKUSD, looks good\n"
     ]
    }
   ],
   "source": [
    "if return_df is crypto_one > crypto_two:\n",
    "    print(f\"{crypto_one}, has upside\")\n",
    "else:\n",
    "    print(f\"Consider {crypto_two}, looks good\")"
   ]
  },
  {
   "cell_type": "code",
   "execution_count": 46,
   "metadata": {},
   "outputs": [],
   "source": [
    "import pandas as pd\n",
    "from tradingview_ta import TA_Handler, Interval, Exchange\n",
    "trading_api = TA_Handler(\n",
    "    crypto_one,\n",
    "    crypto_two\n",
    ")"
   ]
  },
  {
   "cell_type": "code",
   "execution_count": null,
   "metadata": {},
   "outputs": [],
   "source": []
  },
  {
   "cell_type": "code",
   "execution_count": null,
   "metadata": {},
   "outputs": [],
   "source": []
  },
  {
   "cell_type": "code",
   "execution_count": null,
   "metadata": {},
   "outputs": [],
   "source": []
  },
  {
   "cell_type": "code",
   "execution_count": null,
   "metadata": {},
   "outputs": [],
   "source": []
  },
  {
   "cell_type": "code",
   "execution_count": 47,
   "metadata": {},
   "outputs": [],
   "source": [
    "#coinbase\n",
    "#link_coinbase = tv.get_hist(\n",
    "#    symbol='LINKUSD',\n",
    "#    exchange='COINBASE',\n",
    "#    interval=Interval.in_daily,\n",
    "#    n_bars=500\n",
    "#)\n",
    "\n",
    "#aave_coinbase = tv.get_hist(\n",
    "#   symbol='LINKUSD',\n",
    "#    exchange='COINBASE',\n",
    "#   interval=Interval.in_daily,\n",
    "#    n_bars=500\n",
    "#)\n",
    "\n",
    "#comp_coinbase = tv.get_hist(\n",
    "#    symbol='COMPUSD',\n",
    "#    exchange='COINBASE',\n",
    "#    interval=Interval.in_daily,\n",
    "#    n_bars=500\n",
    "#)\n",
    "\n",
    "\n",
    "#kraken\n",
    "#link_kraken = tv.get_hist(\n",
    " #   symbol='LINKUSD',\n",
    "  #  exchange='KRAKEN',\n",
    "   # interval=Interval.in_daily,\n",
    "    #n_bars=500\n",
    "#)\n",
    "\n",
    "#aave_kraken = tv.get_hist(\n",
    " #   symbol='LINKUSD',\n",
    "  #  exchange='KRAKEN',\n",
    "   # interval=Interval.in_daily,\n",
    "    #n_bars=500\n",
    "#)\n",
    "\n",
    "#comp_kraken = tv.get_hist(\n",
    " #   symbol='COMPUSD',\n",
    "  #  exchange='KRAKEN',\n",
    " #   interval=Interval.in_daily,\n",
    "#    n_bars=500\n",
    "#)\n",
    "\n",
    "#comp_coinbase.sort_index()\n",
    "\n",
    "\n",
    "#coinbase = pd.concat([comp_coinbase, aave_coinbase, link_coinbase], axis='columns', join='inner')\n",
    "#kraken = pd.concat([aave_kraken, link_kraken, comp_kraken], axis='columns', join='inner')\n",
    "\n",
    "#coinbase.head()\n",
    "#kraken.head()"
   ]
  }
 ],
 "metadata": {
  "kernelspec": {
   "display_name": "Python 3.8.8 64-bit ('base': conda)",
   "name": "python388jvsc74a57bd04a56e6d547e91b519ca40bfc39c5a5ad14b1cb51811480a15d413be1012b533b"
  },
  "language_info": {
   "codemirror_mode": {
    "name": "ipython",
    "version": 3
   },
   "file_extension": ".py",
   "mimetype": "text/x-python",
   "name": "python",
   "nbconvert_exporter": "python",
   "pygments_lexer": "ipython3",
   "version": "3.8.8"
  },
  "metadata": {
   "interpreter": {
    "hash": "4a56e6d547e91b519ca40bfc39c5a5ad14b1cb51811480a15d413be1012b533b"
   }
  }
 },
 "nbformat": 4,
 "nbformat_minor": 5
}