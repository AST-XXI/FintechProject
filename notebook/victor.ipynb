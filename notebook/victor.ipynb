{
 "cells": [
  {
   "cell_type": "code",
   "execution_count": 205,
   "metadata": {},
   "outputs": [],
   "source": [
    "# Pull prices of crypto picks from different exchanges, prompt user to buy from that exchange to get the best deal.\n",
    "\n",
    "#Will select the best exchange\n",
    "\n",
    "# if asset A on exchangeA > exchangeB\n",
    "    #print(select a)\n",
    "# elif exhange b > exchange a\n",
    "    #print(select b)\n",
    " # else \n",
    "    #print(still looking)\n",
    "\n",
    "#######################################################   \n",
    "\n",
    "# ccxt buy orders"
   ]
  },
  {
   "cell_type": "code",
   "execution_count": 206,
   "metadata": {},
   "outputs": [
    {
     "name": "stderr",
     "output_type": "stream",
     "text": [
      "DEBUG:matplotlib.pyplot:Loaded backend module://ipykernel.pylab.backend_inline version unknown.\n"
     ]
    }
   ],
   "source": [
    "#import libraries\n",
    "from dotenv import load_dotenv\n",
    "from tradingview_ta import TA_Handler, Interval, Exchange\n",
    "import datetime\n",
    "import os\n",
    "import logging\n",
    "import pandas as pd\n",
    "from pathlib import Path\n",
    "%matplotlib inline"
   ]
  },
  {
   "cell_type": "code",
   "execution_count": 207,
   "metadata": {},
   "outputs": [],
   "source": [
    "#Create TradingView variable and activate env variables\n",
    "from tvDatafeed import TvDatafeed,Interval\n",
    "load_dotenv()\n",
    "tradev_id = os.getenv(\"username\")\n",
    "tradev_secret_key = os.getenv(\"password\")"
   ]
  },
  {
   "cell_type": "code",
   "execution_count": 208,
   "metadata": {},
   "outputs": [
    {
     "name": "stderr",
     "output_type": "stream",
     "text": [
      "WARNING:tvDatafeed.main:you are using nologin method, data you access may be limited\n"
     ]
    }
   ],
   "source": [
    "#Log into TradingView\n",
    "logging.basicConfig(level=logging.DEBUG)\n",
    "tv = TvDatafeed(\n",
    "    tradev_id,\n",
    "    tradev_secret_key,\n",
    "    chromedriver_path=None\n",
    ")"
   ]
  },
  {
   "cell_type": "code",
   "execution_count": 209,
   "metadata": {},
   "outputs": [
    {
     "name": "stderr",
     "output_type": "stream",
     "text": [
      "DEBUG:root:creating websocket connection\n"
     ]
    },
    {
     "name": "stdout",
     "output_type": "stream",
     "text": [
      "Thank You! Lets get started!\n"
     ]
    },
    {
     "name": "stderr",
     "output_type": "stream",
     "text": [
      "DEBUG:tvDatafeed.main:getting data for Coinbase:COMPUSD...\n",
      "DEBUG:root:creating websocket connection\n",
      "DEBUG:tvDatafeed.main:getting data for Binance:ETHUSD...\n"
     ]
    },
    {
     "data": {
      "text/plain": "(                               symbol    open    high     low   close  \\\n datetime                                                                \n 2021-09-17 19:00:00  Coinbase:COMPUSD  400.77  416.00  392.40  401.32   \n 2021-09-18 19:00:00  Coinbase:COMPUSD  401.40  402.59  384.17  393.24   \n 2021-09-19 19:00:00  Coinbase:COMPUSD  393.26  394.12  332.36  337.76   \n 2021-09-20 19:00:00  Coinbase:COMPUSD  337.86  350.28  302.80  312.66   \n 2021-09-21 19:00:00  Coinbase:COMPUSD  312.66  330.14  305.66  326.75   \n \n                           volume  \n datetime                          \n 2021-09-17 19:00:00  12765.35434  \n 2021-09-18 19:00:00  11848.71523  \n 2021-09-19 19:00:00  36709.50540  \n 2021-09-20 19:00:00  26605.34032  \n 2021-09-21 19:00:00   3810.38200  ,\n                              symbol         open         high          low  \\\n datetime                                                                     \n 2021-09-17 19:00:00  Binance:ETHUSD  3398.890690  3551.398663  3322.267972   \n 2021-09-18 19:00:00  Binance:ETHUSD  3436.506938  3470.834220  3270.295152   \n 2021-09-19 19:00:00  Binance:ETHUSD  3329.183166  3358.801897  2917.389054   \n 2021-09-20 19:00:00  Binance:ETHUSD  2975.848774  3107.185769  2652.232017   \n 2021-09-21 19:00:00  Binance:ETHUSD  2765.756262  2895.483777  2735.687222   \n \n                            close         volume  \n datetime                                         \n 2021-09-17 19:00:00  3437.093412   97235.429799  \n 2021-09-18 19:00:00  3328.811030   92038.809165  \n 2021-09-19 19:00:00  2976.425729  158904.429371  \n 2021-09-20 19:00:00  2763.288700  177244.846900  \n 2021-09-21 19:00:00  2870.448924   20936.545256  )"
     },
     "execution_count": 209,
     "metadata": {},
     "output_type": "execute_result"
    }
   ],
   "source": [
    "# -Pull Assets per Exchange from tradingview (tradingview, api3)\n",
    "\n",
    "crypto_one = input(\"enter the ticker of your first choice:\")\n",
    "crypto_two = input(\"enter the ticker of your second choice:\")\n",
    "exchangeA = input(\"enter the exchange of your choice:\")\n",
    "exchangeB = input(\"enter the exchange of your choice:\")\n",
    "\n",
    "\n",
    "print(f\"Thank You! Lets get started!\")\n",
    "\n",
    "crypto_one_df = tv.get_hist(symbol=crypto_one,exchange=exchange1,interval=Interval.in_daily,n_bars=500)\n",
    "crypto_two_df = tv.get_hist(symbol=crypto_two,exchange=exchange2,interval=Interval.in_daily,n_bars=500)\n",
    "crypto_one_df.tail(), crypto_two_df.tail()\n"
   ]
  },
  {
   "cell_type": "code",
   "execution_count": 210,
   "metadata": {},
   "outputs": [
    {
     "name": "stdout",
     "output_type": "stream",
     "text": [
      "lets see how your selections have performed these last few months.:\n"
     ]
    },
    {
     "data": {
      "text/plain": "(<AxesSubplot:xlabel='datetime'>,)"
     },
     "execution_count": 210,
     "metadata": {},
     "output_type": "execute_result"
    },
    {
     "data": {
      "image/png": "[encoded data removed]",
      "text/plain": "<Figure size 360x360 with 1 Axes>"
     },
     "metadata": {
      "needs_background": "light"
     },
     "output_type": "display_data"
    }
   ],
   "source": [
    "# -Present value and Daily Returns of the assets (pds1, api2\n",
    "print(f'lets see how your selections have performed these last few months.:')\n",
    "return_df = pd.DataFrame()\n",
    "#Calculate returns\n",
    "crypto_one_daily_returns = crypto_one_df['close'].pct_change().dropna()\n",
    "crypto_two_daily_returns = crypto_two_df['close'].pct_change().dropna()\n",
    "#Create a column in empty dataframe with return data\n",
    "return_df[crypto_one] = crypto_one_daily_returns\n",
    "return_df[crypto_two] = crypto_two_daily_returns\n",
    "\n",
    "cumulative_returns = (1 + return_df).cumprod() -1\n",
    "cumulative_returns.plot(figsize=(5,5)), "
   ]
  },
  {
   "cell_type": "code",
   "execution_count": 211,
   "metadata": {},
   "outputs": [
    {
     "name": "stdout",
     "output_type": "stream",
     "text": [
      "new\n"
     ]
    }
   ],
   "source": [
    "if return_df is crypto_one > crypto_two:\n",
    "    print(f\"{crypto_one}, has upside\")\n",
    "elif return_df is crypto_two > crypto_one:\n",
    "    print(f\"{crypto_two}, has upside\")\n",
    "else:\n",
    "    print('new')"
   ]
  },
  {
   "cell_type": "code",
   "execution_count": null,
   "metadata": {},
   "outputs": [],
   "source": [
    "\n"
   ]
  },
  {
   "cell_type": "code",
   "execution_count": null,
   "metadata": {},
   "outputs": [],
   "source": []
  },
  {
   "cell_type": "code",
   "execution_count": null,
   "metadata": {},
   "outputs": [],
   "source": []
  },
  {
   "cell_type": "code",
   "execution_count": null,
   "metadata": {},
   "outputs": [],
   "source": []
  },
  {
   "cell_type": "code",
   "execution_count": null,
   "metadata": {},
   "outputs": [],
   "source": []
  },
  {
   "cell_type": "code",
   "execution_count": 212,
   "metadata": {},
   "outputs": [],
   "source": [
    "#coinbase\n",
    "#link_coinbase = tv.get_hist(\n",
    "#    symbol='LINKUSD',\n",
    "#    exchange='COINBASE',\n",
    "#    interval=Interval.in_daily,\n",
    "#    n_bars=500\n",
    "#)\n",
    "\n",
    "#aave_coinbase = tv.get_hist(\n",
    "#   symbol='LINKUSD',\n",
    "#    exchange='COINBASE',\n",
    "#   interval=Interval.in_daily,\n",
    "#    n_bars=500\n",
    "#)\n",
    "\n",
    "#comp_coinbase = tv.get_hist(\n",
    "#    symbol='COMPUSD',\n",
    "#    exchange='COINBASE',\n",
    "#    interval=Interval.in_daily,\n",
    "#    n_bars=500\n",
    "#)\n",
    "\n",
    "\n",
    "#kraken\n",
    "#link_kraken = tv.get_hist(\n",
    " #   symbol='LINKUSD',\n",
    "  #  exchange='KRAKEN',\n",
    "   # interval=Interval.in_daily,\n",
    "    #n_bars=500\n",
    "#)\n",
    "\n",
    "#aave_kraken = tv.get_hist(\n",
    " #   symbol='LINKUSD',\n",
    "  #  exchange='KRAKEN',\n",
    "   # interval=Interval.in_daily,\n",
    "    #n_bars=500\n",
    "#)\n",
    "\n",
    "#comp_kraken = tv.get_hist(\n",
    " #   symbol='COMPUSD',\n",
    "  #  exchange='KRAKEN',\n",
    " #   interval=Interval.in_daily,\n",
    "#    n_bars=500\n",
    "#)\n",
    "\n",
    "#comp_coinbase.sort_index()\n",
    "\n",
    "\n",
    "#coinbase = pd.concat([comp_coinbase, aave_coinbase, link_coinbase], axis='columns', join='inner')\n",
    "#kraken = pd.concat([aave_kraken, link_kraken, comp_kraken], axis='columns', join='inner')\n",
    "\n",
    "#coinbase.head()\n",
    "#kraken.head()"
   ]
  },
  {
   "cell_type": "code",
   "execution_count": 214,
   "metadata": {},
   "outputs": [
    {
     "name": "stderr",
     "output_type": "stream",
     "text": [
      "DEBUG:ccxt.base.exchange:GET https://api.coinbase.com/v2/currencies, Request: {'CB-VERSION': '2018-05-30', 'User-Agent': 'Mozilla/5.0 (Windows NT 10.0; Win64; x64) AppleWebKit/537.36 (KHTML, like Gecko) Chrome/62.0.3202.94 Safari/537.36', 'Accept-Encoding': 'gzip, deflate'} None\n",
      "DEBUG:urllib3.connectionpool:Starting new HTTPS connection (1): api.coinbase.com:443\n",
      "DEBUG:urllib3.connectionpool:https://api.coinbase.com:443 \"GET /v2/currencies HTTP/1.1\" 200 None\n",
      "DEBUG:ccxt.base.exchange:GET https://api.coinbase.com/v2/currencies, Response: 200 {'Date': 'Wed, 22 Sep 2021 03:03:37 GMT', 'Content-Type': 'application/json; charset=utf-8', 'Transfer-Encoding': 'chunked', 'Connection': 'keep-alive', 'Cache-Control': 'max-age=86400, public, s-maxage=86400, ', 'Content-Disposition': 'attachment; filename=response.json', 'Content-Encoding': 'gzip', 'Content-Security-Policy': \"default-src 'self' https://www.coinbase.com; child-src 'self' https://www.coinbase.com https://fast.wistia.net https://*.online-metrix.net https://*.wpstn.com https://netverify.com https://platform.twitter.com https://www.google.com/recaptcha/ https://recaptcha.net/recaptcha/ https://cdn.plaid.com/link/ https://*.doubleclick.net/ blob:; connect-src 'self' https://www.coinbase.com https://api.coinbase.com https://*.online-metrix.net https://api.cloudinary.com https://ott9.wpstn.com/live https://api.amplitude.com/ https://api2.amplitude.com/ https://d3907m2cqladbn.cloudfront.net/ https://exceptions.coinbase.com https://assets.coinbase.com/ https://sessions.coinbase.com/ https://dynamic-assets.coinbase.com/ https://events-service.coinbase.com/amp static.coinbase.com wss://ws.coinbase.com wss://ws.coinbase.com:443 https://www.coinbase.com/api; font-src 'self' https://www.coinbase.com https://assets.coinbase.com/ https://card.coinbase.com/ static.coinbase.com; img-src 'self' data: https://www.coinbase.com https://images.coinbase.com https://d3907m2cqladbn.cloudfront.net/ https://static-assets.coinbase.com/ https://dynamic-assets.coinbase.com/ https://exceptions.coinbase.com https://coinbase-uploads.s3.amazonaws.com https://s3.amazonaws.com/app-public/ https://maps.gstatic.com https://ssl.google-analytics.com https://www.google.com https://maps.googleapis.com https://csi.gstatic.com https://www.google-analytics.com https://res.cloudinary.com https://secure.gravatar.com https://i2.wp.com https://*.online-metrix.net https://assets.coinbase.com/ https://hexagon-analytics.com https://cb-brand.s3.amazonaws.com https://googleads.g.doubleclick.net https://stats.g.doubleclick.net/r/collect https://card.coinbase.com/ blob: static.coinbase.com https://www.facebook.com/tr; media-src 'self' https://www.coinbase.com blob:; object-src 'self' data: blob: https://www.coinbase.com https://cdn.siftscience.com https://*.online-metrix.net https://www.gstatic.com https://www.google.com/recaptcha/api/ https://recaptcha.net/recaptcha/; script-src 'self' 'unsafe-inline' 'unsafe-eval' https://www.coinbase.com https://fast.wistia.com/assets/external/E-v1.js https://cdn.siftscience.com https://*.google-analytics.com https://www.google.com https://www.gstatic.com https://*.online-metrix.net https://code.jquery.com https://chart.googleapis.com https://maps.googleapis.com https://maps.gstatic.com https://netverify.com https://ajax.cloudflare.com https://cdn.plaid.com/link/v2/stable/ https://www.googletagmanager.com/gtag/js https://www.googletagmanager.com/gtm.js https://www.googleadservices.com https://googleads.g.doubleclick.net https://recaptcha.net https://assets.coinbase.com/ https://card.coinbase.com/ static.coinbase.com; style-src 'self' 'unsafe-inline' https://www.coinbase.com https://assets.coinbase.com/ https://card.coinbase.com/ static.coinbase.com; report-uri /csp-report\", 'Etag': 'W/\"0fade97707dec508f8d4abcdffa7ffff\"', 'Expect-Ct': 'enforce, max-age=86400, report-uri=\"https://coinbase.report-uri.io/r/default/ct/reportOnly\"', 'Referrer-Policy': 'strict-origin-when-cross-origin', 'Strict-Transport-Security': 'max-age=31536000; includeSubDomains; preload', 'Trace-Id': '735232252739401107', 'Vary': 'Origin,Accept-Encoding', 'X-Content-Type-Options': 'nosniff', 'X-Download-Options': 'noopen', 'X-Frame-Options': 'DENY', 'X-Permitted-Cross-Domain-Policies': 'none', 'X-Powered-By': 'Proof-of-Work', 'X-Request-Id': '035974b3-d194-4553-88d3-2ea04875fec4', 'X-Xss-Protection': '1; mode=block', 'CF-Cache-Status': 'DYNAMIC', 'Set-Cookie': '__cf_bm=CpeKZz3n.g8Ujjgvcs4CCCtwsFkRYGE0UVLsTKa7Jho-1632279817-0-AXTpvrKxcchgEPCddzJihDOqMRT7ztg8xAwj0k0TIWX3fMJMFzEAEjqdmg/pNd+IkK9vV69AnELOVk+BhdVy0Ww=; path=/; expires=Wed, 22-Sep-21 03:33:37 GMT; domain=.coinbase.com; HttpOnly; Secure', 'Server': 'cloudflare', 'CF-RAY': '69284d1b2f3fee64-CDG'} {\"data\":[{\"id\":\"AED\",\"name\":\"United Arab Emirates Dirham\",\"min_size\":\"0.01000000\"},{\"id\":\"AFN\",\"name\":\"Afghan Afghani\",\"min_size\":\"0.01000000\"},{\"id\":\"ALL\",\"name\":\"Albanian Lek\",\"min_size\":\"0.01000000\"},{\"id\":\"AMD\",\"name\":\"Armenian Dram\",\"min_size\":\"0.01000000\"},{\"id\":\"ANG\",\"name\":\"Netherlands Antillean Gulden\",\"min_size\":\"0.01000000\"},{\"id\":\"AOA\",\"name\":\"Angolan Kwanza\",\"min_size\":\"0.01000000\"},{\"id\":\"ARS\",\"name\":\"Argentine Peso\",\"min_size\":\"0.01000000\"},{\"id\":\"AUD\",\"name\":\"Australian Dollar\",\"min_size\":\"0.01000000\"},{\"id\":\"AWG\",\"name\":\"Aruban Florin\",\"min_size\":\"0.01000000\"},{\"id\":\"AZN\",\"name\":\"Azerbaijani Manat\",\"min_size\":\"0.01000000\"},{\"id\":\"BAM\",\"name\":\"Bosnia and Herzegovina Convertible Mark\",\"min_size\":\"0.01000000\"},{\"id\":\"BBD\",\"name\":\"Barbadian Dollar\",\"min_size\":\"0.01000000\"},{\"id\":\"BDT\",\"name\":\"Bangladeshi Taka\",\"min_size\":\"0.01000000\"},{\"id\":\"BGN\",\"name\":\"Bulgarian Lev\",\"min_size\":\"0.01000000\"},{\"id\":\"BHD\",\"name\":\"Bahraini Dinar\",\"min_size\":\"0.00100000\"},{\"id\":\"BIF\",\"name\":\"Burundian Franc\",\"min_size\":\"1.00000000\"},{\"id\":\"BMD\",\"name\":\"Bermudian Dollar\",\"min_size\":\"0.01000000\"},{\"id\":\"BND\",\"name\":\"Brunei Dollar\",\"min_size\":\"0.01000000\"},{\"id\":\"BOB\",\"name\":\"Bolivian Boliviano\",\"min_size\":\"0.01000000\"},{\"id\":\"BRL\",\"name\":\"Brazilian Real\",\"min_size\":\"0.01000000\"},{\"id\":\"BSD\",\"name\":\"Bahamian Dollar\",\"min_size\":\"0.01000000\"},{\"id\":\"BTN\",\"name\":\"Bhutanese Ngultrum\",\"min_size\":\"0.01000000\"},{\"id\":\"BWP\",\"name\":\"Botswana Pula\",\"min_size\":\"0.01000000\"},{\"id\":\"BYN\",\"name\":\"Belarusian Ruble\",\"min_size\":\"0.01000000\"},{\"id\":\"BYR\",\"name\":\"Belarusian Ruble\",\"min_size\":\"1.00000000\"},{\"id\":\"BZD\",\"name\":\"Belize Dollar\",\"min_size\":\"0.01000000\"},{\"id\":\"CAD\",\"name\":\"Canadian Dollar\",\"min_size\":\"0.01000000\"},{\"id\":\"CDF\",\"name\":\"Congolese Franc\",\"min_size\":\"0.01000000\"},{\"id\":\"CHF\",\"name\":\"Swiss Franc\",\"min_size\":\"0.01000000\"},{\"id\":\"CLF\",\"name\":\"Unidad de Fomento\",\"min_size\":\"0.00010000\"},{\"id\":\"CLP\",\"name\":\"Chilean Peso\",\"min_size\":\"1.00000000\"},{\"id\":\"CNH\",\"name\":\"Chinese Renminbi Yuan Offshore\",\"min_size\":\"0.01000000\"},{\"id\":\"CNY\",\"name\":\"Chinese Renminbi Yuan\",\"min_size\":\"0.01000000\"},{\"id\":\"COP\",\"name\":\"Colombian Peso\",\"min_size\":\"0.01000000\"},{\"id\":\"CRC\",\"name\":\"Costa Rican Colón\",\"min_size\":\"0.01000000\"},{\"id\":\"CUC\",\"name\":\"Cuban Convertible Peso\",\"min_size\":\"0.01000000\"},{\"id\":\"CVE\",\"name\":\"Cape Verdean Escudo\",\"min_size\":\"0.01000000\"},{\"id\":\"CZK\",\"name\":\"Czech Koruna\",\"min_size\":\"0.01000000\"},{\"id\":\"DJF\",\"name\":\"Djiboutian Franc\",\"min_size\":\"1.00000000\"},{\"id\":\"DKK\",\"name\":\"Danish Krone\",\"min_size\":\"0.01000000\"},{\"id\":\"DOP\",\"name\":\"Dominican Peso\",\"min_size\":\"0.01000000\"},{\"id\":\"DZD\",\"name\":\"Algerian Dinar\",\"min_size\":\"0.01000000\"},{\"id\":\"EGP\",\"name\":\"Egyptian Pound\",\"min_size\":\"0.01000000\"},{\"id\":\"ERN\",\"name\":\"Eritrean Nakfa\",\"min_size\":\"0.01000000\"},{\"id\":\"ETB\",\"name\":\"Ethiopian Birr\",\"min_size\":\"0.01000000\"},{\"id\":\"EUR\",\"name\":\"Euro\",\"min_size\":\"0.01000000\"},{\"id\":\"FJD\",\"name\":\"Fijian Dollar\",\"min_size\":\"0.01000000\"},{\"id\":\"FKP\",\"name\":\"Falkland Pound\",\"min_size\":\"0.01000000\"},{\"id\":\"GBP\",\"name\":\"British Pound\",\"min_size\":\"0.01000000\"},{\"id\":\"GBX\",\"name\":\"British Penny\",\"min_size\":\"1.00000000\"},{\"id\":\"GEL\",\"name\":\"Georgian Lari\",\"min_size\":\"0.01000000\"},{\"id\":\"GGP\",\"name\":\"Guernsey Pound\",\"min_size\":\"0.01000000\"},{\"id\":\"GHS\",\"name\":\"Ghanaian Cedi\",\"min_size\":\"0.01000000\"},{\"id\":\"GIP\",\"name\":\"Gibraltar Pound\",\"min_size\":\"0.01000000\"},{\"id\":\"GMD\",\"name\":\"Gambian Dalasi\",\"min_size\":\"0.01000000\"},{\"id\":\"GNF\",\"name\":\"Guinean Franc\",\"min_size\":\"1.00000000\"},{\"id\":\"GTQ\",\"name\":\"Guatemalan Quetzal\",\"min_size\":\"0.01000000\"},{\"id\":\"GYD\",\"name\":\"Guyanese Dollar\",\"min_size\":\"0.01000000\"},{\"id\":\"HKD\",\"name\":\"Hong Kong Dollar\",\"min_size\":\"0.01000000\"},{\"id\":\"HNL\",\"name\":\"Honduran Lempira\",\"min_size\":\"0.01000000\"},{\"id\":\"HRK\",\"name\":\"Croatian Kuna\",\"min_size\":\"0.01000000\"},{\"id\":\"HTG\",\"name\":\"Haitian Gourde\",\"min_size\":\"0.01000000\"},{\"id\":\"HUF\",\"name\":\"Hungarian Forint\",\"min_size\":\"1.00000000\"},{\"id\":\"IDR\",\"name\":\"Indonesian Rupiah\",\"min_size\":\"0.01000000\"},{\"id\":\"ILS\",\"name\":\"Israeli New Sheqel\",\"min_size\":\"0.01000000\"},{\"id\":\"IMP\",\"name\":\"Isle of Man Pound\",\"min_size\":\"0.01000000\"},{\"id\":\"INR\",\"name\":\"Indian Rupee\",\"min_size\":\"0.01000000\"},{\"id\":\"IQD\",\"name\":\"Iraqi Dinar\",\"min_size\":\"0.00100000\"},{\"id\":\"ISK\",\"name\":\"Icelandic Króna\",\"min_size\":\"1.00000000\"},{\"id\":\"JEP\",\"name\":\"Jersey Pound\",\"min_size\":\"0.01000000\"},{\"id\":\"JMD\",\"name\":\"Jamaican Dollar\",\"min_size\":\"0.01000000\"},{\"id\":\"JOD\",\"name\":\"Jordanian Dinar\",\"min_size\":\"0.00100000\"},{\"id\":\"JPY\",\"name\":\"Japanese Yen\",\"min_size\":\"1.00000000\"},{\"id\":\"KES\",\"name\":\"Kenyan Shilling\",\"min_size\":\"0.01000000\"},{\"id\":\"KGS\",\"name\":\"Kyrgyzstani Som\",\"min_size\":\"0.01000000\"},{\"id\":\"KHR\",\"name\":\"Cambodian Riel\",\"min_size\":\"0.01000000\"},{\"id\":\"KMF\",\"name\":\"Comorian Franc\",\"min_size\":\"1.00000000\"},{\"id\":\"KRW\",\"name\":\"South Korean Won\",\"min_size\":\"1.00000000\"},{\"id\":\"KWD\",\"name\":\"Kuwaiti Dinar\",\"min_size\":\"0.00100000\"},{\"id\":\"KYD\",\"name\":\"Cayman Islands Dollar\",\"min_size\":\"0.01000000\"},{\"id\":\"KZT\",\"name\":\"Kazakhstani Tenge\",\"min_size\":\"0.01000000\"},{\"id\":\"LAK\",\"name\":\"Lao Kip\",\"min_size\":\"0.01000000\"},{\"id\":\"LBP\",\"name\":\"Lebanese Pound\",\"min_size\":\"0.01000000\"},{\"id\":\"LKR\",\"name\":\"Sri Lankan Rupee\",\"min_size\":\"0.01000000\"},{\"id\":\"LRD\",\"name\":\"Liberian Dollar\",\"min_size\":\"0.01000000\"},{\"id\":\"LSL\",\"name\":\"Lesotho Loti\",\"min_size\":\"0.01000000\"},{\"id\":\"LYD\",\"name\":\"Libyan Dinar\",\"min_size\":\"0.00100000\"},{\"id\":\"MAD\",\"name\":\"Moroccan Dirham\",\"min_size\":\"0.01000000\"},{\"id\":\"MDL\",\"name\":\"Moldovan Leu\",\"min_size\":\"0.01000000\"},{\"id\":\"MGA\",\"name\":\"Malagasy Ariary\",\"min_size\":\"0.20000000\"},{\"id\":\"MKD\",\"name\":\"Macedonian Denar\",\"min_size\":\"0.01000000\"},{\"id\":\"MMK\",\"name\":\"Myanmar Kyat\",\"min_size\":\"0.01000000\"},{\"id\":\"MNT\",\"name\":\"Mongolian Tögrög\",\"min_size\":\"0.01000000\"},{\"id\":\"MOP\",\"name\":\"Macanese Pataca\",\"min_size\":\"0.01000000\"},{\"id\":\"MRO\",\"name\":\"Mauritanian Ouguiya\",\"min_size\":\"0.20000000\"},{\"id\":\"MTL\",\"name\":\"Maltese Lira\",\"min_size\":\"0.01000000\"},{\"id\":\"MUR\",\"name\":\"Mauritian Rupee\",\"min_size\":\"0.01000000\"},{\"id\":\"MVR\",\"name\":\"Maldivian Rufiyaa\",\"min_size\":\"0.01000000\"},{\"id\":\"MWK\",\"name\":\"Malawian Kwacha\",\"min_size\":\"0.01000000\"},{\"id\":\"MXN\",\"name\":\"Mexican Peso\",\"min_size\":\"0.01000000\"},{\"id\":\"MYR\",\"name\":\"Malaysian Ringgit\",\"min_size\":\"0.01000000\"},{\"id\":\"MZN\",\"name\":\"Mozambican Metical\",\"min_size\":\"0.01000000\"},{\"id\":\"NAD\",\"name\":\"Namibian Dollar\",\"min_size\":\"0.01000000\"},{\"id\":\"NGN\",\"name\":\"Nigerian Naira\",\"min_size\":\"0.01000000\"},{\"id\":\"NIO\",\"name\":\"Nicaraguan Córdoba\",\"min_size\":\"0.01000000\"},{\"id\":\"NOK\",\"name\":\"Norwegian Krone\",\"min_size\":\"0.01000000\"},{\"id\":\"NPR\",\"name\":\"Nepalese Rupee\",\"min_size\":\"0.01000000\"},{\"id\":\"NZD\",\"name\":\"New Zealand Dollar\",\"min_size\":\"0.01000000\"},{\"id\":\"OMR\",\"name\":\"Omani Rial\",\"min_size\":\"0.00100000\"},{\"id\":\"PAB\",\"name\":\"Panamanian Balboa\",\"min_size\":\"0.01000000\"},{\"id\":\"PEN\",\"name\":\"Peruvian Sol\",\"min_size\":\"0.01000000\"},{\"id\":\"PGK\",\"name\":\"Papua New Guinean Kina\",\"min_size\":\"0.01000000\"},{\"id\":\"PHP\",\"name\":\"Philippine Peso\",\"min_size\":\"0.01000000\"},{\"id\":\"PKR\",\"name\":\"Pakistani Rupee\",\"min_size\":\"0.01000000\"},{\"id\":\"PLN\",\"name\":\"Polish Złoty\",\"min_size\":\"0.01000000\"},{\"id\":\"PYG\",\"name\":\"Paraguayan Guaraní\",\"min_size\":\"1.00000000\"},{\"id\":\"QAR\",\"name\":\"Qatari Riyal\",\"min_size\":\"0.01000000\"},{\"id\":\"RON\",\"name\":\"Romanian Leu\",\"min_size\":\"0.01000000\"},{\"id\":\"RSD\",\"name\":\"Serbian Dinar\",\"min_size\":\"0.01000000\"},{\"id\":\"RUB\",\"name\":\"Russian Ruble\",\"min_size\":\"0.01000000\"},{\"id\":\"RWF\",\"name\":\"Rwandan Franc\",\"min_size\":\"1.00000000\"},{\"id\":\"SAR\",\"name\":\"Saudi Riyal\",\"min_size\":\"0.01000000\"},{\"id\":\"SBD\",\"name\":\"Solomon Islands Dollar\",\"min_size\":\"0.01000000\"},{\"id\":\"SCR\",\"name\":\"Seychellois Rupee\",\"min_size\":\"0.01000000\"},{\"id\":\"SEK\",\"name\":\"Swedish Krona\",\"min_size\":\"0.01000000\"},{\"id\":\"SGD\",\"name\":\"Singapore Dollar\",\"min_size\":\"0.01000000\"},{\"id\":\"SHP\",\"name\":\"Saint Helenian Pound\",\"min_size\":\"0.01000000\"},{\"id\":\"SLL\",\"name\":\"Sierra Leonean Leone\",\"min_size\":\"0.01000000\"},{\"id\":\"SOS\",\"name\":\"Somali Shilling\",\"min_size\":\"0.01000000\"},{\"id\":\"SRD\",\"name\":\"Surinamese Dollar\",\"min_size\":\"0.01000000\"},{\"id\":\"SSP\",\"name\":\"South Sudanese Pound\",\"min_size\":\"0.01000000\"},{\"id\":\"STD\",\"name\":\"São Tomé and Príncipe Dobra\",\"min_size\":\"0.01000000\"},{\"id\":\"SVC\",\"name\":\"Salvadoran Colón\",\"min_size\":\"0.01000000\"},{\"id\":\"SZL\",\"name\":\"Swazi Lilangeni\",\"min_size\":\"0.01000000\"},{\"id\":\"THB\",\"name\":\"Thai Baht\",\"min_size\":\"0.01000000\"},{\"id\":\"TJS\",\"name\":\"Tajikistani Somoni\",\"min_size\":\"0.01000000\"},{\"id\":\"TMM\",\"name\":\"Turkmenistani Manat\",\"min_size\":\"0.01000000\"},{\"id\":\"TMT\",\"name\":\"Turkmenistani Manat\",\"min_size\":\"0.01000000\"},{\"id\":\"TND\",\"name\":\"Tunisian Dinar\",\"min_size\":\"0.00100000\"},{\"id\":\"TOP\",\"name\":\"Tongan Paʻanga\",\"min_size\":\"0.01000000\"},{\"id\":\"TRY\",\"name\":\"Turkish Lira\",\"min_size\":\"0.01000000\"},{\"id\":\"TTD\",\"name\":\"Trinidad and Tobago Dollar\",\"min_size\":\"0.01000000\"},{\"id\":\"TWD\",\"name\":\"New Taiwan Dollar\",\"min_size\":\"0.01000000\"},{\"id\":\"TZS\",\"name\":\"Tanzanian Shilling\",\"min_size\":\"0.01000000\"},{\"id\":\"UAH\",\"name\":\"Ukrainian Hryvnia\",\"min_size\":\"0.01000000\"},{\"id\":\"UGX\",\"name\":\"Ugandan Shilling\",\"min_size\":\"1.00000000\"},{\"id\":\"USD\",\"name\":\"US Dollar\",\"min_size\":\"0.01000000\"},{\"id\":\"UYU\",\"name\":\"Uruguayan Peso\",\"min_size\":\"0.01000000\"},{\"id\":\"UZS\",\"name\":\"Uzbekistan Som\",\"min_size\":\"0.01000000\"},{\"id\":\"VES\",\"name\":\"Venezuelan Bolívar Soberano\",\"min_size\":\"0.01000000\"},{\"id\":\"VND\",\"name\":\"Vietnamese Đồng\",\"min_size\":\"1.00000000\"},{\"id\":\"VUV\",\"name\":\"Vanuatu Vatu\",\"min_size\":\"1.00000000\"},{\"id\":\"WST\",\"name\":\"Samoan Tala\",\"min_size\":\"0.01000000\"},{\"id\":\"XAF\",\"name\":\"Central African Cfa Franc\",\"min_size\":\"1.00000000\"},{\"id\":\"XAG\",\"name\":\"Silver (Troy Ounce)\",\"min_size\":\"1.00000000\"},{\"id\":\"XAU\",\"name\":\"Gold (Troy Ounce)\",\"min_size\":\"1.00000000\"},{\"id\":\"XCD\",\"name\":\"East Caribbean Dollar\",\"min_size\":\"0.01000000\"},{\"id\":\"XDR\",\"name\":\"Special Drawing Rights\",\"min_size\":\"1.00000000\"},{\"id\":\"XOF\",\"name\":\"West African Cfa Franc\",\"min_size\":\"1.00000000\"},{\"id\":\"XPD\",\"name\":\"Palladium\",\"min_size\":\"1.00000000\"},{\"id\":\"XPF\",\"name\":\"Cfp Franc\",\"min_size\":\"1.00000000\"},{\"id\":\"XPT\",\"name\":\"Platinum\",\"min_size\":\"1.00000000\"},{\"id\":\"YER\",\"name\":\"Yemeni Rial\",\"min_size\":\"0.01000000\"},{\"id\":\"ZAR\",\"name\":\"South African Rand\",\"min_size\":\"0.01000000\"},{\"id\":\"ZMW\",\"name\":\"Zambian Kwacha\",\"min_size\":\"0.01000000\"},{\"id\":\"ZWL\",\"name\":\"Zimbabwean Dollar\",\"min_size\":\"0.01000000\"}]}\n",
      "DEBUG:ccxt.base.exchange:GET https://api.coinbase.com/v2/exchange-rates, Request: {'CB-VERSION': '2018-05-30', 'User-Agent': 'Mozilla/5.0 (Windows NT 10.0; Win64; x64) AppleWebKit/537.36 (KHTML, like Gecko) Chrome/62.0.3202.94 Safari/537.36', 'Accept-Encoding': 'gzip, deflate'} None\n",
      "DEBUG:urllib3.connectionpool:https://api.coinbase.com:443 \"GET /v2/exchange-rates HTTP/1.1\" 200 None\n",
      "DEBUG:ccxt.base.exchange:GET https://api.coinbase.com/v2/exchange-rates, Response: 200 {'Date': 'Wed, 22 Sep 2021 03:03:37 GMT', 'Content-Type': 'application/json; charset=utf-8', 'Transfer-Encoding': 'chunked', 'Connection': 'keep-alive', 'Cache-Control': 'max-age=30, public, s-maxage=30, stale-while-revalidate=30, ', 'Content-Disposition': 'attachment; filename=response.json', 'Content-Encoding': 'gzip', 'Content-Security-Policy': \"default-src 'self' https://www.coinbase.com; child-src 'self' https://www.coinbase.com https://fast.wistia.net https://*.online-metrix.net https://*.wpstn.com https://netverify.com https://platform.twitter.com https://www.google.com/recaptcha/ https://recaptcha.net/recaptcha/ https://cdn.plaid.com/link/ https://*.doubleclick.net/ blob:; connect-src 'self' https://www.coinbase.com https://api.coinbase.com https://*.online-metrix.net https://api.cloudinary.com https://ott9.wpstn.com/live https://api.amplitude.com/ https://api2.amplitude.com/ https://d3907m2cqladbn.cloudfront.net/ https://exceptions.coinbase.com https://assets.coinbase.com/ https://sessions.coinbase.com/ https://dynamic-assets.coinbase.com/ https://events-service.coinbase.com/amp static.coinbase.com wss://ws.coinbase.com wss://ws.coinbase.com:443 https://www.coinbase.com/api; font-src 'self' https://www.coinbase.com https://assets.coinbase.com/ https://card.coinbase.com/ static.coinbase.com; img-src 'self' data: https://www.coinbase.com https://images.coinbase.com https://d3907m2cqladbn.cloudfront.net/ https://static-assets.coinbase.com/ https://dynamic-assets.coinbase.com/ https://exceptions.coinbase.com https://coinbase-uploads.s3.amazonaws.com https://s3.amazonaws.com/app-public/ https://maps.gstatic.com https://ssl.google-analytics.com https://www.google.com https://maps.googleapis.com https://csi.gstatic.com https://www.google-analytics.com https://res.cloudinary.com https://secure.gravatar.com https://i2.wp.com https://*.online-metrix.net https://assets.coinbase.com/ https://hexagon-analytics.com https://cb-brand.s3.amazonaws.com https://googleads.g.doubleclick.net https://stats.g.doubleclick.net/r/collect https://card.coinbase.com/ blob: static.coinbase.com https://www.facebook.com/tr; media-src 'self' https://www.coinbase.com blob:; object-src 'self' data: blob: https://www.coinbase.com https://cdn.siftscience.com https://*.online-metrix.net https://www.gstatic.com https://www.google.com/recaptcha/api/ https://recaptcha.net/recaptcha/; script-src 'self' 'unsafe-inline' 'unsafe-eval' https://www.coinbase.com https://fast.wistia.com/assets/external/E-v1.js https://cdn.siftscience.com https://*.google-analytics.com https://www.google.com https://www.gstatic.com https://*.online-metrix.net https://code.jquery.com https://chart.googleapis.com https://maps.googleapis.com https://maps.gstatic.com https://netverify.com https://ajax.cloudflare.com https://cdn.plaid.com/link/v2/stable/ https://www.googletagmanager.com/gtag/js https://www.googletagmanager.com/gtm.js https://www.googleadservices.com https://googleads.g.doubleclick.net https://recaptcha.net https://assets.coinbase.com/ https://card.coinbase.com/ static.coinbase.com; style-src 'self' 'unsafe-inline' https://www.coinbase.com https://assets.coinbase.com/ https://card.coinbase.com/ static.coinbase.com; report-uri /csp-report\", 'Etag': 'W/\"26e6a715034766dfcf839b312e65d506\"', 'Expect-Ct': 'enforce, max-age=86400, report-uri=\"https://coinbase.report-uri.io/r/default/ct/reportOnly\"', 'Referrer-Policy': 'strict-origin-when-cross-origin', 'Strict-Transport-Security': 'max-age=31536000; includeSubDomains; preload', 'Trace-Id': '121603309644345974', 'Vary': 'Origin,Accept-Encoding', 'X-Content-Type-Options': 'nosniff', 'X-Download-Options': 'noopen', 'X-Frame-Options': 'DENY', 'X-Permitted-Cross-Domain-Policies': 'none', 'X-Powered-By': 'Proof-of-Work', 'X-Request-Id': '6a20d514-2351-4658-ad70-6afbbf58d268', 'X-Xss-Protection': '1; mode=block', 'CF-Cache-Status': 'HIT', 'Set-Cookie': '__cf_bm=bUfSnmi_JGRY_dXOLQaDu6Zdel_c2.yXmRdV.uziUR4-1632279817-0-AfBEB8tI2V/hmaeLJG0adGiD0OeUPz3817uFmRjrrGsQbbt5hkC9Asq9VgP+ztH2LQjFwGE0N0CyHqIDrBeVRrQ=; path=/; expires=Wed, 22-Sep-21 03:33:37 GMT; domain=.coinbase.com; HttpOnly; Secure', 'Server': 'cloudflare', 'CF-RAY': '69284d1caf9dee64-CDG'} {\"data\":{\"currency\":\"USD\",\"rates\":{\"AED\":\"3.6732\",\"AFN\":\"86.635976\",\"ALL\":\"103.340587\",\"AMD\":\"486.601744\",\"ANG\":\"1.797509\",\"AOA\":\"612.333\",\"ARS\":\"98.3876\",\"AUD\":\"1.378806\",\"AWG\":\"1.8\",\"AZN\":\"1.700805\",\"BAM\":\"1.668861\",\"BBD\":\"2\",\"BDT\":\"85.477599\",\"BGN\":\"1.668236\",\"BHD\":\"0.376977\",\"BIF\":\"1989.390066\",\"BMD\":\"1\",\"BND\":\"1.353011\",\"BOB\":\"6.90459\",\"BRL\":\"5.2707\",\"BSD\":\"1\",\"BTN\":\"73.721458\",\"BWP\":\"11.201113\",\"BYN\":\"2.506432\",\"BYR\":\"25064.320000000003\",\"BZD\":\"2.018516\",\"CAD\":\"1.279145\",\"CDF\":\"1989.624858\",\"CHF\":\"0.924\",\"CLF\":\"0.028487\",\"CLP\":\"786.05\",\"CNY\":\"6.472\",\"COP\":\"3845.96165\",\"CRC\":\"625.207133\",\"CUC\":\"1\",\"CVE\":\"94.35\",\"CZK\":\"21.6771\",\"DJF\":\"178.26703\",\"DKK\":\"6.3422\",\"DOP\":\"56.66819\",\"DZD\":\"136.872016\",\"EGP\":\"15.6978\",\"ERN\":\"15.002477\",\"ETB\":\"46.327292\",\"EUR\":\"0.852894\",\"FJD\":\"2.0991\",\"FKP\":\"0.73201\",\"GBP\":\"0.73201\",\"GEL\":\"3.105\",\"GHS\":\"6.042092\",\"GIP\":\"0.73201\",\"GMD\":\"51.6\",\"GNF\":\"9786.790732\",\"GTQ\":\"7.745756\",\"GYD\":\"209.14802\",\"HKD\":\"7.78555\",\"HNL\":\"24.139152\",\"HRK\":\"6.3936\",\"HTG\":\"98.640264\",\"HUF\":\"300.66\",\"IDR\":\"14244.4\",\"ILS\":\"3.20605\",\"INR\":\"73.731997\",\"IQD\":\"1462.009612\",\"ISK\":\"129.86\",\"JMD\":\"148.388803\",\"JOD\":\"0.709\",\"JPY\":\"109.431\",\"KES\":\"110.45\",\"KGS\":\"84.797244\",\"KHR\":\"4084.816486\",\"KMF\":\"419.850067\",\"KRW\":\"1182.647126\",\"KWD\":\"0.301002\",\"KYD\":\"0.834503\",\"KZT\":\"426.936152\",\"LAK\":\"9853.480451\",\"LBP\":\"1514.064132\",\"LKR\":\"200.275603\",\"LRD\":\"171.349955\",\"LSL\":\"14.834314\",\"LYD\":\"4.537992\",\"MAD\":\"8.998545\",\"MDL\":\"17.704349\",\"MGA\":\"3963.4494\",\"MKD\":\"52.523799\",\"MMK\":\"1830.533203\",\"MNT\":\"2839.618893\",\"MOP\":\"8.030172\",\"MRO\":\"356.999828\",\"MUR\":\"42.400002\",\"MVR\":\"15.4\",\"MWK\":\"816.614118\",\"MXN\":\"20.088\",\"MYR\":\"4.1865\",\"MZN\":\"63.872001\",\"NAD\":\"14.83\",\"NGN\":\"412.06\",\"NIO\":\"35.165265\",\"NOK\":\"8.662137\",\"NPR\":\"117.957374\",\"NZD\":\"1.424908\",\"OMR\":\"0.384994\",\"PAB\":\"1\",\"PEN\":\"4.124681\",\"PGK\":\"3.516125\",\"PHP\":\"50.183\",\"PKR\":\"169.383114\",\"PLN\":\"3.938112\",\"PYG\":\"6879.539766\",\"QAR\":\"3.641\",\"RON\":\"4.2205\",\"RSD\":\"100.349404\",\"RUB\":\"72.9201\",\"RWF\":\"1016.91672\",\"SAR\":\"3.750326\",\"SBD\":\"8.058101\",\"SCR\":\"13.461235\",\"SEK\":\"8.685218\",\"SHP\":\"0.73201\",\"SLL\":\"10456.499899\",\"SOS\":\"579.288179\",\"SRD\":\"21.394\",\"SSP\":\"130.26\",\"STD\":\"20697.990504\",\"SVC\":\"8.762282\",\"SZL\":\"14.834955\",\"THB\":\"33.468333\",\"TJS\":\"11.355225\",\"TMT\":\"3.5\",\"TND\":\"2.802\",\"TOP\":\"2.260231\",\"TRY\":\"8.624949\",\"TTD\":\"6.802309\",\"TWD\":\"27.8034\",\"TZS\":\"2322.181447\",\"UAH\":\"26.731572\",\"UGX\":\"3541.879226\",\"UYU\":\"42.850636\",\"UZS\":\"10701.209331\",\"VES\":\"4071675.275\",\"VND\":\"22781.519494\",\"VUV\":\"111.631866\",\"WST\":\"2.56016\",\"XAF\":\"559.461758\",\"XAG\":\"0.04380875\",\"XAU\":\"0.00056218\",\"XCD\":\"2.70255\",\"XDR\":\"0.703269\",\"XOF\":\"559.461758\",\"XPD\":\"0.00051987\",\"XPF\":\"101.777321\",\"XPT\":\"0.00104122\",\"YER\":\"250.849982\",\"ZAR\":\"14.79076\",\"ZMW\":\"16.472716\",\"JEP\":\"0.73201\",\"GGP\":\"0.73201\",\"IMP\":\"0.73201\",\"GBX\":\"23.7480615644748\",\"CNH\":\"6.474292\",\"MTL\":\"0.3476999160297749\",\"TMM\":\"31.857543260950873\",\"ZWL\":\"322\",\"SGD\":\"1.3522\",\"USD\":\"1.0\",\"BTC\":\"2.374144521536874e-05\",\"BCH\":\"0.0019298313327415185\",\"BSV\":\"0.00695694238224275\",\"ETH\":\"0.00034839927951028996\",\"ETH2\":\"0.00034839927951028996\",\"ETC\":\"0.021124677848662808\",\"LTC\":\"0.0065780818313379815\",\"ZRX\":\"1.1559698037567863\",\"USDC\":\"1.0\",\"BAT\":\"1.595813861079616\",\"MANA\":\"1.557445602318725\",\"KNC\":\"0.698714365567356\",\"LINK\":\"0.04480040857972625\",\"DNT\":\"6.929190601245868\",\"MKR\":\"0.0004215560493756797\",\"CVC\":\"2.5233631889254635\",\"OMG\":\"0.11290249740324255\",\"DAI\":\"0.999395865199487\",\"ZEC\":\"0.008669643244180502\",\"XRP\":\"1.1063468741524345\",\"REP\":\"0.04621072088724584\",\"XLM\":\"3.6737827839191177\",\"EOS\":\"0.24844720496894407\",\"XTZ\":\"0.20558576524161465\",\"ALGO\":\"0.6137605106487448\",\"DASH\":\"0.006138471643330244\",\"ATOM\":\"0.031099362463069505\",\"OXT\":\"3.0826140567200984\",\"COMP\":\"0.0030550209268933493\",\"ENJ\":\"0.7877116975187081\",\"REPV2\":\"0.04621072088724584\",\"BAND\":\"0.13846292309076938\",\"NMR\":\"0.02550145422042692\",\"CGLD\":\"0.15516746448604657\",\"UMA\":\"0.10471752447772134\",\"LRC\":\"2.5889967637540456\",\"YFI\":\"3.521992997221324e-05\",\"UNI\":\"0.050017381039911366\",\"BAL\":\"0.049137912184162996\",\"REN\":\"1.3363624214887078\",\"WBTC\":\"2.3716585850424e-05\",\"NU\":\"3.7223152801042247\",\"YFII\":\"0.0002543273803771166\",\"FIL\":\"0.014191523119410313\",\"AAVE\":\"0.003549063136058659\",\"BNT\":\"0.29400955531054757\",\"GRT\":\"1.4608136732159813\",\"SNX\":\"0.10061070699143804\",\"STORJ\":\"0.9392317084624777\",\"SUSHI\":\"0.10354646647683147\",\"MATIC\":\"0.9244280101687081\",\"SKL\":\"3.1313605761703456\",\"ADA\":\"0.4886391399951136\",\"ANKR\":\"12.706480304955527\",\"CRV\":\"0.42414217245620733\",\"ICP\":\"0.022091392089072494\",\"NKN\":\"3.3489618218352315\",\"OGN\":\"1.3458950201884252\",\"1INCH\":\"0.41736227045075125\",\"USDT\":\"0.9999500024998749\",\"FORTH\":\"0.08101758081503686\",\"CTSI\":\"1.92807951075985\",\"TRB\":\"0.022884342532839032\",\"POLY\":\"1.8551154809386883\",\"MIR\":\"0.3287851389117212\",\"RLC\":\"0.3222168519413565\",\"DOT\":\"0.03636099192785979\",\"SOL\":\"0.007698851716266519\",\"DOGE\":\"4.848484848484849\",\"MLN\":\"0.005391562205148942\",\"GTC\":\"0.13982102908277405\",\"AMP\":\"22.980581408709643\",\"SHIB\":\"141542.81670205237\",\"CHZ\":\"3.840245775729646\",\"KEEP\":\"2.815315315315315\",\"LPT\":\"0.06275494195167869\",\"QNT\":\"0.0035753231198269544\",\"BOND\":\"0.04484304932735426\",\"RLY\":\"1.8050541516245486\",\"CLV\":\"0.8583690987124464\",\"FARM\":\"0.005973715651135005\",\"MASK\":\"0.11481056257175659\",\"FET\":\"1.622981416862777\",\"PAX\":\"0.9950248756218907\",\"ACH\":\"13.992374156084933\",\"PLA\":\"1.3289036544850499\",\"RAI\":\"0.33110390040394677\",\"TRIBE\":\"1.6494845360824744\",\"ORN\":\"0.12391573729863692\",\"IOTX\":\"19.25854597977853\",\"UST\":\"0.9985022466300548\",\"QUICK\":\"0.002762927044911379\",\"AXS\":\"0.017287578874578616\",\"REQ\":\"5.735753821445983\",\"WLUNA\":\"0.03793626707132018\",\"TRU\":\"2.018367140982945\",\"RAD\":\"0.12026458208057728\",\"COTI\":\"3.2530904359141184\",\"DDX\":\"0.19920318725099603\",\"RGT\":\"0.0648508430609598\",\"XYO\":\"34.39499208915182\",\"ZEN\":\"0.013968431345159939\",\"BTRST\":\"0.09057560798876862\",\"AGLD\":\"0.2989536621823617\"}}}\n"
     ]
    }
   ],
   "source": [
    "import ccxt\n",
    "import os \n",
    "import re\n",
    "import time\n",
    "import pandas as pd\n",
    "\n",
    "from stockstats import StockDataFrame as Sdf\n",
    "\n",
    "# configure exchange\n",
    "exchange = getattr(ccxt, exchangeA)({\n",
    "  #'apiKey': os.environ['APIKEY'],\n",
    "  #'secret': os.environ['SECRET'],\n",
    "  'timeout': 10000,\n",
    "  'enableRateLimit': True\n",
    "})\n",
    "\n",
    "# load markets and all coin_pairs\n",
    "exchange.load_markets()\n",
    "\n",
    "coin_pairs = exchange.symbols\n",
    "# list of coin pairs which are active and use BTC as base coin\n",
    "valid_coin_pairs = []\n",
    "# load only coin_pairs which match regex and are active\n",
    "regex = '^.*/USD'\n",
    "\n",
    "for coin_pair in coin_pairs:\n",
    "  if re.match(regex, coin_pair) and exchange.markets[coin_pair]['active']:\n",
    "    valid_coin_pairs.append(coin_pair)"
   ]
  },
  {
   "cell_type": "code",
   "execution_count": 215,
   "metadata": {},
   "outputs": [],
   "source": [
    "from stockstats import StockDataFrame as Sdf\n",
    "\n",
    "def get_historical_data(coin_pair, timeframe):\n",
    "    \"\"\"Get Historical data (ohlcv) from a coin_pair\n",
    "    \"\"\"\n",
    "    # optional: exchange.fetch_ohlcv(coin_pair, '1h', since)\n",
    "    data = exchangePick.fetchOHLCV(coin_pair, '1d', timeframe)\n",
    "    # update timestamp to human readable timestamp\n",
    "    data = [[exchange.iso8601(candle[0])] + candle[1:] for candle in data]\n",
    "    header = ['Timestamp', 'Open', 'High', 'Low', 'Close', 'Volume']\n",
    "    df = pd.DataFrame(data, columns=header)\n",
    "    return df\n",
    "\n",
    "\n",
    "def create_stock(historical_data):\n",
    "    \"\"\"Create StockData from historical data \n",
    "    \"\"\"\n",
    "    assets = Sdf.retype(historical_data)\n",
    "    return assets\n",
    "\n",
    "\n",
    "if __name__ == \"__main__\":\n",
    "  ...\n",
    "  for coin_pair in valid_coin_pairs:\n",
    "    # respect rate limit\n",
    "    time.sleep(exchange.rateLimit / 1000)\n",
    "    data = get_historical_data(coin_pair, '1d')\n",
    "    assets_data = create_asset(data)\n",
    "\n",
    "    print(assets_data)"
   ]
  },
  {
   "cell_type": "code",
   "execution_count": 218,
   "metadata": {},
   "outputs": [
    {
     "name": "stderr",
     "output_type": "stream",
     "text": [
      "DEBUG:ccxt.base.exchange:GET https://api.coinbase.com/v2/prices/ZRX-ZWL/buy, Request: {'CB-VERSION': '2018-05-30', 'User-Agent': 'Mozilla/5.0 (Windows NT 10.0; Win64; x64) AppleWebKit/537.36 (KHTML, like Gecko) Chrome/62.0.3202.94 Safari/537.36', 'Accept-Encoding': 'gzip, deflate'} None\n",
      "DEBUG:urllib3.connectionpool:https://api.coinbase.com:443 \"GET /v2/prices/ZRX-ZWL/buy HTTP/1.1\" 200 None\n",
      "DEBUG:ccxt.base.exchange:GET https://api.coinbase.com/v2/prices/ZRX-ZWL/buy, Response: 200 {'Date': 'Wed, 22 Sep 2021 03:08:13 GMT', 'Content-Type': 'application/json; charset=utf-8', 'Transfer-Encoding': 'chunked', 'Connection': 'keep-alive', 'Cache-Control': 'max-age=15, public, s-maxage=15, ', 'Content-Disposition': 'attachment; filename=response.json', 'Content-Encoding': 'gzip', 'Content-Security-Policy': \"default-src 'self' https://www.coinbase.com; child-src 'self' https://www.coinbase.com https://fast.wistia.net https://*.online-metrix.net https://*.wpstn.com https://netverify.com https://platform.twitter.com https://www.google.com/recaptcha/ https://recaptcha.net/recaptcha/ https://cdn.plaid.com/link/ https://*.doubleclick.net/ blob:; connect-src 'self' https://www.coinbase.com https://api.coinbase.com https://*.online-metrix.net https://api.cloudinary.com https://ott9.wpstn.com/live https://api.amplitude.com/ https://api2.amplitude.com/ https://d3907m2cqladbn.cloudfront.net/ https://exceptions.coinbase.com https://assets.coinbase.com/ https://sessions.coinbase.com/ https://dynamic-assets.coinbase.com/ https://events-service.coinbase.com/amp static.coinbase.com wss://ws.coinbase.com wss://ws.coinbase.com:443 https://www.coinbase.com/api; font-src 'self' https://www.coinbase.com https://assets.coinbase.com/ https://card.coinbase.com/ static.coinbase.com; img-src 'self' data: https://www.coinbase.com https://images.coinbase.com https://d3907m2cqladbn.cloudfront.net/ https://static-assets.coinbase.com/ https://dynamic-assets.coinbase.com/ https://exceptions.coinbase.com https://coinbase-uploads.s3.amazonaws.com https://s3.amazonaws.com/app-public/ https://maps.gstatic.com https://ssl.google-analytics.com https://www.google.com https://maps.googleapis.com https://csi.gstatic.com https://www.google-analytics.com https://res.cloudinary.com https://secure.gravatar.com https://i2.wp.com https://*.online-metrix.net https://assets.coinbase.com/ https://hexagon-analytics.com https://cb-brand.s3.amazonaws.com https://googleads.g.doubleclick.net https://stats.g.doubleclick.net/r/collect https://card.coinbase.com/ blob: static.coinbase.com https://www.facebook.com/tr; media-src 'self' https://www.coinbase.com blob:; object-src 'self' data: blob: https://www.coinbase.com https://cdn.siftscience.com https://*.online-metrix.net https://www.gstatic.com https://www.google.com/recaptcha/api/ https://recaptcha.net/recaptcha/; script-src 'self' 'unsafe-inline' 'unsafe-eval' https://www.coinbase.com https://fast.wistia.com/assets/external/E-v1.js https://cdn.siftscience.com https://*.google-analytics.com https://www.google.com https://www.gstatic.com https://*.online-metrix.net https://code.jquery.com https://chart.googleapis.com https://maps.googleapis.com https://maps.gstatic.com https://netverify.com https://ajax.cloudflare.com https://cdn.plaid.com/link/v2/stable/ https://www.googletagmanager.com/gtag/js https://www.googletagmanager.com/gtm.js https://www.googleadservices.com https://googleads.g.doubleclick.net https://recaptcha.net https://assets.coinbase.com/ https://card.coinbase.com/ static.coinbase.com; style-src 'self' 'unsafe-inline' https://www.coinbase.com https://assets.coinbase.com/ https://card.coinbase.com/ static.coinbase.com; report-uri /csp-report\", 'Etag': 'W/\"1403475795d72cb348313d2d30f28773\"', 'Expect-Ct': 'enforce, max-age=86400, report-uri=\"https://coinbase.report-uri.io/r/default/ct/reportOnly\"', 'Referrer-Policy': 'strict-origin-when-cross-origin', 'Strict-Transport-Security': 'max-age=31536000; includeSubDomains; preload', 'Trace-Id': '3196248748148439747', 'Vary': 'Origin,Accept-Encoding', 'X-Content-Type-Options': 'nosniff', 'X-Download-Options': 'noopen', 'X-Frame-Options': 'DENY', 'X-Permitted-Cross-Domain-Policies': 'none', 'X-Powered-By': 'Proof-of-Work', 'X-Request-Id': 'a0ce827c-3a6b-4858-b419-540d86059844', 'X-Xss-Protection': '1; mode=block', 'CF-Cache-Status': 'EXPIRED', 'Set-Cookie': '__cf_bm=S_pXe3VdGc4vjd0FJfeJvz6QdPbsp1gFCYPCoVpJI8o-1632280093-0-AYBrWwdoYBK9hBd53LLmh2MnZoQUwD2wSV9+6NclTR9NWGaqfXYd2k38emgCcguk6Jht0qulUSOQBU/7zQV/kuA=; path=/; expires=Wed, 22-Sep-21 03:38:13 GMT; domain=.coinbase.com; HttpOnly; Secure', 'Server': 'cloudflare', 'CF-RAY': '692853d4ced3ee64-CDG'} {\"data\":{\"base\":\"ZRX\",\"currency\":\"ZWL\",\"amount\":\"280.38\"}}\n",
      "DEBUG:ccxt.base.exchange:GET https://api.coinbase.com/v2/prices/ZRX-ZWL/sell, Request: {'CB-VERSION': '2018-05-30', 'User-Agent': 'Mozilla/5.0 (Windows NT 10.0; Win64; x64) AppleWebKit/537.36 (KHTML, like Gecko) Chrome/62.0.3202.94 Safari/537.36', 'Accept-Encoding': 'gzip, deflate'} None\n",
      "DEBUG:urllib3.connectionpool:https://api.coinbase.com:443 \"GET /v2/prices/ZRX-ZWL/sell HTTP/1.1\" 200 None\n",
      "DEBUG:ccxt.base.exchange:GET https://api.coinbase.com/v2/prices/ZRX-ZWL/sell, Response: 200 {'Date': 'Wed, 22 Sep 2021 03:08:13 GMT', 'Content-Type': 'application/json; charset=utf-8', 'Transfer-Encoding': 'chunked', 'Connection': 'keep-alive', 'Cache-Control': 'max-age=15, public, s-maxage=15, ', 'Content-Disposition': 'attachment; filename=response.json', 'Content-Encoding': 'gzip', 'Content-Security-Policy': \"default-src 'self' https://www.coinbase.com; child-src 'self' https://www.coinbase.com https://fast.wistia.net https://*.online-metrix.net https://*.wpstn.com https://netverify.com https://platform.twitter.com https://www.google.com/recaptcha/ https://recaptcha.net/recaptcha/ https://cdn.plaid.com/link/ https://*.doubleclick.net/ blob:; connect-src 'self' https://www.coinbase.com https://api.coinbase.com https://*.online-metrix.net https://api.cloudinary.com https://ott9.wpstn.com/live https://api.amplitude.com/ https://api2.amplitude.com/ https://d3907m2cqladbn.cloudfront.net/ https://exceptions.coinbase.com https://assets.coinbase.com/ https://sessions.coinbase.com/ https://dynamic-assets.coinbase.com/ https://events-service.coinbase.com/amp static.coinbase.com wss://ws.coinbase.com wss://ws.coinbase.com:443 https://www.coinbase.com/api; font-src 'self' https://www.coinbase.com https://assets.coinbase.com/ https://card.coinbase.com/ static.coinbase.com; img-src 'self' data: https://www.coinbase.com https://images.coinbase.com https://d3907m2cqladbn.cloudfront.net/ https://static-assets.coinbase.com/ https://dynamic-assets.coinbase.com/ https://exceptions.coinbase.com https://coinbase-uploads.s3.amazonaws.com https://s3.amazonaws.com/app-public/ https://maps.gstatic.com https://ssl.google-analytics.com https://www.google.com https://maps.googleapis.com https://csi.gstatic.com https://www.google-analytics.com https://res.cloudinary.com https://secure.gravatar.com https://i2.wp.com https://*.online-metrix.net https://assets.coinbase.com/ https://hexagon-analytics.com https://cb-brand.s3.amazonaws.com https://googleads.g.doubleclick.net https://stats.g.doubleclick.net/r/collect https://card.coinbase.com/ blob: static.coinbase.com https://www.facebook.com/tr; media-src 'self' https://www.coinbase.com blob:; object-src 'self' data: blob: https://www.coinbase.com https://cdn.siftscience.com https://*.online-metrix.net https://www.gstatic.com https://www.google.com/recaptcha/api/ https://recaptcha.net/recaptcha/; script-src 'self' 'unsafe-inline' 'unsafe-eval' https://www.coinbase.com https://fast.wistia.com/assets/external/E-v1.js https://cdn.siftscience.com https://*.google-analytics.com https://www.google.com https://www.gstatic.com https://*.online-metrix.net https://code.jquery.com https://chart.googleapis.com https://maps.googleapis.com https://maps.gstatic.com https://netverify.com https://ajax.cloudflare.com https://cdn.plaid.com/link/v2/stable/ https://www.googletagmanager.com/gtag/js https://www.googletagmanager.com/gtm.js https://www.googleadservices.com https://googleads.g.doubleclick.net https://recaptcha.net https://assets.coinbase.com/ https://card.coinbase.com/ static.coinbase.com; style-src 'self' 'unsafe-inline' https://www.coinbase.com https://assets.coinbase.com/ https://card.coinbase.com/ static.coinbase.com; report-uri /csp-report\", 'Etag': 'W/\"436a52b94dc986fbad53d17eb5005a82\"', 'Expect-Ct': 'enforce, max-age=86400, report-uri=\"https://coinbase.report-uri.io/r/default/ct/reportOnly\"', 'Referrer-Policy': 'strict-origin-when-cross-origin', 'Strict-Transport-Security': 'max-age=31536000; includeSubDomains; preload', 'Trace-Id': '9098378958717891980', 'Vary': 'Origin,Accept-Encoding', 'X-Content-Type-Options': 'nosniff', 'X-Download-Options': 'noopen', 'X-Frame-Options': 'DENY', 'X-Permitted-Cross-Domain-Policies': 'none', 'X-Powered-By': 'Proof-of-Work', 'X-Request-Id': 'f5cdd9aa-cd6b-4689-b5ea-412cb82bdf73', 'X-Xss-Protection': '1; mode=block', 'CF-Cache-Status': 'EXPIRED', 'Set-Cookie': '__cf_bm=S4B1qJgvzFqlIpgWgPeYCL0Ek3W4Tk.Hw_CqjrlnUJE-1632280093-0-AYQjT/KalDn+vcQmF8Zg72RY7rn4IBQgPzUv45izkUZToGJ4w8rpLGQxZIEkdZiKwqsz7d0X7Ki9nDDwNmSNpjg=; path=/; expires=Wed, 22-Sep-21 03:38:13 GMT; domain=.coinbase.com; HttpOnly; Secure', 'Server': 'cloudflare', 'CF-RAY': '692853d74f81ee64-CDG'} {\"data\":{\"base\":\"ZRX\",\"currency\":\"ZWL\",\"amount\":\"277.49\"}}\n",
      "DEBUG:ccxt.base.exchange:GET https://api.coinbase.com/v2/prices/ZRX-ZWL/spot, Request: {'CB-VERSION': '2018-05-30', 'User-Agent': 'Mozilla/5.0 (Windows NT 10.0; Win64; x64) AppleWebKit/537.36 (KHTML, like Gecko) Chrome/62.0.3202.94 Safari/537.36', 'Accept-Encoding': 'gzip, deflate'} None\n",
      "DEBUG:urllib3.connectionpool:https://api.coinbase.com:443 \"GET /v2/prices/ZRX-ZWL/spot HTTP/1.1\" 200 None\n",
      "DEBUG:ccxt.base.exchange:GET https://api.coinbase.com/v2/prices/ZRX-ZWL/spot, Response: 200 {'Date': 'Wed, 22 Sep 2021 03:08:13 GMT', 'Content-Type': 'application/json; charset=utf-8', 'Transfer-Encoding': 'chunked', 'Connection': 'keep-alive', 'Cache-Control': 'max-age=30, public, s-maxage=30, ', 'Content-Disposition': 'attachment; filename=response.json', 'Content-Encoding': 'gzip', 'Content-Security-Policy': \"default-src 'self' https://www.coinbase.com; child-src 'self' https://www.coinbase.com https://fast.wistia.net https://*.online-metrix.net https://*.wpstn.com https://netverify.com https://platform.twitter.com https://www.google.com/recaptcha/ https://recaptcha.net/recaptcha/ https://cdn.plaid.com/link/ https://*.doubleclick.net/ blob:; connect-src 'self' https://www.coinbase.com https://api.coinbase.com https://*.online-metrix.net https://api.cloudinary.com https://ott9.wpstn.com/live https://api.amplitude.com/ https://api2.amplitude.com/ https://d3907m2cqladbn.cloudfront.net/ https://exceptions.coinbase.com https://assets.coinbase.com/ https://sessions.coinbase.com/ https://dynamic-assets.coinbase.com/ https://events-service.coinbase.com/amp static.coinbase.com wss://ws.coinbase.com wss://ws.coinbase.com:443 https://www.coinbase.com/api; font-src 'self' https://www.coinbase.com https://assets.coinbase.com/ https://card.coinbase.com/ static.coinbase.com; img-src 'self' data: https://www.coinbase.com https://images.coinbase.com https://d3907m2cqladbn.cloudfront.net/ https://static-assets.coinbase.com/ https://dynamic-assets.coinbase.com/ https://exceptions.coinbase.com https://coinbase-uploads.s3.amazonaws.com https://s3.amazonaws.com/app-public/ https://maps.gstatic.com https://ssl.google-analytics.com https://www.google.com https://maps.googleapis.com https://csi.gstatic.com https://www.google-analytics.com https://res.cloudinary.com https://secure.gravatar.com https://i2.wp.com https://*.online-metrix.net https://assets.coinbase.com/ https://hexagon-analytics.com https://cb-brand.s3.amazonaws.com https://googleads.g.doubleclick.net https://stats.g.doubleclick.net/r/collect https://card.coinbase.com/ blob: static.coinbase.com https://www.facebook.com/tr; media-src 'self' https://www.coinbase.com blob:; object-src 'self' data: blob: https://www.coinbase.com https://cdn.siftscience.com https://*.online-metrix.net https://www.gstatic.com https://www.google.com/recaptcha/api/ https://recaptcha.net/recaptcha/; script-src 'self' 'unsafe-inline' 'unsafe-eval' https://www.coinbase.com https://fast.wistia.com/assets/external/E-v1.js https://cdn.siftscience.com https://*.google-analytics.com https://www.google.com https://www.gstatic.com https://*.online-metrix.net https://code.jquery.com https://chart.googleapis.com https://maps.googleapis.com https://maps.gstatic.com https://netverify.com https://ajax.cloudflare.com https://cdn.plaid.com/link/v2/stable/ https://www.googletagmanager.com/gtag/js https://www.googletagmanager.com/gtm.js https://www.googleadservices.com https://googleads.g.doubleclick.net https://recaptcha.net https://assets.coinbase.com/ https://card.coinbase.com/ static.coinbase.com; style-src 'self' 'unsafe-inline' https://www.coinbase.com https://assets.coinbase.com/ https://card.coinbase.com/ static.coinbase.com; report-uri /csp-report\", 'Etag': 'W/\"af0ced8d371b780c0938cdb2778f4ac7\"', 'Expect-Ct': 'enforce, max-age=86400, report-uri=\"https://coinbase.report-uri.io/r/default/ct/reportOnly\"', 'Referrer-Policy': 'strict-origin-when-cross-origin', 'Strict-Transport-Security': 'max-age=31536000; includeSubDomains; preload', 'Trace-Id': '6016331670700960590', 'Vary': 'Origin,Accept-Encoding', 'X-Content-Type-Options': 'nosniff', 'X-Download-Options': 'noopen', 'X-Frame-Options': 'DENY', 'X-Permitted-Cross-Domain-Policies': 'none', 'X-Powered-By': 'Proof-of-Work', 'X-Request-Id': '91079857-88e6-483b-ab38-bcf35292fed4', 'X-Xss-Protection': '1; mode=block', 'CF-Cache-Status': 'EXPIRED', 'Set-Cookie': '__cf_bm=agJAIHz1dFsBojKuAjKqhvWmpEYPWGhPY_7pi4K67.E-1632280093-0-AUtNPnsblMXoZiBpRYMimqKxBktSXDHJX72zGSQj+1ydKyf9ns/XwCQ+CXviRM3qxJTz6D2JQgjxe9Ep9wmYdzw=; path=/; expires=Wed, 22-Sep-21 03:38:13 GMT; domain=.coinbase.com; HttpOnly; Secure', 'Server': 'cloudflare', 'CF-RAY': '692853d9d901ee64-CDG'} {\"data\":{\"base\":\"ZRX\",\"currency\":\"ZWL\",\"amount\":\"278.768924\"}}\n"
     ]
    },
    {
     "name": "stdout",
     "output_type": "stream",
     "text": [
      "None\n"
     ]
    }
   ],
   "source": [
    "\n",
    "  # better way to do it\n",
    "  ticker = exchange.fetch_ticker(coin_pair)\n",
    "  day_volume = ticker[\"baseVolume\"]\n",
    "  print(day_volume)\n",
    "  "
   ]
  },
  {
   "cell_type": "code",
   "execution_count": null,
   "metadata": {},
   "outputs": [],
   "source": [
    "#for i in range(1, len(signal)):\n",
    "    # If the MACD crosses the signal line upward\n",
    "#    if macd[i] > signal[i] and macd[i - 1] <= signal[i - 1]:\n",
    "    #    advice.append(\"BUY\")\n",
    "#    # The other way around\n",
    "#    elif macd[i] < signal[i] and macd[i - 1] >= signal[i - 1]:\n",
    "    #    advice.append(\"SELL\")\n",
    "    # Do nothing if not crossed\n",
    "#    else:\n",
    "    #    advice.append(\"HOLD\")\n",
    "\n",
    "    #use To create buy/sell/hold"
   ]
  },
  {
   "cell_type": "code",
   "execution_count": null,
   "metadata": {},
   "outputs": [],
   "source": []
  },
  {
   "cell_type": "code",
   "execution_count": null,
   "metadata": {},
   "outputs": [],
   "source": []
  }
 ],
 "metadata": {
  "kernelspec": {
   "display_name": "Python 3.8.8 64-bit ('base': conda)",
   "name": "python388jvsc74a57bd04a56e6d547e91b519ca40bfc39c5a5ad14b1cb51811480a15d413be1012b533b"
  },
  "language_info": {
   "codemirror_mode": {
    "name": "ipython",
    "version": 3
   },
   "file_extension": ".py",
   "mimetype": "text/x-python",
   "name": "python",
   "nbconvert_exporter": "python",
   "pygments_lexer": "ipython3",
   "version": "3.8.8"
  },
  "metadata": {
   "interpreter": {
    "hash": "4a56e6d547e91b519ca40bfc39c5a5ad14b1cb51811480a15d413be1012b533b"
   }
  }
 },
 "nbformat": 4,
 "nbformat_minor": 5
}