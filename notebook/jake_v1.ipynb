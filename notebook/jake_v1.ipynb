{
 "cells": [
  {
   "cell_type": "code",
   "execution_count": 1,
   "id": "73982872-7502-4b6d-ab50-9273a2ae4c04",
   "metadata": {},
   "outputs": [
    {
     "name": "stdin",
     "output_type": "stream",
     "text": [
      "Welcome Newcomer! What is your name? Jake\n"
     ]
    }
   ],
   "source": [
    "name = input(\"Welcome Newcomer! What is your name?\")"
   ]
  },
  {
   "cell_type": "code",
   "execution_count": 2,
   "id": "62b59868-5d08-4b3a-82a0-599a3cd9f967",
   "metadata": {},
   "outputs": [
    {
     "name": "stdout",
     "output_type": "stream",
     "text": [
      "Hello Jake, my name is Cryptara. My makers created me with the soul objective of making sure your personal savings go to good use in the Crypto market!\n",
      "In order to meet your financial objectives, we will work as a team to maximize your savings, and get you living large!\n",
      "The way this works is..\n",
      "Every week, I need you to do some research and select your top ten favoriate cryptos, anything you want!\n",
      "From there, let me look into some insider trading techniques and determine the best use for your savings on that particular point in time\n",
      "...okay enough talking, lets get started!\n"
     ]
    }
   ],
   "source": [
    "if name != \"\" or name == None:\n",
    "    # If so, write a print with a string of \"Hello\" concatenated with the variable `name`.\n",
    "    print(f\"Hello {name}, my name is Cryptara. My makers created me with the soul objective of making sure your personal savings go to good use in the Crypto market!\")\n",
    "    print(f\"In order to meet your financial objectives, we will work as a team to maximize your savings, and get you living large!\")\n",
    "    print(f'The way this works is..')\n",
    "    print(f\"Every week, I need you to do some research and select your top ten favoriate cryptos, anything you want!\")\n",
    "    print(f\"From there, let me look into some insider trading techniques and determine the best use for your savings on that particular point in time\")\n",
    "    print(f\"...okay enough talking, lets get started!\")"
   ]
  },
  {
   "cell_type": "code",
   "execution_count": 3,
   "id": "b2aed2c0-9131-49fe-81e7-5b0e6adbc96c",
   "metadata": {},
   "outputs": [
    {
     "name": "stdout",
     "output_type": "stream",
     "text": [
      "Thanks for using our csv file import option! Let me look through your list and see if I can validate the data..\n"
     ]
    }
   ],
   "source": [
    "#OPEN define input option, user can either import csv file or input their tickers directly.\n",
    "#Let user insert their tickers for the week:\n",
    "#print(f\"Tell me {name}, what are your favoriate cryptos this week?\")\n",
    "#crypto_one = (input(\"enter the ticker of your first choice:\"))\n",
    "#crypto_two = input(\"enter the ticker of your second choice:\")\n",
    "print(f'Thanks for using our csv file import option! Let me look through your list and see if I can validate the data..')\n",
    "#OR USE LIST IMPORT\n",
    "#ticker_data = Path(\"../crypto_thirtysix.csv\")\n",
    "#ticker= pd.read_csv(ticker_data, header=None)"
   ]
  },
  {
   "cell_type": "code",
   "execution_count": 4,
   "id": "b48875d6-6f6d-4f2f-af95-d87086421902",
   "metadata": {},
   "outputs": [],
   "source": [
    "#Import libraries and dependencies\n",
    "from dotenv import load_dotenv\n",
    "import datetime\n",
    "import os\n",
    "import logging\n",
    "import pandas as pd\n",
    "from pathlib import Path\n",
    "%matplotlib inline"
   ]
  },
  {
   "cell_type": "code",
   "execution_count": 5,
   "id": "dc0f9948-8bd4-4e02-a6c7-586ca519cf9e",
   "metadata": {},
   "outputs": [],
   "source": [
    "#Create TradingView variable and activate env variables\n",
    "from tvDatafeed import TvDatafeed,Interval\n",
    "load_dotenv()\n",
    "tradev_id = os.getenv(\"username\")\n",
    "tradev_secret_key = os.getenv(\"password\")"
   ]
  },
  {
   "cell_type": "code",
   "execution_count": 6,
   "id": "4ff85c7c-e6f5-472d-93fb-58e614284c45",
   "metadata": {
    "tags": []
   },
   "outputs": [
    {
     "name": "stderr",
     "output_type": "stream",
     "text": [
      "DEBUG:tvDatafeed.main:auth loaded\n"
     ]
    }
   ],
   "source": [
    "#Log into TradingView\n",
    "logging.basicConfig(level=logging.DEBUG)\n",
    "tv = TvDatafeed(tradev_id, tradev_secret_key, chromedriver_path=None)"
   ]
  },
  {
   "cell_type": "code",
   "execution_count": 7,
   "id": "71df3699-7258-48a0-af3a-38e8743425ec",
   "metadata": {},
   "outputs": [
    {
     "name": "stdout",
     "output_type": "stream",
     "text": [
      "Nice work! No issues have been identified, let me look into these and get back to you shortly...\n"
     ]
    }
   ],
   "source": [
    "from pathlib import Path\n",
    "ticker_data = Path(\"data_files/crypto_tickers.csv\")\n",
    "ticker= pd.read_csv(ticker_data, header=None)\n",
    "ticker= pd.DataFrame(ticker)\n",
    "my_crypto_list = ticker[0].tolist()\n",
    "screener=\"CRYPTO\"\n",
    "exchange=\"GEMINI\"\n",
    "df_daily = pd.DataFrame()\n",
    "print(f\"Nice work! No issues have been identified, let me look into these and get back to you shortly...\")"
   ]
  },
  {
   "cell_type": "code",
   "execution_count": 8,
   "id": "6a3f4765-0ffa-4853-b188-840c0e4295ec",
   "metadata": {
    "tags": []
   },
   "outputs": [
    {
     "name": "stderr",
     "output_type": "stream",
     "text": [
      "DEBUG:root:creating websocket connection\n",
      "DEBUG:tvDatafeed.main:getting data for GEMINI:1INCHUSD...\n",
      "DEBUG:root:creating websocket connection\n",
      "DEBUG:tvDatafeed.main:getting data for GEMINI:DOGEUSD...\n",
      "DEBUG:root:creating websocket connection\n",
      "DEBUG:tvDatafeed.main:getting data for GEMINI:LTCUSD...\n",
      "DEBUG:root:creating websocket connection\n",
      "DEBUG:tvDatafeed.main:getting data for GEMINI:SUSHIUSD...\n",
      "DEBUG:root:creating websocket connection\n",
      "DEBUG:tvDatafeed.main:getting data for GEMINI:MANAUSD...\n",
      "DEBUG:root:creating websocket connection\n",
      "DEBUG:tvDatafeed.main:getting data for GEMINI:MIRUSD...\n",
      "DEBUG:root:creating websocket connection\n",
      "DEBUG:tvDatafeed.main:getting data for GEMINI:LRCUSD...\n",
      "DEBUG:root:creating websocket connection\n",
      "DEBUG:tvDatafeed.main:getting data for GEMINI:LPTUSD...\n",
      "DEBUG:root:creating websocket connection\n",
      "DEBUG:tvDatafeed.main:getting data for GEMINI:AAVEUSD...\n",
      "DEBUG:root:creating websocket connection\n",
      "DEBUG:tvDatafeed.main:getting data for GEMINI:ANKRUSD...\n",
      "DEBUG:root:creating websocket connection\n",
      "DEBUG:tvDatafeed.main:getting data for GEMINI:BALUSD...\n",
      "DEBUG:root:creating websocket connection\n",
      "DEBUG:tvDatafeed.main:getting data for GEMINI:BATUSD...\n",
      "DEBUG:root:creating websocket connection\n",
      "DEBUG:tvDatafeed.main:getting data for GEMINI:BCHUSD...\n",
      "DEBUG:root:creating websocket connection\n",
      "DEBUG:tvDatafeed.main:getting data for GEMINI:BNTUSD...\n",
      "DEBUG:root:creating websocket connection\n",
      "DEBUG:tvDatafeed.main:getting data for GEMINI:BONDUSD...\n",
      "DEBUG:root:creating websocket connection\n",
      "DEBUG:tvDatafeed.main:getting data for GEMINI:BTCUSD...\n",
      "DEBUG:root:creating websocket connection\n",
      "DEBUG:tvDatafeed.main:getting data for GEMINI:COMPUSD...\n",
      "DEBUG:root:creating websocket connection\n",
      "DEBUG:tvDatafeed.main:getting data for GEMINI:CRVUSD...\n",
      "DEBUG:root:creating websocket connection\n",
      "DEBUG:tvDatafeed.main:getting data for GEMINI:ENJUSD...\n",
      "DEBUG:root:creating websocket connection\n",
      "DEBUG:tvDatafeed.main:getting data for GEMINI:ETHUSD...\n",
      "DEBUG:root:creating websocket connection\n",
      "DEBUG:tvDatafeed.main:getting data for GEMINI:FILUSD...\n",
      "DEBUG:root:creating websocket connection\n",
      "DEBUG:tvDatafeed.main:getting data for GEMINI:KNCUSD...\n",
      "DEBUG:root:creating websocket connection\n",
      "DEBUG:tvDatafeed.main:getting data for GEMINI:LINKUSD...\n",
      "DEBUG:root:creating websocket connection\n",
      "DEBUG:tvDatafeed.main:getting data for GEMINI:MATICUSD...\n",
      "DEBUG:root:creating websocket connection\n",
      "DEBUG:tvDatafeed.main:getting data for GEMINI:MKRUSD...\n",
      "DEBUG:root:creating websocket connection\n",
      "DEBUG:tvDatafeed.main:getting data for GEMINI:OXTUSD...\n",
      "DEBUG:root:creating websocket connection\n",
      "DEBUG:tvDatafeed.main:getting data for GEMINI:RENUSD...\n",
      "DEBUG:root:creating websocket connection\n",
      "DEBUG:tvDatafeed.main:getting data for GEMINI:SKLUSD...\n",
      "DEBUG:root:creating websocket connection\n",
      "DEBUG:tvDatafeed.main:getting data for GEMINI:SNXUSD...\n",
      "DEBUG:root:creating websocket connection\n",
      "DEBUG:tvDatafeed.main:getting data for GEMINI:STORJUSD...\n",
      "DEBUG:root:creating websocket connection\n",
      "DEBUG:tvDatafeed.main:getting data for GEMINI:UMAUSD...\n",
      "DEBUG:root:creating websocket connection\n",
      "DEBUG:tvDatafeed.main:getting data for GEMINI:UNIUSD...\n",
      "DEBUG:root:creating websocket connection\n",
      "DEBUG:tvDatafeed.main:getting data for GEMINI:XTZUSD...\n",
      "DEBUG:root:creating websocket connection\n",
      "DEBUG:tvDatafeed.main:getting data for GEMINI:YFIUSD...\n",
      "DEBUG:root:creating websocket connection\n",
      "DEBUG:tvDatafeed.main:getting data for GEMINI:ZECUSD...\n",
      "DEBUG:root:creating websocket connection\n",
      "DEBUG:tvDatafeed.main:getting data for GEMINI:ZRXUSD...\n"
     ]
    }
   ],
   "source": [
    "#Get historical pricing information for total population\n",
    "for ticker in my_crypto_list:\n",
    "    data = tv.get_hist(\n",
    "        symbol=ticker,\n",
    "        exchange=exchange,\n",
    "        interval=Interval.in_daily,n_bars=500)\n",
    "    df_daily = df_daily.append(data)"
   ]
  },
  {
   "cell_type": "code",
   "execution_count": 9,
   "id": "30473c2f-ad2b-4267-b138-2d13c2982ec1",
   "metadata": {
    "tags": []
   },
   "outputs": [
    {
     "name": "stderr",
     "output_type": "stream",
     "text": [
      "DEBUG:urllib3.connectionpool:Starting new HTTPS connection (1): scanner.tradingview.com:443\n",
      "DEBUG:urllib3.connectionpool:https://scanner.tradingview.com:443 \"POST /crypto/scan HTTP/1.1\" 200 None\n",
      "DEBUG:urllib3.connectionpool:Starting new HTTPS connection (1): scanner.tradingview.com:443\n",
      "DEBUG:urllib3.connectionpool:https://scanner.tradingview.com:443 \"POST /crypto/scan HTTP/1.1\" 200 None\n",
      "DEBUG:urllib3.connectionpool:Starting new HTTPS connection (1): scanner.tradingview.com:443\n",
      "DEBUG:urllib3.connectionpool:https://scanner.tradingview.com:443 \"POST /crypto/scan HTTP/1.1\" 200 None\n",
      "DEBUG:urllib3.connectionpool:Starting new HTTPS connection (1): scanner.tradingview.com:443\n",
      "DEBUG:urllib3.connectionpool:https://scanner.tradingview.com:443 \"POST /crypto/scan HTTP/1.1\" 200 None\n",
      "DEBUG:urllib3.connectionpool:Starting new HTTPS connection (1): scanner.tradingview.com:443\n",
      "DEBUG:urllib3.connectionpool:https://scanner.tradingview.com:443 \"POST /crypto/scan HTTP/1.1\" 200 None\n",
      "DEBUG:urllib3.connectionpool:Starting new HTTPS connection (1): scanner.tradingview.com:443\n",
      "DEBUG:urllib3.connectionpool:https://scanner.tradingview.com:443 \"POST /crypto/scan HTTP/1.1\" 200 None\n",
      "DEBUG:urllib3.connectionpool:Starting new HTTPS connection (1): scanner.tradingview.com:443\n",
      "DEBUG:urllib3.connectionpool:https://scanner.tradingview.com:443 \"POST /crypto/scan HTTP/1.1\" 200 None\n",
      "DEBUG:urllib3.connectionpool:Starting new HTTPS connection (1): scanner.tradingview.com:443\n",
      "DEBUG:urllib3.connectionpool:https://scanner.tradingview.com:443 \"POST /crypto/scan HTTP/1.1\" 200 None\n",
      "DEBUG:urllib3.connectionpool:Starting new HTTPS connection (1): scanner.tradingview.com:443\n",
      "DEBUG:urllib3.connectionpool:https://scanner.tradingview.com:443 \"POST /crypto/scan HTTP/1.1\" 200 None\n",
      "DEBUG:urllib3.connectionpool:Starting new HTTPS connection (1): scanner.tradingview.com:443\n",
      "DEBUG:urllib3.connectionpool:https://scanner.tradingview.com:443 \"POST /crypto/scan HTTP/1.1\" 200 None\n",
      "DEBUG:urllib3.connectionpool:Starting new HTTPS connection (1): scanner.tradingview.com:443\n",
      "DEBUG:urllib3.connectionpool:https://scanner.tradingview.com:443 \"POST /crypto/scan HTTP/1.1\" 200 None\n",
      "DEBUG:urllib3.connectionpool:Starting new HTTPS connection (1): scanner.tradingview.com:443\n",
      "DEBUG:urllib3.connectionpool:https://scanner.tradingview.com:443 \"POST /crypto/scan HTTP/1.1\" 200 None\n",
      "DEBUG:urllib3.connectionpool:Starting new HTTPS connection (1): scanner.tradingview.com:443\n",
      "DEBUG:urllib3.connectionpool:https://scanner.tradingview.com:443 \"POST /crypto/scan HTTP/1.1\" 200 None\n",
      "DEBUG:urllib3.connectionpool:Starting new HTTPS connection (1): scanner.tradingview.com:443\n",
      "DEBUG:urllib3.connectionpool:https://scanner.tradingview.com:443 \"POST /crypto/scan HTTP/1.1\" 200 None\n",
      "DEBUG:urllib3.connectionpool:Starting new HTTPS connection (1): scanner.tradingview.com:443\n",
      "DEBUG:urllib3.connectionpool:https://scanner.tradingview.com:443 \"POST /crypto/scan HTTP/1.1\" 200 None\n",
      "DEBUG:urllib3.connectionpool:Starting new HTTPS connection (1): scanner.tradingview.com:443\n",
      "DEBUG:urllib3.connectionpool:https://scanner.tradingview.com:443 \"POST /crypto/scan HTTP/1.1\" 200 None\n",
      "DEBUG:urllib3.connectionpool:Starting new HTTPS connection (1): scanner.tradingview.com:443\n",
      "DEBUG:urllib3.connectionpool:https://scanner.tradingview.com:443 \"POST /crypto/scan HTTP/1.1\" 200 None\n",
      "DEBUG:urllib3.connectionpool:Starting new HTTPS connection (1): scanner.tradingview.com:443\n",
      "DEBUG:urllib3.connectionpool:https://scanner.tradingview.com:443 \"POST /crypto/scan HTTP/1.1\" 200 None\n",
      "DEBUG:urllib3.connectionpool:Starting new HTTPS connection (1): scanner.tradingview.com:443\n",
      "DEBUG:urllib3.connectionpool:https://scanner.tradingview.com:443 \"POST /crypto/scan HTTP/1.1\" 200 None\n",
      "DEBUG:urllib3.connectionpool:Starting new HTTPS connection (1): scanner.tradingview.com:443\n",
      "DEBUG:urllib3.connectionpool:https://scanner.tradingview.com:443 \"POST /crypto/scan HTTP/1.1\" 200 None\n",
      "DEBUG:urllib3.connectionpool:Starting new HTTPS connection (1): scanner.tradingview.com:443\n",
      "DEBUG:urllib3.connectionpool:https://scanner.tradingview.com:443 \"POST /crypto/scan HTTP/1.1\" 200 None\n",
      "DEBUG:urllib3.connectionpool:Starting new HTTPS connection (1): scanner.tradingview.com:443\n",
      "DEBUG:urllib3.connectionpool:https://scanner.tradingview.com:443 \"POST /crypto/scan HTTP/1.1\" 200 None\n",
      "DEBUG:urllib3.connectionpool:Starting new HTTPS connection (1): scanner.tradingview.com:443\n",
      "DEBUG:urllib3.connectionpool:https://scanner.tradingview.com:443 \"POST /crypto/scan HTTP/1.1\" 200 None\n",
      "DEBUG:urllib3.connectionpool:Starting new HTTPS connection (1): scanner.tradingview.com:443\n",
      "DEBUG:urllib3.connectionpool:https://scanner.tradingview.com:443 \"POST /crypto/scan HTTP/1.1\" 200 None\n",
      "DEBUG:urllib3.connectionpool:Starting new HTTPS connection (1): scanner.tradingview.com:443\n",
      "DEBUG:urllib3.connectionpool:https://scanner.tradingview.com:443 \"POST /crypto/scan HTTP/1.1\" 200 None\n",
      "DEBUG:urllib3.connectionpool:Starting new HTTPS connection (1): scanner.tradingview.com:443\n",
      "DEBUG:urllib3.connectionpool:https://scanner.tradingview.com:443 \"POST /crypto/scan HTTP/1.1\" 200 None\n",
      "DEBUG:urllib3.connectionpool:Starting new HTTPS connection (1): scanner.tradingview.com:443\n",
      "DEBUG:urllib3.connectionpool:https://scanner.tradingview.com:443 \"POST /crypto/scan HTTP/1.1\" 200 None\n",
      "DEBUG:urllib3.connectionpool:Starting new HTTPS connection (1): scanner.tradingview.com:443\n",
      "DEBUG:urllib3.connectionpool:https://scanner.tradingview.com:443 \"POST /crypto/scan HTTP/1.1\" 200 None\n",
      "DEBUG:urllib3.connectionpool:Starting new HTTPS connection (1): scanner.tradingview.com:443\n",
      "DEBUG:urllib3.connectionpool:https://scanner.tradingview.com:443 \"POST /crypto/scan HTTP/1.1\" 200 None\n",
      "DEBUG:urllib3.connectionpool:Starting new HTTPS connection (1): scanner.tradingview.com:443\n",
      "DEBUG:urllib3.connectionpool:https://scanner.tradingview.com:443 \"POST /crypto/scan HTTP/1.1\" 200 None\n",
      "DEBUG:urllib3.connectionpool:Starting new HTTPS connection (1): scanner.tradingview.com:443\n",
      "DEBUG:urllib3.connectionpool:https://scanner.tradingview.com:443 \"POST /crypto/scan HTTP/1.1\" 200 None\n",
      "DEBUG:urllib3.connectionpool:Starting new HTTPS connection (1): scanner.tradingview.com:443\n",
      "DEBUG:urllib3.connectionpool:https://scanner.tradingview.com:443 \"POST /crypto/scan HTTP/1.1\" 200 None\n",
      "DEBUG:urllib3.connectionpool:Starting new HTTPS connection (1): scanner.tradingview.com:443\n",
      "DEBUG:urllib3.connectionpool:https://scanner.tradingview.com:443 \"POST /crypto/scan HTTP/1.1\" 200 None\n",
      "DEBUG:urllib3.connectionpool:Starting new HTTPS connection (1): scanner.tradingview.com:443\n",
      "DEBUG:urllib3.connectionpool:https://scanner.tradingview.com:443 \"POST /crypto/scan HTTP/1.1\" 200 None\n",
      "DEBUG:urllib3.connectionpool:Starting new HTTPS connection (1): scanner.tradingview.com:443\n",
      "DEBUG:urllib3.connectionpool:https://scanner.tradingview.com:443 \"POST /crypto/scan HTTP/1.1\" 200 None\n",
      "DEBUG:urllib3.connectionpool:Starting new HTTPS connection (1): scanner.tradingview.com:443\n",
      "DEBUG:urllib3.connectionpool:https://scanner.tradingview.com:443 \"POST /crypto/scan HTTP/1.1\" 200 None\n"
     ]
    }
   ],
   "source": [
    "#Grab indicator recommendations from Trading View API\n",
    "from tradingview_ta import TA_Handler, Interval, Exchange\n",
    "staging_df = pd.DataFrame()\n",
    "ticker_df_daily = pd.DataFrame()\n",
    "for ticker in my_crypto_list:\n",
    "    try:\n",
    "        data = (TA_Handler(symbol=ticker,screener=screener,\n",
    "                           exchange=exchange,interval=Interval.INTERVAL_1_DAY ).get_analysis().summary)\n",
    "        symbol = ticker\n",
    "        staging_df = list(data.values())\n",
    "        final_df = (pd.DataFrame((data), index={ticker}))\n",
    "        ticker_df_daily = ticker_df_daily.append(final_df)\n",
    "    except:\n",
    "        pass"
   ]
  },
  {
   "cell_type": "code",
   "execution_count": 10,
   "id": "060c7a68-73cc-4e72-88db-0202b09e7551",
   "metadata": {},
   "outputs": [
    {
     "name": "stdout",
     "output_type": "stream",
     "text": [
      "Our initial indicator data suggest it is not a good time to enter the market for 20 of the cryptos in your list.\n",
      "The 20 crypto assets that did not meet our initial threshold were the following:\n",
      "DOGEUSD     SELL\n",
      "MANAUSD     SELL\n",
      "LRCUSD      SELL\n",
      "AAVEUSD     SELL\n",
      "ANKRUSD     SELL\n",
      "BALUSD      SELL\n",
      "BATUSD      SELL\n",
      "BCHUSD      SELL\n",
      "BNTUSD      SELL\n",
      "BONDUSD     SELL\n",
      "COMPUSD     SELL\n",
      "ENJUSD      SELL\n",
      "KNCUSD      SELL\n",
      "MATICUSD    SELL\n",
      "MKRUSD      SELL\n",
      "OXTUSD      SELL\n",
      "STORJUSD    SELL\n",
      "UMAUSD      SELL\n",
      "UNIUSD      SELL\n",
      "YFIUSD      SELL\n",
      "Name: RECOMMENDATION, dtype: object\n",
      "****User Update: These 20 cryptos above have been dropped from consideration..\n",
      "\n",
      "\n",
      "But not to worry! Our initial inidicator data suggest 16 cryptos from your list should be considered for further analysis:\n",
      "Here they are:\n",
      "Our Prime candidates are:\n",
      "1INCHUSD    BUY\n",
      "SUSHIUSD    BUY\n",
      "MIRUSD      BUY\n",
      "BTCUSD      BUY\n",
      "CRVUSD      BUY\n",
      "ETHUSD      BUY\n",
      "FILUSD      BUY\n",
      "LINKUSD     BUY\n",
      "RENUSD      BUY\n",
      "SKLUSD      BUY\n",
      "SNXUSD      BUY\n",
      "XTZUSD      BUY\n",
      "ZRXUSD      BUY\n",
      "Name: RECOMMENDATION, dtype: object\n",
      "\n",
      "And our Sub-prime candidates are:\n",
      "LTCUSD    NEUTRAL\n",
      "LPTUSD    NEUTRAL\n",
      "ZECUSD    NEUTRAL\n",
      "Name: RECOMMENDATION, dtype: object\n"
     ]
    }
   ],
   "source": [
    "#initial_indicator = ticker_df_daily['RECOMMENDATION'].reset_index()\n",
    "initial_drop = ticker_df_daily.loc[ticker_df_daily['RECOMMENDATION']=='SELL']\n",
    "initial_pass_prime = ticker_df_daily.loc[ticker_df_daily['RECOMMENDATION']=='BUY']\n",
    "initial_pass_subprime = ticker_df_daily.loc[ticker_df_daily['RECOMMENDATION']=='NEUTRAL']\n",
    "#initial_drop = initial_indicator['RECOMMENDATION'].str.contains('SELL')\n",
    "buy_count = initial_pass_prime['RECOMMENDATION'].count() + initial_pass_subprime['RECOMMENDATION'].count()\n",
    "sell_count = initial_drop['RECOMMENDATION'].count()\n",
    "print(f'Our initial indicator data suggest it is not a good time to enter the market for {sell_count} of the cryptos in your list.') \n",
    "print(f'The {sell_count} crypto assets that did not meet our initial threshold were the following:')\n",
    "print(initial_drop['RECOMMENDATION'])\n",
    "print(f'****User Update: These {sell_count} cryptos above have been dropped from consideration..')\n",
    "print('')\n",
    "print('')\n",
    "print(f'But not to worry! Our initial inidicator data suggest {buy_count} cryptos from your list should be considered for further analysis:')\n",
    "print('Here they are:')\n",
    "print('Our Prime candidates are:')\n",
    "print(initial_pass_prime['RECOMMENDATION'])\n",
    "print('')\n",
    "print('And our Sub-prime candidates are:')\n",
    "print(initial_pass_subprime['RECOMMENDATION'])"
   ]
  },
  {
   "cell_type": "code",
   "execution_count": 11,
   "id": "23efd0ad-9e65-46a0-9b92-a4a0ed362d68",
   "metadata": {},
   "outputs": [
    {
     "name": "stdout",
     "output_type": "stream",
     "text": [
      "Nice work, Jake, you found 16 cryptos that might be good investments this week!\n",
      "However, give me a minute while I dig into some insider techniques\n",
      "..be right back\n"
     ]
    }
   ],
   "source": [
    "print(f'Nice work, {name}, you found {buy_count} cryptos that might be good investments this week!')\n",
    "print(f'However, give me a minute while I dig into some insider techniques')\n",
    "print(f'..be right back')"
   ]
  },
  {
   "cell_type": "code",
   "execution_count": 12,
   "id": "bdd2748f-d5ce-4500-9738-09b6be9d46a7",
   "metadata": {},
   "outputs": [],
   "source": [
    "initial_pass_prime.reset_index(inplace=True)\n",
    "initial_pass_prime = initial_pass_prime['index']\n",
    "initial_pass_subprime.reset_index(inplace=True)\n",
    "initial_pass_subprime = initial_pass_subprime['index']\n",
    "staging_df = pd.DataFrame()\n",
    "staging_df1 = pd.DataFrame()\n",
    "prime_df = pd.DataFrame()\n",
    "subprime_df = pd.DataFrame()"
   ]
  },
  {
   "cell_type": "code",
   "execution_count": 13,
   "id": "37d4984c-a376-42c0-8f2d-ab4393be1bef",
   "metadata": {},
   "outputs": [
    {
     "name": "stderr",
     "output_type": "stream",
     "text": [
      "DEBUG:urllib3.connectionpool:Starting new HTTPS connection (1): scanner.tradingview.com:443\n",
      "DEBUG:urllib3.connectionpool:https://scanner.tradingview.com:443 \"POST /crypto/scan HTTP/1.1\" 200 None\n",
      "DEBUG:urllib3.connectionpool:Starting new HTTPS connection (1): scanner.tradingview.com:443\n",
      "DEBUG:urllib3.connectionpool:https://scanner.tradingview.com:443 \"POST /crypto/scan HTTP/1.1\" 200 None\n",
      "DEBUG:urllib3.connectionpool:Starting new HTTPS connection (1): scanner.tradingview.com:443\n",
      "DEBUG:urllib3.connectionpool:https://scanner.tradingview.com:443 \"POST /crypto/scan HTTP/1.1\" 200 None\n",
      "DEBUG:urllib3.connectionpool:Starting new HTTPS connection (1): scanner.tradingview.com:443\n",
      "DEBUG:urllib3.connectionpool:https://scanner.tradingview.com:443 \"POST /crypto/scan HTTP/1.1\" 200 None\n",
      "DEBUG:urllib3.connectionpool:Starting new HTTPS connection (1): scanner.tradingview.com:443\n",
      "DEBUG:urllib3.connectionpool:https://scanner.tradingview.com:443 \"POST /crypto/scan HTTP/1.1\" 200 None\n",
      "DEBUG:urllib3.connectionpool:Starting new HTTPS connection (1): scanner.tradingview.com:443\n",
      "DEBUG:urllib3.connectionpool:https://scanner.tradingview.com:443 \"POST /crypto/scan HTTP/1.1\" 200 None\n",
      "DEBUG:urllib3.connectionpool:Starting new HTTPS connection (1): scanner.tradingview.com:443\n",
      "DEBUG:urllib3.connectionpool:https://scanner.tradingview.com:443 \"POST /crypto/scan HTTP/1.1\" 200 None\n",
      "DEBUG:urllib3.connectionpool:Starting new HTTPS connection (1): scanner.tradingview.com:443\n",
      "DEBUG:urllib3.connectionpool:https://scanner.tradingview.com:443 \"POST /crypto/scan HTTP/1.1\" 200 None\n",
      "DEBUG:urllib3.connectionpool:Starting new HTTPS connection (1): scanner.tradingview.com:443\n",
      "DEBUG:urllib3.connectionpool:https://scanner.tradingview.com:443 \"POST /crypto/scan HTTP/1.1\" 200 None\n",
      "DEBUG:urllib3.connectionpool:Starting new HTTPS connection (1): scanner.tradingview.com:443\n",
      "DEBUG:urllib3.connectionpool:https://scanner.tradingview.com:443 \"POST /crypto/scan HTTP/1.1\" 200 None\n",
      "DEBUG:urllib3.connectionpool:Starting new HTTPS connection (1): scanner.tradingview.com:443\n",
      "DEBUG:urllib3.connectionpool:https://scanner.tradingview.com:443 \"POST /crypto/scan HTTP/1.1\" 200 None\n",
      "DEBUG:urllib3.connectionpool:Starting new HTTPS connection (1): scanner.tradingview.com:443\n",
      "DEBUG:urllib3.connectionpool:https://scanner.tradingview.com:443 \"POST /crypto/scan HTTP/1.1\" 200 None\n",
      "DEBUG:urllib3.connectionpool:Starting new HTTPS connection (1): scanner.tradingview.com:443\n",
      "DEBUG:urllib3.connectionpool:https://scanner.tradingview.com:443 \"POST /crypto/scan HTTP/1.1\" 200 None\n",
      "DEBUG:urllib3.connectionpool:Starting new HTTPS connection (1): scanner.tradingview.com:443\n",
      "DEBUG:urllib3.connectionpool:https://scanner.tradingview.com:443 \"POST /crypto/scan HTTP/1.1\" 200 None\n",
      "DEBUG:urllib3.connectionpool:Starting new HTTPS connection (1): scanner.tradingview.com:443\n",
      "DEBUG:urllib3.connectionpool:https://scanner.tradingview.com:443 \"POST /crypto/scan HTTP/1.1\" 200 None\n",
      "DEBUG:urllib3.connectionpool:Starting new HTTPS connection (1): scanner.tradingview.com:443\n",
      "DEBUG:urllib3.connectionpool:https://scanner.tradingview.com:443 \"POST /crypto/scan HTTP/1.1\" 200 None\n"
     ]
    }
   ],
   "source": [
    "for ticker in initial_pass_prime:\n",
    "    try:\n",
    "        data = (TA_Handler(symbol=ticker,screener=screener,\n",
    "                           exchange=exchange,interval=Interval.INTERVAL_1_DAY ).get_analysis().indicators)\n",
    "        symbol = ticker\n",
    "        staging_df = list(data.values())\n",
    "        final_df = (pd.DataFrame((data), index={ticker}))\n",
    "        prime_df = prime_df.append(final_df)\n",
    "    except:\n",
    "        pass\n",
    "    \n",
    "\n",
    "for ticker in initial_pass_subprime:\n",
    "    try:\n",
    "        data = (TA_Handler(symbol=ticker,screener=screener,\n",
    "                           exchange=exchange,interval=Interval.INTERVAL_1_DAY ).get_analysis().indicators)\n",
    "        symbol = ticker\n",
    "        staging_df1 = list(data.values())\n",
    "        final_df = (pd.DataFrame((data), index={ticker}))\n",
    "        subprime_df = subprime_df.append(final_df)\n",
    "    except:\n",
    "        pass"
   ]
  },
  {
   "cell_type": "code",
   "execution_count": 14,
   "id": "8c3cc85b-e664-49cd-bef9-2421f1f6fe0d",
   "metadata": {},
   "outputs": [],
   "source": [
    "crypataras_picks = []\n",
    "def strong_performersa():\n",
    "    for i, j in prime_df.iterrows():\n",
    "        if j['RSI'] > 45 and j['RSI'] < 90:\n",
    "            print(f'{i} has passed the rsi_test, moving to moving average covergence and divergence analysis..')\n",
    "            if j['MACD.macd'] > 0 and j['MACD.macd'] < 40:\n",
    "                print(f'{i} has passed our moving average covergence and divergence analysis, moving to stochator analysis..')\n",
    "                if j['Stoch.K'] > 35 and j['Stoch.K'] < 85:\n",
    "                    if j['Stoch.D'] > 40 and j['Stoch.D'] < 85:\n",
    "                        if j['Stoch.RSI.K'] > 30 and j['Stoch.RSI.K'] < 80:\n",
    "                            print(f'{i} has passed our multiple stochator analysis, testing the Awesome Oscillators..')\n",
    "                            if j['AO'] > 0 and j['AO'] < 55:\n",
    "                                crypataras_picks.append(i)\n",
    "    else:\n",
    "        print(f'{i} has failed our oscillator performance test and is dropped from consideration..')"
   ]
  },
  {
   "cell_type": "code",
   "execution_count": 15,
   "id": "29604c07-aeda-49d7-abe9-f7c447b96b3f",
   "metadata": {},
   "outputs": [
    {
     "name": "stdout",
     "output_type": "stream",
     "text": [
      "1INCHUSD has passed the rsi_test, moving to moving average covergence and divergence analysis..\n",
      "1INCHUSD has passed our moving average covergence and divergence analysis, moving to stochator analysis..\n",
      "1INCHUSD has passed our multiple stochator analysis, testing the Awesome Oscillators..\n",
      "SUSHIUSD has passed the rsi_test, moving to moving average covergence and divergence analysis..\n",
      "SUSHIUSD has passed our moving average covergence and divergence analysis, moving to stochator analysis..\n",
      "SUSHIUSD has passed our multiple stochator analysis, testing the Awesome Oscillators..\n",
      "MIRUSD has passed the rsi_test, moving to moving average covergence and divergence analysis..\n",
      "BTCUSD has passed the rsi_test, moving to moving average covergence and divergence analysis..\n",
      "CRVUSD has passed the rsi_test, moving to moving average covergence and divergence analysis..\n",
      "CRVUSD has passed our moving average covergence and divergence analysis, moving to stochator analysis..\n",
      "CRVUSD has passed our multiple stochator analysis, testing the Awesome Oscillators..\n",
      "ETHUSD has passed the rsi_test, moving to moving average covergence and divergence analysis..\n",
      "FILUSD has passed the rsi_test, moving to moving average covergence and divergence analysis..\n",
      "FILUSD has passed our moving average covergence and divergence analysis, moving to stochator analysis..\n",
      "LINKUSD has passed the rsi_test, moving to moving average covergence and divergence analysis..\n",
      "LINKUSD has passed our moving average covergence and divergence analysis, moving to stochator analysis..\n",
      "RENUSD has passed the rsi_test, moving to moving average covergence and divergence analysis..\n",
      "RENUSD has passed our moving average covergence and divergence analysis, moving to stochator analysis..\n",
      "RENUSD has passed our multiple stochator analysis, testing the Awesome Oscillators..\n",
      "SKLUSD has passed the rsi_test, moving to moving average covergence and divergence analysis..\n",
      "SKLUSD has passed our moving average covergence and divergence analysis, moving to stochator analysis..\n",
      "SKLUSD has passed our multiple stochator analysis, testing the Awesome Oscillators..\n",
      "SNXUSD has passed the rsi_test, moving to moving average covergence and divergence analysis..\n",
      "SNXUSD has passed our moving average covergence and divergence analysis, moving to stochator analysis..\n",
      "SNXUSD has passed our multiple stochator analysis, testing the Awesome Oscillators..\n",
      "XTZUSD has passed the rsi_test, moving to moving average covergence and divergence analysis..\n",
      "XTZUSD has passed our moving average covergence and divergence analysis, moving to stochator analysis..\n",
      "XTZUSD has passed our multiple stochator analysis, testing the Awesome Oscillators..\n",
      "ZRXUSD has passed the rsi_test, moving to moving average covergence and divergence analysis..\n",
      "ZRXUSD has passed our moving average covergence and divergence analysis, moving to stochator analysis..\n",
      "ZRXUSD has passed our multiple stochator analysis, testing the Awesome Oscillators..\n",
      "ZRXUSD has failed our oscillator performance test and is dropped from consideration..\n"
     ]
    },
    {
     "data": {
      "text/plain": [
       "['SUSHIUSD', 'CRVUSD', 'RENUSD', 'SKLUSD', 'SNXUSD', 'XTZUSD', 'ZRXUSD']"
      ]
     },
     "execution_count": 15,
     "metadata": {},
     "output_type": "execute_result"
    }
   ],
   "source": [
    "strong_performersa()\n",
    "crypataras_picks"
   ]
  },
  {
   "cell_type": "code",
   "execution_count": null,
   "id": "99e0360d-6f86-42aa-ad68-1e5cfbdf805b",
   "metadata": {},
   "outputs": [],
   "source": []
  }
 ],
 "metadata": {
  "kernelspec": {
   "display_name": "Python 3 (ipykernel)",
   "language": "python",
   "name": "python3"
  },
  "language_info": {
   "codemirror_mode": {
    "name": "ipython",
    "version": 3
   },
   "file_extension": ".py",
   "mimetype": "text/x-python",
   "name": "python",
   "nbconvert_exporter": "python",
   "pygments_lexer": "ipython3",
   "version": "3.9.6"
  }
 },
 "nbformat": 4,
 "nbformat_minor": 5
}
