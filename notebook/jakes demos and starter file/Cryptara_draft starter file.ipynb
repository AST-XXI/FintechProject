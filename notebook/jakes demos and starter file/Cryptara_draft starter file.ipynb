{
 "cells": [
  {
   "cell_type": "code",
   "execution_count": 1,
   "id": "73982872-7502-4b6d-ab50-9273a2ae4c04",
   "metadata": {},
   "outputs": [
    {
     "name": "stdin",
     "output_type": "stream",
     "text": [
      "Welcome Newcomer! What is your name? alex\n"
     ]
    }
   ],
   "source": [
    "name = input(\"Welcome Newcomer! What is your name?\")"
   ]
  },
  {
   "cell_type": "code",
   "execution_count": 2,
   "id": "62b59868-5d08-4b3a-82a0-599a3cd9f967",
   "metadata": {},
   "outputs": [
    {
     "name": "stdout",
     "output_type": "stream",
     "text": [
      "Hello alex, my name is Cryptara. My makers created me with the soul objective of making sure your personal savings go to good use in the Crypto market!\n",
      "In order to meet your financial objectives, we will work as a team to maximize your savings, and get you living large!\n",
      "The way this works is..\n",
      "Every week, I need you to do some research and select your top ten favoriate cryptos, anything you want!\n",
      "From there, let me look into some insider trading techniques and determine the best use for your savings on that particular point in time\n",
      "...okay enough talking, lets get started!\n"
     ]
    }
   ],
   "source": [
    "if name != \"\" or name == None:\n",
    "    # If so, write a print with a string of \"Hello\" concatenated with the variable `name`.\n",
    "    print(f\"Hello {name}, my name is Cryptara. My makers created me with the soul objective of making sure your personal savings go to good use in the Crypto market!\")\n",
    "    print(f\"In order to meet your financial objectives, we will work as a team to maximize your savings, and get you living large!\")\n",
    "    print(f'The way this works is..')\n",
    "    print(f\"Every week, I need you to do some research and select your top ten favoriate cryptos, anything you want!\")\n",
    "    print(f\"From there, let me look into some insider trading techniques and determine the best use for your savings on that particular point in time\")\n",
    "    print(f\"...okay enough talking, lets get started!\")"
   ]
  },
  {
   "cell_type": "code",
   "execution_count": null,
   "id": "b2aed2c0-9131-49fe-81e7-5b0e6adbc96c",
   "metadata": {},
   "outputs": [
    {
     "name": "stdout",
     "output_type": "stream",
     "text": [
      "Tell me alex, what are your favoriate cryptos this week?\n"
     ]
    }
   ],
   "source": [
    "#Let user insert their tickers for the week:\n",
    "print(f\"Tell me {name}, what are your favoriate cryptos this week?\")\n",
    "crypto_one = input(\"enter the ticker of your first choice:\")\n",
    "crypto_two = input(\"enter the ticker of your second choice:\")\n",
    "print(f\"Nice work! Lets get started!\")\n",
    "#OR USE LIST IMPORT\n",
    "#ticker_data = Path(\"../crypto_thirtysix.csv\")\n",
    "#ticker= pd.read_csv(ticker_data, header=None)"
   ]
  },
  {
   "cell_type": "code",
   "execution_count": null,
   "id": "b48875d6-6f6d-4f2f-af95-d87086421902",
   "metadata": {},
   "outputs": [],
   "source": [
    "#Import libraries and dependencies\n",
    "from dotenv import load_dotenv\n",
    "from tradingview_ta import TA_Handler, Interval, Exchange\n",
    "import datetime\n",
    "import os\n",
    "import logging\n",
    "import pandas as pd\n",
    "from pathlib import Path\n",
    "%matplotlib inline"
   ]
  },
  {
   "cell_type": "code",
   "execution_count": null,
   "id": "dc0f9948-8bd4-4e02-a6c7-586ca519cf9e",
   "metadata": {},
   "outputs": [],
   "source": [
    "#Create TradingView variable and activate env variables\n",
    "from tvDatafeed import TvDatafeed,Interval\n",
    "load_dotenv()\n",
    "tradev_id = os.getenv(\"username\")\n",
    "tradev_secret_key = os.getenv(\"password\")"
   ]
  },
  {
   "cell_type": "code",
   "execution_count": null,
   "id": "4ff85c7c-e6f5-472d-93fb-58e614284c45",
   "metadata": {},
   "outputs": [],
   "source": [
    "#Log into TradingView\n",
    "logging.basicConfig(level=logging.DEBUG)\n",
    "tv = TvDatafeed(tradev_id, tradev_secret_key, chromedriver_path=None)"
   ]
  },
  {
   "cell_type": "code",
   "execution_count": null,
   "id": "71df3699-7258-48a0-af3a-38e8743425ec",
   "metadata": {},
   "outputs": [],
   "source": [
    "#Read in the data for each crypto. Another option is to run a for loop to obtain large amounts of data into a dataset. Get suggestions from TradingView\n",
    "screener='CRYPTO'\n",
    "exchange=\"COINBASE\"\n",
    "market_index = tv.get_hist(symbol='ETHUSD',exchange=exchange,interval=Interval.in_daily,n_bars=500)\n",
    "crypto_one_df = tv.get_hist(symbol=crypto_one,exchange=exchange,interval=Interval.in_daily,n_bars=500)\n",
    "crypto_two_df = tv.get_hist(symbol=crypto_two,exchange=exchange,interval=Interval.in_daily,n_bars=500)"
   ]
  },
  {
   "cell_type": "code",
   "execution_count": null,
   "id": "412662d7-9e7e-4f50-8d4e-92e8ecb8a384",
   "metadata": {},
   "outputs": [],
   "source": [
    "print(f'lets see how your selections have performed these last few months.:')\n",
    "return_df = pd.DataFrame()\n",
    "#Calculate returns\n",
    "crypto_one_df_returns = crypto_one_df['close'].pct_change().dropna()\n",
    "crypto_two_df_returns = crypto_two_df['close'].pct_change().dropna()\n",
    "#Create a column in empty dataframe with return data\n",
    "return_df[crypto_one] = crypto_one_df_returns\n",
    "return_df[crypto_two] = crypto_two_df_returns\n",
    "#\n",
    "cumulative_returns = (1 + return_df).cumprod() -1\n",
    "cumulative_returns.plot(figsize=(5,5))"
   ]
  },
  {
   "cell_type": "code",
   "execution_count": null,
   "id": "67b59e13-8c44-4fd1-8e8c-b320f55d991f",
   "metadata": {},
   "outputs": [],
   "source": []
  }
 ],
 "metadata": {
  "kernelspec": {
   "display_name": "Python 3 (ipykernel)",
   "language": "python",
   "name": "python3"
  },
  "language_info": {
   "codemirror_mode": {
    "name": "ipython",
    "version": 3
   },
   "file_extension": ".py",
   "mimetype": "text/x-python",
   "name": "python",
   "nbconvert_exporter": "python",
   "pygments_lexer": "ipython3",
   "version": "3.9.6"
  }
 },
 "nbformat": 4,
 "nbformat_minor": 5
}
