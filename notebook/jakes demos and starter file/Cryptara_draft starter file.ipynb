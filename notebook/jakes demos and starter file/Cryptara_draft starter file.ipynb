{
 "cells": [
  {
   "cell_type": "code",
   "execution_count": 1,
   "id": "73982872-7502-4b6d-ab50-9273a2ae4c04",
   "metadata": {},
   "outputs": [
    {
     "name": "stdin",
     "output_type": "stream",
     "text": [
<<<<<<< HEAD
      "Welcome Newcomer! What is your name? KAREN\n"
=======
      "Welcome Newcomer! What is your name? alex\n"
>>>>>>> eb1fb9c25d11afd6829ca255098060574eac01e3
     ]
    }
   ],
   "source": [
    "name = input(\"Welcome Newcomer! What is your name?\")"
   ]
  },
  {
   "cell_type": "code",
   "execution_count": 2,
   "id": "62b59868-5d08-4b3a-82a0-599a3cd9f967",
   "metadata": {},
   "outputs": [
    {
     "name": "stdout",
     "output_type": "stream",
     "text": [
<<<<<<< HEAD
      "Hello KAREN, my name is Cryptara. My makers created me with the soul objective of making sure your personal savings go to good use in the Crypto market!\n",
=======
      "Hello alex, my name is Cryptara. My makers created me with the soul objective of making sure your personal savings go to good use in the Crypto market!\n",
>>>>>>> eb1fb9c25d11afd6829ca255098060574eac01e3
      "In order to meet your financial objectives, we will work as a team to maximize your savings, and get you living large!\n",
      "The way this works is..\n",
      "Every week, I need you to do some research and select your top ten favoriate cryptos, anything you want!\n",
      "From there, let me look into some insider trading techniques and determine the best use for your savings on that particular point in time\n",
      "...okay enough talking, lets get started!\n"
     ]
    }
   ],
   "source": [
    "if name != \"\" or name == None:\n",
    "    # If so, write a print with a string of \"Hello\" concatenated with the variable `name`.\n",
    "    print(f\"Hello {name}, my name is Cryptara. My makers created me with the soul objective of making sure your personal savings go to good use in the Crypto market!\")\n",
    "    print(f\"In order to meet your financial objectives, we will work as a team to maximize your savings, and get you living large!\")\n",
    "    print(f'The way this works is..')\n",
    "    print(f\"Every week, I need you to do some research and select your top ten favoriate cryptos, anything you want!\")\n",
    "    print(f\"From there, let me look into some insider trading techniques and determine the best use for your savings on that particular point in time\")\n",
    "    print(f\"...okay enough talking, lets get started!\")"
   ]
  },
  {
   "cell_type": "code",
<<<<<<< HEAD
   "execution_count": 3,
=======
   "execution_count": null,
>>>>>>> eb1fb9c25d11afd6829ca255098060574eac01e3
   "id": "b2aed2c0-9131-49fe-81e7-5b0e6adbc96c",
   "metadata": {},
   "outputs": [
    {
     "name": "stdout",
     "output_type": "stream",
     "text": [
<<<<<<< HEAD
      "Tell me KAREN, what are your favoriate cryptos this week?\n"
     ]
    },
    {
     "name": "stdin",
     "output_type": "stream",
     "text": [
      "enter the ticker of your first choice: DAIUSD\n",
      "enter the ticker of your second choice: OXTUSD\n"
     ]
    },
    {
     "name": "stdout",
     "output_type": "stream",
     "text": [
      "Nice work! Lets get started!\n"
=======
      "Tell me alex, what are your favoriate cryptos this week?\n"
>>>>>>> eb1fb9c25d11afd6829ca255098060574eac01e3
     ]
    }
   ],
   "source": [
    "#Let user insert their tickers for the week:\n",
    "print(f\"Tell me {name}, what are your favoriate cryptos this week?\")\n",
    "crypto_one = input(\"enter the ticker of your first choice:\")\n",
    "crypto_two = input(\"enter the ticker of your second choice:\")\n",
    "print(f\"Nice work! Lets get started!\")\n",
    "#OR USE LIST IMPORT\n",
    "#ticker_data = Path(\"../crypto_thirtysix.csv\")\n",
    "#ticker= pd.read_csv(ticker_data, header=None)"
   ]
  },
  {
   "cell_type": "code",
<<<<<<< HEAD
   "execution_count": 4,
=======
   "execution_count": null,
>>>>>>> eb1fb9c25d11afd6829ca255098060574eac01e3
   "id": "b48875d6-6f6d-4f2f-af95-d87086421902",
   "metadata": {},
   "outputs": [],
   "source": [
    "#Import libraries and dependencies\n",
    "from dotenv import load_dotenv\n",
    "from tradingview_ta import TA_Handler, Interval, Exchange\n",
    "import datetime\n",
    "import os\n",
    "import logging\n",
    "import pandas as pd\n",
    "from pathlib import Path\n",
    "%matplotlib inline"
   ]
  },
  {
   "cell_type": "code",
<<<<<<< HEAD
   "execution_count": 5,
=======
   "execution_count": null,
>>>>>>> eb1fb9c25d11afd6829ca255098060574eac01e3
   "id": "dc0f9948-8bd4-4e02-a6c7-586ca519cf9e",
   "metadata": {},
   "outputs": [],
   "source": [
    "#Create TradingView variable and activate env variables\n",
    "from tvDatafeed import TvDatafeed,Interval\n",
    "load_dotenv()\n",
    "tradev_id = os.getenv(\"username\")\n",
    "tradev_secret_key = os.getenv(\"password\")"
   ]
  },
  {
   "cell_type": "code",
<<<<<<< HEAD
   "execution_count": 6,
   "id": "4ff85c7c-e6f5-472d-93fb-58e614284c45",
   "metadata": {},
   "outputs": [
    {
     "name": "stderr",
     "output_type": "stream",
     "text": [
      "DEBUG:tvDatafeed.main:auth loaded\n"
     ]
    }
   ],
=======
   "execution_count": null,
   "id": "4ff85c7c-e6f5-472d-93fb-58e614284c45",
   "metadata": {},
   "outputs": [],
>>>>>>> eb1fb9c25d11afd6829ca255098060574eac01e3
   "source": [
    "#Log into TradingView\n",
    "logging.basicConfig(level=logging.DEBUG)\n",
    "tv = TvDatafeed(tradev_id, tradev_secret_key, chromedriver_path=None)"
   ]
  },
  {
   "cell_type": "code",
<<<<<<< HEAD
   "execution_count": 7,
   "id": "71df3699-7258-48a0-af3a-38e8743425ec",
   "metadata": {},
   "outputs": [
    {
     "name": "stderr",
     "output_type": "stream",
     "text": [
      "DEBUG:root:creating websocket connection\n",
      "DEBUG:tvDatafeed.main:getting data for COINBASE:ETHUSD...\n",
      "DEBUG:root:creating websocket connection\n",
      "DEBUG:tvDatafeed.main:getting data for COINBASE:DAIUSD...\n",
      "DEBUG:root:creating websocket connection\n",
      "DEBUG:tvDatafeed.main:getting data for COINBASE:OXTUSD...\n"
     ]
    }
   ],
=======
   "execution_count": null,
   "id": "71df3699-7258-48a0-af3a-38e8743425ec",
   "metadata": {},
   "outputs": [],
>>>>>>> eb1fb9c25d11afd6829ca255098060574eac01e3
   "source": [
    "#Read in the data for each crypto. Another option is to run a for loop to obtain large amounts of data into a dataset. Get suggestions from TradingView\n",
    "screener='CRYPTO'\n",
    "exchange=\"COINBASE\"\n",
    "market_index = tv.get_hist(symbol='ETHUSD',exchange=exchange,interval=Interval.in_daily,n_bars=500)\n",
    "crypto_one_df = tv.get_hist(symbol=crypto_one,exchange=exchange,interval=Interval.in_daily,n_bars=500)\n",
    "crypto_two_df = tv.get_hist(symbol=crypto_two,exchange=exchange,interval=Interval.in_daily,n_bars=500)"
   ]
  },
  {
   "cell_type": "code",
<<<<<<< HEAD
   "execution_count": 9,
   "id": "412662d7-9e7e-4f50-8d4e-92e8ecb8a384",
   "metadata": {},
   "outputs": [
    {
     "name": "stdout",
     "output_type": "stream",
     "text": [
      "lets see how your selections have performed these last few months.:\n"
     ]
    },
    {
     "data": {
      "text/plain": [
       "<AxesSubplot:xlabel='datetime'>"
      ]
     },
     "execution_count": 9,
     "metadata": {},
     "output_type": "execute_result"
    },
    {
     "data": {
      "image/png": "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\n",
      "text/plain": [
       "<Figure size 360x360 with 1 Axes>"
      ]
     },
     "metadata": {
      "needs_background": "light"
     },
     "output_type": "display_data"
    }
   ],
=======
   "execution_count": null,
   "id": "412662d7-9e7e-4f50-8d4e-92e8ecb8a384",
   "metadata": {},
   "outputs": [],
>>>>>>> eb1fb9c25d11afd6829ca255098060574eac01e3
   "source": [
    "print(f'lets see how your selections have performed these last few months.:')\n",
    "return_df = pd.DataFrame()\n",
    "#Calculate returns\n",
    "crypto_one_df_returns = crypto_one_df['close'].pct_change().dropna()\n",
    "crypto_two_df_returns = crypto_two_df['close'].pct_change().dropna()\n",
    "#Create a column in empty dataframe with return data\n",
    "return_df[crypto_one] = crypto_one_df_returns\n",
    "return_df[crypto_two] = crypto_two_df_returns\n",
    "#\n",
    "cumulative_returns = (1 + return_df).cumprod() -1\n",
    "cumulative_returns.plot(figsize=(5,5))"
   ]
  },
  {
   "cell_type": "code",
   "execution_count": null,
   "id": "67b59e13-8c44-4fd1-8e8c-b320f55d991f",
   "metadata": {},
   "outputs": [],
   "source": []
  }
 ],
 "metadata": {
  "kernelspec": {
   "display_name": "Python 3 (ipykernel)",
   "language": "python",
   "name": "python3"
  },
  "language_info": {
   "codemirror_mode": {
    "name": "ipython",
    "version": 3
   },
   "file_extension": ".py",
   "mimetype": "text/x-python",
   "name": "python",
   "nbconvert_exporter": "python",
   "pygments_lexer": "ipython3",
   "version": "3.9.6"
  }
 },
 "nbformat": 4,
 "nbformat_minor": 5
}
