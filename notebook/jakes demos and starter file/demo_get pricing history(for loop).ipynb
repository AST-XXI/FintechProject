{
 "cells": [
  {
   "cell_type": "code",
   "execution_count": 1,
   "id": "44957260-9cd4-478b-88e2-eda71e0ac60b",
   "metadata": {},
   "outputs": [],
   "source": [
    "#import libraries\n",
    "from dotenv import load_dotenv\n",
    "from tradingview_ta import TA_Handler, Interval, Exchange\n",
    "import datetime\n",
    "import os\n",
    "import logging\n",
    "import pandas as pd\n",
    "from pathlib import Path\n",
    "%matplotlib inline"
   ]
  },
  {
   "cell_type": "code",
   "execution_count": 2,
   "id": "22531579-7aa9-4222-a790-dd97642d35f6",
   "metadata": {},
   "outputs": [],
   "source": [
    "#Create TradingView variable and activate env variables\n",
    "from tvDatafeed import TvDatafeed,Interval\n",
    "load_dotenv()\n",
    "tradev_id = os.getenv(\"username\")\n",
    "tradev_secret_key = os.getenv(\"password\")"
   ]
  },
  {
   "cell_type": "code",
   "execution_count": 3,
   "id": "c78b2168-cc70-4f56-9dd2-7b59af25a752",
   "metadata": {},
   "outputs": [
    {
     "name": "stderr",
     "output_type": "stream",
     "text": [
      "DEBUG:tvDatafeed.main:auth loaded\n"
     ]
    }
   ],
   "source": [
    "#Log into TradingView\n",
    "logging.basicConfig(level=logging.DEBUG)\n",
    "tv = TvDatafeed(tradev_id, tradev_secret_key, chromedriver_path=None)"
   ]
  },
  {
   "cell_type": "code",
   "execution_count": 4,
   "id": "a524c7ee-886e-452b-92de-0cf313decb22",
   "metadata": {},
   "outputs": [],
   "source": [
    "from pathlib import Path\n",
    "ticker_data = Path(\"data_files/crypto_tickers.csv\")\n",
    "ticker= pd.read_csv(ticker_data, header=None)\n",
    "ticker= pd.DataFrame(ticker)\n",
    "my_crypto_list = ticker[0].tolist()\n",
    "screener=\"CRYPTO\"\n",
    "exchange=\"COINBASE\"\n",
    "df_daily = pd.DataFrame()"
   ]
  },
  {
   "cell_type": "code",
   "execution_count": 5,
   "id": "b921191d-3516-4434-b7ef-6f4c3fda76a8",
   "metadata": {},
   "outputs": [
    {
     "name": "stderr",
     "output_type": "stream",
     "text": [
      "DEBUG:root:creating websocket connection\n",
      "DEBUG:tvDatafeed.main:getting data for COINBASE:['1INCHUSD', 'DOGEUSD', 'LTCUSD', 'SUSHIUSD', 'MANAUSD', 'MIRUSD', 'LRCUSD', 'LPTUSD', 'AAVEUSD', 'ANKRUSD', 'BALUSD', 'BATUSD', 'BCHUSD', 'BNTUSD', 'BONDUSD', 'BTCUSD', 'COMPUSD', 'CRVUSD', 'ENJUSD', 'ETHUSD', 'FILUSD', 'KNCUSD', 'LINKUSD', 'MATICUSD', 'MKRUSD', 'OXTUSD', 'RENUSD', 'SKLUSD', 'SNXUSD', 'STORJUSD', 'UMAUSD', 'UNIUSD', 'XTZUSD', 'YFIUSD', 'ZECUSD', 'ZRXUSD']...\n",
      "ERROR:tvDatafeed.main:Connection is already closed.\n"
     ]
    },
    {
     "ename": "AttributeError",
     "evalue": "'NoneType' object has no attribute 'group'",
     "output_type": "error",
     "traceback": [
      "\u001b[1;31m---------------------------------------------------------------------------\u001b[0m",
      "\u001b[1;31mAttributeError\u001b[0m                            Traceback (most recent call last)",
      "\u001b[1;32m~\\AppData\\Local\\Temp/ipykernel_12780/2585139263.py\u001b[0m in \u001b[0;36m<module>\u001b[1;34m\u001b[0m\n\u001b[0;32m      1\u001b[0m \u001b[1;32mfor\u001b[0m \u001b[0mticker\u001b[0m \u001b[1;32min\u001b[0m \u001b[0mmy_crypto_list\u001b[0m\u001b[1;33m:\u001b[0m\u001b[1;33m\u001b[0m\u001b[1;33m\u001b[0m\u001b[0m\n\u001b[1;32m----> 2\u001b[1;33m     data = tv.get_hist(\n\u001b[0m\u001b[0;32m      3\u001b[0m         \u001b[0msymbol\u001b[0m\u001b[1;33m=\u001b[0m\u001b[0mmy_crypto_list\u001b[0m\u001b[1;33m,\u001b[0m\u001b[1;33m\u001b[0m\u001b[1;33m\u001b[0m\u001b[0m\n\u001b[0;32m      4\u001b[0m         \u001b[0mexchange\u001b[0m\u001b[1;33m=\u001b[0m\u001b[0mexchange\u001b[0m\u001b[1;33m,\u001b[0m\u001b[1;33m\u001b[0m\u001b[1;33m\u001b[0m\u001b[0m\n\u001b[0;32m      5\u001b[0m         interval=Interval.in_daily,n_bars=20)\n",
      "\u001b[1;32m~\\anaconda3\\envs\\tv\\lib\\site-packages\\tvDatafeed\\main.py\u001b[0m in \u001b[0;36mget_hist\u001b[1;34m(self, symbol, exchange, interval, n_bars, fut_contract)\u001b[0m\n\u001b[0;32m    474\u001b[0m                 \u001b[1;32mbreak\u001b[0m\u001b[1;33m\u001b[0m\u001b[1;33m\u001b[0m\u001b[0m\n\u001b[0;32m    475\u001b[0m \u001b[1;33m\u001b[0m\u001b[0m\n\u001b[1;32m--> 476\u001b[1;33m         \u001b[1;32mreturn\u001b[0m \u001b[0mself\u001b[0m\u001b[1;33m.\u001b[0m\u001b[0m__create_df\u001b[0m\u001b[1;33m(\u001b[0m\u001b[0mraw_data\u001b[0m\u001b[1;33m,\u001b[0m \u001b[0msymbol\u001b[0m\u001b[1;33m)\u001b[0m\u001b[1;33m\u001b[0m\u001b[1;33m\u001b[0m\u001b[0m\n\u001b[0m\u001b[0;32m    477\u001b[0m \u001b[1;33m\u001b[0m\u001b[0m\n\u001b[0;32m    478\u001b[0m \u001b[1;33m\u001b[0m\u001b[0m\n",
      "\u001b[1;32m~\\anaconda3\\envs\\tv\\lib\\site-packages\\tvDatafeed\\main.py\u001b[0m in \u001b[0;36m__create_df\u001b[1;34m(raw_data, symbol)\u001b[0m\n\u001b[0;32m    339\u001b[0m     \u001b[1;33m@\u001b[0m\u001b[0mstaticmethod\u001b[0m\u001b[1;33m\u001b[0m\u001b[1;33m\u001b[0m\u001b[0m\n\u001b[0;32m    340\u001b[0m     \u001b[1;32mdef\u001b[0m \u001b[0m__create_df\u001b[0m\u001b[1;33m(\u001b[0m\u001b[0mraw_data\u001b[0m\u001b[1;33m,\u001b[0m \u001b[0msymbol\u001b[0m\u001b[1;33m)\u001b[0m\u001b[1;33m:\u001b[0m\u001b[1;33m\u001b[0m\u001b[1;33m\u001b[0m\u001b[0m\n\u001b[1;32m--> 341\u001b[1;33m         \u001b[0mout\u001b[0m \u001b[1;33m=\u001b[0m \u001b[0mre\u001b[0m\u001b[1;33m.\u001b[0m\u001b[0msearch\u001b[0m\u001b[1;33m(\u001b[0m\u001b[1;34m'\"s\":\\[(.+?)\\}\\]'\u001b[0m\u001b[1;33m,\u001b[0m \u001b[0mraw_data\u001b[0m\u001b[1;33m)\u001b[0m\u001b[1;33m.\u001b[0m\u001b[0mgroup\u001b[0m\u001b[1;33m(\u001b[0m\u001b[1;36m1\u001b[0m\u001b[1;33m)\u001b[0m\u001b[1;33m\u001b[0m\u001b[1;33m\u001b[0m\u001b[0m\n\u001b[0m\u001b[0;32m    342\u001b[0m         \u001b[0mx\u001b[0m \u001b[1;33m=\u001b[0m \u001b[0mout\u001b[0m\u001b[1;33m.\u001b[0m\u001b[0msplit\u001b[0m\u001b[1;33m(\u001b[0m\u001b[1;34m',{\"'\u001b[0m\u001b[1;33m)\u001b[0m\u001b[1;33m\u001b[0m\u001b[1;33m\u001b[0m\u001b[0m\n\u001b[0;32m    343\u001b[0m         \u001b[0mdata\u001b[0m \u001b[1;33m=\u001b[0m \u001b[0mlist\u001b[0m\u001b[1;33m(\u001b[0m\u001b[1;33m)\u001b[0m\u001b[1;33m\u001b[0m\u001b[1;33m\u001b[0m\u001b[0m\n",
      "\u001b[1;31mAttributeError\u001b[0m: 'NoneType' object has no attribute 'group'"
     ]
    }
   ],
   "source": [
    "for ticker in my_crypto_list:\n",
    "    data = tv.get_hist(\n",
    "        symbol=my_crypto_list,\n",
    "        exchange=exchange,\n",
    "        interval=Interval.in_daily,n_bars=20)\n",
    "    df_daily = df_daily.append(data)"
   ]
  },
  {
   "cell_type": "code",
   "execution_count": null,
   "id": "1f06e5a6-311f-4591-bf90-8871a1c76624",
   "metadata": {},
   "outputs": [],
   "source": []
  },
  {
   "cell_type": "code",
   "execution_count": null,
   "id": "0d916d51-d455-4e6c-8ca2-021558cbe582",
   "metadata": {},
   "outputs": [],
   "source": []
  }
 ],
 "metadata": {
  "kernelspec": {
   "display_name": "Python 3 (ipykernel)",
   "language": "python",
   "name": "python3"
  },
  "language_info": {
   "codemirror_mode": {
    "name": "ipython",
    "version": 3
   },
   "file_extension": ".py",
   "mimetype": "text/x-python",
   "name": "python",
   "nbconvert_exporter": "python",
   "pygments_lexer": "ipython3",
   "version": "3.9.6"
  }
 },
 "nbformat": 4,
 "nbformat_minor": 5
}
