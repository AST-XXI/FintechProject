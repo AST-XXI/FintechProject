{
 "cells": [
  {
   "cell_type": "code",
   "execution_count": 1,
   "id": "3d1d3869-2850-4b18-9901-d076adaae147",
   "metadata": {},
   "outputs": [],
   "source": [
    "import pandas as pd\n",
    "ticker='ZRXUSD'\n",
    "screener=\"CRYPTO\"\n",
    "exchange=\"COINBASE\"\n",
    "ta_interval ='Interval.INTERVAL_1_DAY'\n",
    "from tradingview_ta import TA_Handler, Interval, Exchange\n",
    "trading_api = TA_Handler(\n",
    "    symbol=ticker,\n",
    "    screener=screener,\n",
    "    exchange=exchange,\n",
    "    interval=Interval.INTERVAL_1_DAY\n",
    ")"
   ]
  },
  {
   "cell_type": "code",
   "execution_count": 2,
   "id": "9554a5e8-14b9-4486-bc0a-d644013840e6",
   "metadata": {},
   "outputs": [
    {
     "data": {
      "text/html": [
       "<div>\n",
       "<style scoped>\n",
       "    .dataframe tbody tr th:only-of-type {\n",
       "        vertical-align: middle;\n",
       "    }\n",
       "\n",
       "    .dataframe tbody tr th {\n",
       "        vertical-align: top;\n",
       "    }\n",
       "\n",
       "    .dataframe thead th {\n",
       "        text-align: right;\n",
       "    }\n",
       "</style>\n",
       "<table border=\"1\" class=\"dataframe\">\n",
       "  <thead>\n",
       "    <tr style=\"text-align: right;\">\n",
       "      <th></th>\n",
       "      <th>RECOMMENDATION</th>\n",
       "      <th>BUY</th>\n",
       "      <th>SELL</th>\n",
       "      <th>NEUTRAL</th>\n",
       "    </tr>\n",
       "  </thead>\n",
       "  <tbody>\n",
       "    <tr>\n",
       "      <th>ZRXUSD</th>\n",
       "      <td>NEUTRAL</td>\n",
       "      <td>10</td>\n",
       "      <td>7</td>\n",
       "      <td>9</td>\n",
       "    </tr>\n",
       "  </tbody>\n",
       "</table>\n",
       "</div>"
      ],
      "text/plain": [
       "       RECOMMENDATION  BUY  SELL  NEUTRAL\n",
       "ZRXUSD        NEUTRAL   10     7        9"
      ]
     },
     "execution_count": 2,
     "metadata": {},
     "output_type": "execute_result"
    }
   ],
   "source": [
    "#Get total buy or sell signals\n",
    "summary = (trading_api.get_analysis().summary)\n",
    "summary = pd.DataFrame(summary, index=[ticker])\n",
    "summary"
   ]
  },
  {
   "cell_type": "code",
   "execution_count": 3,
   "id": "6a3b7e19-8bbf-4b4c-84e7-88d31197aa0e",
   "metadata": {},
   "outputs": [
    {
     "data": {
      "text/plain": [
       "ZRXUSD    NEUTRAL\n",
       "Name: RECOMMENDATION, dtype: object"
      ]
     },
     "execution_count": 3,
     "metadata": {},
     "output_type": "execute_result"
    }
   ],
   "source": [
    "#Filter for just the recommendation\n",
    "indicator = summary['RECOMMENDATION']        \n",
    "indicator.head()"
   ]
  },
  {
   "cell_type": "code",
   "execution_count": null,
   "id": "f5b53254-6a34-42df-ae9b-e7bb7c8e4c14",
   "metadata": {},
   "outputs": [],
   "source": []
  }
 ],
 "metadata": {
  "kernelspec": {
   "display_name": "Python 3 (ipykernel)",
   "language": "python",
   "name": "python3"
  },
  "language_info": {
   "codemirror_mode": {
    "name": "ipython",
    "version": 3
   },
   "file_extension": ".py",
   "mimetype": "text/x-python",
   "name": "python",
   "nbconvert_exporter": "python",
   "pygments_lexer": "ipython3",
   "version": "3.9.6"
  }
 },
 "nbformat": 4,
 "nbformat_minor": 5
}
