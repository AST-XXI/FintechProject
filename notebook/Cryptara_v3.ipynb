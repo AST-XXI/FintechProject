{
 "cells": [
  {
   "cell_type": "code",
   "execution_count": 1,
   "id": "3eb561c0",
   "metadata": {},
   "outputs": [
    {
     "name": "stdin",
     "output_type": "stream",
     "text": [
      "Welcome Crypto Investor, what is your name? jake\n"
     ]
    }
   ],
   "source": [
    "#The name of this project is 'Cryptara' and the objective of this script is to build a Robo-advisor\n",
    "name = input(\"Welcome Crypto Investor, what is your name?\")"
   ]
  },
  {
   "cell_type": "code",
   "execution_count": 2,
   "id": "b25a8042",
   "metadata": {},
   "outputs": [
    {
     "name": "stdout",
     "output_type": "stream",
     "text": [
      "Hello jake, my name is Cryptara. I make your savings go to good use in the Crypto market..\n",
      "Tell me, do you have a csv file to upload or would you rather manually input your crypto tickers below?\n",
      "\n"
     ]
    },
    {
     "name": "stdin",
     "output_type": "stream",
     "text": [
      "type: import or input import\n",
      "how much would you like to invest? 10000\n"
     ]
    },
    {
     "name": "stdout",
     "output_type": "stream",
     "text": [
      "\n",
      "Once I have your list, This process starts automatically..\n",
      "I use data from the TradingView API and filter your list, then I apply a built-in technical analysis function to determine which cryptos are good picks at this point in time\n",
      "Then, I run hundreds of simulations to determine optimal weights for each crypto selection\n",
      "From there, I will scan multiple exchanges to determine where you could get the most volume for the dollar at that particular time '(based on cross-exchange rates)'\n",
      "Lastly, I will present to you an interactive Dashboard based on future projections..\n"
     ]
    }
   ],
   "source": [
    "if name != \"\" or name == None:\n",
    "    # If so, write a print with a string of \"Hello\" concatenated with the variable `name`.\n",
    "    print(f\"Hello {name}, my name is Cryptara. I make your savings go to good use in the Crypto market..\")\n",
    "    print(f\"Tell me, do you have a csv file to upload or would you rather manually input your crypto tickers below?\")\n",
    "    print('')\n",
    "    data_source=input(\"type: import or input\")\n",
    "    investment_value=input(\"how much would you like to invest?\")\n",
    "    print('')\n",
    "    print(f'Once I have your list, This process starts automatically..')\n",
    "    print(f'I use data from the TradingView API and filter your list, then I apply a built-in technical analysis function to determine which cryptos are good picks at this point in time')\n",
    "    print(f\"Then, I run hundreds of simulations to determine optimal weights for each crypto selection\")\n",
    "    print(f\"From there, I will scan multiple exchanges to determine where you could get the most volume for the dollar at that particular time '(based on cross-exchange rates)'\")\n",
    "    print(f\"Lastly, I will present to you an interactive Dashboard based on future projections..\")"
   ]
  },
  {
   "cell_type": "code",
   "execution_count": 3,
   "id": "be983900",
   "metadata": {},
   "outputs": [
    {
     "name": "stdout",
     "output_type": "stream",
     "text": [
      "Thanks for using our csv file import option! Let me look through your list and see if I can validate the data..\n"
     ]
    }
   ],
   "source": [
    "if data_source == 'import':\n",
    "    from pathlib import Path\n",
    "    ticker_data = Path(\"data_files/crypto_tickers1.csv\")\n",
    "    print(f'Thanks for using our csv file import option! Let me look through your list and see if I can validate the data..')\n",
    "if data_source == 'input':\n",
    "    ticker_1=input(\"Tell me the first ticker\")\n",
    "    ticker_2=input(\"Tell me the second ticker\")\n",
    "    ticker_3=input(\"Tell me the third ticker\")\n",
    "    ticker_4=input(\"Tell me the fourth ticker\")\n",
    "    ticker_5=input(\"Tell me the fifth ticker\")\n",
    "    ticker_6=input(\"Tell me the sixth ticker\")\n",
    "    ticker_7=input(\"Tell me the seventh ticker\")\n",
    "    ticker_8=input(\"Tell me the eigth ticker\")\n",
    "    ticker_9=input(\"Tell me the ninth ticker\")\n",
    "    ticker_10=input(\"Tell me the tenth ticker\")\n",
    "    print(f'Got it. Give me a minute to make sure these tickers are valid')\n",
    "if data_source != 'import':\n",
    "    if data_source != 'input':\n",
    "        data_source = input('Please try again..')"
   ]
  },
  {
   "cell_type": "code",
   "execution_count": 4,
   "id": "e6ff5e04",
   "metadata": {},
   "outputs": [],
   "source": [
    "#Import libraries and dependencies\n",
    "from dotenv import load_dotenv\n",
    "from itertools import product\n",
    "import datetime\n",
    "import os\n",
    "import logging\n",
    "import pandas as pd\n",
    "import numpy as np\n",
    "from pathlib import Path\n",
    "%matplotlib inline"
   ]
  },
  {
   "cell_type": "code",
   "execution_count": 5,
   "id": "58af24f6",
   "metadata": {},
   "outputs": [],
   "source": [
    "#Create TradingView variable and activate env variables\n",
    "from tvDatafeed import TvDatafeed,Interval\n",
    "load_dotenv()\n",
    "tradev_id = os.getenv(\"username\")\n",
    "tradev_secret_key = os.getenv(\"password\")"
   ]
  },
  {
   "cell_type": "code",
   "execution_count": 6,
   "id": "9a28e702",
   "metadata": {
    "tags": []
   },
   "outputs": [
    {
     "name": "stderr",
     "output_type": "stream",
     "text": [
      "DEBUG:tvDatafeed.main:auth loaded\n"
     ]
    }
   ],
   "source": [
    "#Log into TradingView\n",
    "logging.basicConfig(level=logging.DEBUG)\n",
    "tv = TvDatafeed(tradev_id, tradev_secret_key, chromedriver_path=None)"
   ]
  },
  {
   "cell_type": "code",
   "execution_count": 7,
   "id": "06c9bb0e",
   "metadata": {},
   "outputs": [
    {
     "ename": "FileNotFoundError",
     "evalue": "[Errno 2] No such file or directory: 'data_files\\\\crypto_tickers1.csv'",
     "output_type": "error",
     "traceback": [
      "\u001b[1;31m---------------------------------------------------------------------------\u001b[0m",
      "\u001b[1;31mFileNotFoundError\u001b[0m                         Traceback (most recent call last)",
      "\u001b[1;32m~\\AppData\\Local\\Temp/ipykernel_16212/701356126.py\u001b[0m in \u001b[0;36m<module>\u001b[1;34m\u001b[0m\n\u001b[0;32m      1\u001b[0m \u001b[0mticker_data\u001b[0m \u001b[1;33m=\u001b[0m \u001b[0mPath\u001b[0m\u001b[1;33m(\u001b[0m\u001b[1;34m\"data_files/crypto_tickers1.csv\"\u001b[0m\u001b[1;33m)\u001b[0m\u001b[1;33m\u001b[0m\u001b[1;33m\u001b[0m\u001b[0m\n\u001b[1;32m----> 2\u001b[1;33m \u001b[0mticker\u001b[0m\u001b[1;33m=\u001b[0m \u001b[0mpd\u001b[0m\u001b[1;33m.\u001b[0m\u001b[0mread_csv\u001b[0m\u001b[1;33m(\u001b[0m\u001b[0mticker_data\u001b[0m\u001b[1;33m,\u001b[0m \u001b[0mheader\u001b[0m\u001b[1;33m=\u001b[0m\u001b[1;32mNone\u001b[0m\u001b[1;33m)\u001b[0m\u001b[1;33m\u001b[0m\u001b[1;33m\u001b[0m\u001b[0m\n\u001b[0m\u001b[0;32m      3\u001b[0m \u001b[0mticker_df\u001b[0m \u001b[1;33m=\u001b[0m \u001b[0mpd\u001b[0m\u001b[1;33m.\u001b[0m\u001b[0mDataFrame\u001b[0m\u001b[1;33m(\u001b[0m\u001b[0mticker\u001b[0m\u001b[1;33m)\u001b[0m\u001b[1;33m\u001b[0m\u001b[1;33m\u001b[0m\u001b[0m\n\u001b[0;32m      4\u001b[0m \u001b[0mmy_crypto_list\u001b[0m \u001b[1;33m=\u001b[0m \u001b[0mticker_df\u001b[0m\u001b[1;33m[\u001b[0m\u001b[1;36m0\u001b[0m\u001b[1;33m]\u001b[0m\u001b[1;33m.\u001b[0m\u001b[0mtolist\u001b[0m\u001b[1;33m(\u001b[0m\u001b[1;33m)\u001b[0m\u001b[1;33m\u001b[0m\u001b[1;33m\u001b[0m\u001b[0m\n\u001b[0;32m      5\u001b[0m \u001b[0mscreener\u001b[0m\u001b[1;33m=\u001b[0m\u001b[1;34m\"CRYPTO\"\u001b[0m\u001b[1;33m\u001b[0m\u001b[1;33m\u001b[0m\u001b[0m\n",
      "\u001b[1;32m~\\anaconda3\\envs\\tv\\lib\\site-packages\\pandas\\util\\_decorators.py\u001b[0m in \u001b[0;36mwrapper\u001b[1;34m(*args, **kwargs)\u001b[0m\n\u001b[0;32m    309\u001b[0m                     \u001b[0mstacklevel\u001b[0m\u001b[1;33m=\u001b[0m\u001b[0mstacklevel\u001b[0m\u001b[1;33m,\u001b[0m\u001b[1;33m\u001b[0m\u001b[1;33m\u001b[0m\u001b[0m\n\u001b[0;32m    310\u001b[0m                 )\n\u001b[1;32m--> 311\u001b[1;33m             \u001b[1;32mreturn\u001b[0m \u001b[0mfunc\u001b[0m\u001b[1;33m(\u001b[0m\u001b[1;33m*\u001b[0m\u001b[0margs\u001b[0m\u001b[1;33m,\u001b[0m \u001b[1;33m**\u001b[0m\u001b[0mkwargs\u001b[0m\u001b[1;33m)\u001b[0m\u001b[1;33m\u001b[0m\u001b[1;33m\u001b[0m\u001b[0m\n\u001b[0m\u001b[0;32m    312\u001b[0m \u001b[1;33m\u001b[0m\u001b[0m\n\u001b[0;32m    313\u001b[0m         \u001b[1;32mreturn\u001b[0m \u001b[0mwrapper\u001b[0m\u001b[1;33m\u001b[0m\u001b[1;33m\u001b[0m\u001b[0m\n",
      "\u001b[1;32m~\\anaconda3\\envs\\tv\\lib\\site-packages\\pandas\\io\\parsers\\readers.py\u001b[0m in \u001b[0;36mread_csv\u001b[1;34m(filepath_or_buffer, sep, delimiter, header, names, index_col, usecols, squeeze, prefix, mangle_dupe_cols, dtype, engine, converters, true_values, false_values, skipinitialspace, skiprows, skipfooter, nrows, na_values, keep_default_na, na_filter, verbose, skip_blank_lines, parse_dates, infer_datetime_format, keep_date_col, date_parser, dayfirst, cache_dates, iterator, chunksize, compression, thousands, decimal, lineterminator, quotechar, quoting, doublequote, escapechar, comment, encoding, encoding_errors, dialect, error_bad_lines, warn_bad_lines, on_bad_lines, delim_whitespace, low_memory, memory_map, float_precision, storage_options)\u001b[0m\n\u001b[0;32m    584\u001b[0m     \u001b[0mkwds\u001b[0m\u001b[1;33m.\u001b[0m\u001b[0mupdate\u001b[0m\u001b[1;33m(\u001b[0m\u001b[0mkwds_defaults\u001b[0m\u001b[1;33m)\u001b[0m\u001b[1;33m\u001b[0m\u001b[1;33m\u001b[0m\u001b[0m\n\u001b[0;32m    585\u001b[0m \u001b[1;33m\u001b[0m\u001b[0m\n\u001b[1;32m--> 586\u001b[1;33m     \u001b[1;32mreturn\u001b[0m \u001b[0m_read\u001b[0m\u001b[1;33m(\u001b[0m\u001b[0mfilepath_or_buffer\u001b[0m\u001b[1;33m,\u001b[0m \u001b[0mkwds\u001b[0m\u001b[1;33m)\u001b[0m\u001b[1;33m\u001b[0m\u001b[1;33m\u001b[0m\u001b[0m\n\u001b[0m\u001b[0;32m    587\u001b[0m \u001b[1;33m\u001b[0m\u001b[0m\n\u001b[0;32m    588\u001b[0m \u001b[1;33m\u001b[0m\u001b[0m\n",
      "\u001b[1;32m~\\anaconda3\\envs\\tv\\lib\\site-packages\\pandas\\io\\parsers\\readers.py\u001b[0m in \u001b[0;36m_read\u001b[1;34m(filepath_or_buffer, kwds)\u001b[0m\n\u001b[0;32m    480\u001b[0m \u001b[1;33m\u001b[0m\u001b[0m\n\u001b[0;32m    481\u001b[0m     \u001b[1;31m# Create the parser.\u001b[0m\u001b[1;33m\u001b[0m\u001b[1;33m\u001b[0m\u001b[1;33m\u001b[0m\u001b[0m\n\u001b[1;32m--> 482\u001b[1;33m     \u001b[0mparser\u001b[0m \u001b[1;33m=\u001b[0m \u001b[0mTextFileReader\u001b[0m\u001b[1;33m(\u001b[0m\u001b[0mfilepath_or_buffer\u001b[0m\u001b[1;33m,\u001b[0m \u001b[1;33m**\u001b[0m\u001b[0mkwds\u001b[0m\u001b[1;33m)\u001b[0m\u001b[1;33m\u001b[0m\u001b[1;33m\u001b[0m\u001b[0m\n\u001b[0m\u001b[0;32m    483\u001b[0m \u001b[1;33m\u001b[0m\u001b[0m\n\u001b[0;32m    484\u001b[0m     \u001b[1;32mif\u001b[0m \u001b[0mchunksize\u001b[0m \u001b[1;32mor\u001b[0m \u001b[0miterator\u001b[0m\u001b[1;33m:\u001b[0m\u001b[1;33m\u001b[0m\u001b[1;33m\u001b[0m\u001b[0m\n",
      "\u001b[1;32m~\\anaconda3\\envs\\tv\\lib\\site-packages\\pandas\\io\\parsers\\readers.py\u001b[0m in \u001b[0;36m__init__\u001b[1;34m(self, f, engine, **kwds)\u001b[0m\n\u001b[0;32m    809\u001b[0m             \u001b[0mself\u001b[0m\u001b[1;33m.\u001b[0m\u001b[0moptions\u001b[0m\u001b[1;33m[\u001b[0m\u001b[1;34m\"has_index_names\"\u001b[0m\u001b[1;33m]\u001b[0m \u001b[1;33m=\u001b[0m \u001b[0mkwds\u001b[0m\u001b[1;33m[\u001b[0m\u001b[1;34m\"has_index_names\"\u001b[0m\u001b[1;33m]\u001b[0m\u001b[1;33m\u001b[0m\u001b[1;33m\u001b[0m\u001b[0m\n\u001b[0;32m    810\u001b[0m \u001b[1;33m\u001b[0m\u001b[0m\n\u001b[1;32m--> 811\u001b[1;33m         \u001b[0mself\u001b[0m\u001b[1;33m.\u001b[0m\u001b[0m_engine\u001b[0m \u001b[1;33m=\u001b[0m \u001b[0mself\u001b[0m\u001b[1;33m.\u001b[0m\u001b[0m_make_engine\u001b[0m\u001b[1;33m(\u001b[0m\u001b[0mself\u001b[0m\u001b[1;33m.\u001b[0m\u001b[0mengine\u001b[0m\u001b[1;33m)\u001b[0m\u001b[1;33m\u001b[0m\u001b[1;33m\u001b[0m\u001b[0m\n\u001b[0m\u001b[0;32m    812\u001b[0m \u001b[1;33m\u001b[0m\u001b[0m\n\u001b[0;32m    813\u001b[0m     \u001b[1;32mdef\u001b[0m \u001b[0mclose\u001b[0m\u001b[1;33m(\u001b[0m\u001b[0mself\u001b[0m\u001b[1;33m)\u001b[0m\u001b[1;33m:\u001b[0m\u001b[1;33m\u001b[0m\u001b[1;33m\u001b[0m\u001b[0m\n",
      "\u001b[1;32m~\\anaconda3\\envs\\tv\\lib\\site-packages\\pandas\\io\\parsers\\readers.py\u001b[0m in \u001b[0;36m_make_engine\u001b[1;34m(self, engine)\u001b[0m\n\u001b[0;32m   1038\u001b[0m             )\n\u001b[0;32m   1039\u001b[0m         \u001b[1;31m# error: Too many arguments for \"ParserBase\"\u001b[0m\u001b[1;33m\u001b[0m\u001b[1;33m\u001b[0m\u001b[1;33m\u001b[0m\u001b[0m\n\u001b[1;32m-> 1040\u001b[1;33m         \u001b[1;32mreturn\u001b[0m \u001b[0mmapping\u001b[0m\u001b[1;33m[\u001b[0m\u001b[0mengine\u001b[0m\u001b[1;33m]\u001b[0m\u001b[1;33m(\u001b[0m\u001b[0mself\u001b[0m\u001b[1;33m.\u001b[0m\u001b[0mf\u001b[0m\u001b[1;33m,\u001b[0m \u001b[1;33m**\u001b[0m\u001b[0mself\u001b[0m\u001b[1;33m.\u001b[0m\u001b[0moptions\u001b[0m\u001b[1;33m)\u001b[0m  \u001b[1;31m# type: ignore[call-arg]\u001b[0m\u001b[1;33m\u001b[0m\u001b[1;33m\u001b[0m\u001b[0m\n\u001b[0m\u001b[0;32m   1041\u001b[0m \u001b[1;33m\u001b[0m\u001b[0m\n\u001b[0;32m   1042\u001b[0m     \u001b[1;32mdef\u001b[0m \u001b[0m_failover_to_python\u001b[0m\u001b[1;33m(\u001b[0m\u001b[0mself\u001b[0m\u001b[1;33m)\u001b[0m\u001b[1;33m:\u001b[0m\u001b[1;33m\u001b[0m\u001b[1;33m\u001b[0m\u001b[0m\n",
      "\u001b[1;32m~\\anaconda3\\envs\\tv\\lib\\site-packages\\pandas\\io\\parsers\\c_parser_wrapper.py\u001b[0m in \u001b[0;36m__init__\u001b[1;34m(self, src, **kwds)\u001b[0m\n\u001b[0;32m     49\u001b[0m \u001b[1;33m\u001b[0m\u001b[0m\n\u001b[0;32m     50\u001b[0m         \u001b[1;31m# open handles\u001b[0m\u001b[1;33m\u001b[0m\u001b[1;33m\u001b[0m\u001b[1;33m\u001b[0m\u001b[0m\n\u001b[1;32m---> 51\u001b[1;33m         \u001b[0mself\u001b[0m\u001b[1;33m.\u001b[0m\u001b[0m_open_handles\u001b[0m\u001b[1;33m(\u001b[0m\u001b[0msrc\u001b[0m\u001b[1;33m,\u001b[0m \u001b[0mkwds\u001b[0m\u001b[1;33m)\u001b[0m\u001b[1;33m\u001b[0m\u001b[1;33m\u001b[0m\u001b[0m\n\u001b[0m\u001b[0;32m     52\u001b[0m         \u001b[1;32massert\u001b[0m \u001b[0mself\u001b[0m\u001b[1;33m.\u001b[0m\u001b[0mhandles\u001b[0m \u001b[1;32mis\u001b[0m \u001b[1;32mnot\u001b[0m \u001b[1;32mNone\u001b[0m\u001b[1;33m\u001b[0m\u001b[1;33m\u001b[0m\u001b[0m\n\u001b[0;32m     53\u001b[0m \u001b[1;33m\u001b[0m\u001b[0m\n",
      "\u001b[1;32m~\\anaconda3\\envs\\tv\\lib\\site-packages\\pandas\\io\\parsers\\base_parser.py\u001b[0m in \u001b[0;36m_open_handles\u001b[1;34m(self, src, kwds)\u001b[0m\n\u001b[0;32m    220\u001b[0m         \u001b[0mLet\u001b[0m \u001b[0mthe\u001b[0m \u001b[0mreaders\u001b[0m \u001b[0mopen\u001b[0m \u001b[0mIOHandles\u001b[0m \u001b[0mafter\u001b[0m \u001b[0mthey\u001b[0m \u001b[0mare\u001b[0m \u001b[0mdone\u001b[0m \u001b[1;32mwith\u001b[0m \u001b[0mtheir\u001b[0m \u001b[0mpotential\u001b[0m \u001b[0mraises\u001b[0m\u001b[1;33m.\u001b[0m\u001b[1;33m\u001b[0m\u001b[1;33m\u001b[0m\u001b[0m\n\u001b[0;32m    221\u001b[0m         \"\"\"\n\u001b[1;32m--> 222\u001b[1;33m         self.handles = get_handle(\n\u001b[0m\u001b[0;32m    223\u001b[0m             \u001b[0msrc\u001b[0m\u001b[1;33m,\u001b[0m\u001b[1;33m\u001b[0m\u001b[1;33m\u001b[0m\u001b[0m\n\u001b[0;32m    224\u001b[0m             \u001b[1;34m\"r\"\u001b[0m\u001b[1;33m,\u001b[0m\u001b[1;33m\u001b[0m\u001b[1;33m\u001b[0m\u001b[0m\n",
      "\u001b[1;32m~\\anaconda3\\envs\\tv\\lib\\site-packages\\pandas\\io\\common.py\u001b[0m in \u001b[0;36mget_handle\u001b[1;34m(path_or_buf, mode, encoding, compression, memory_map, is_text, errors, storage_options)\u001b[0m\n\u001b[0;32m    700\u001b[0m         \u001b[1;32mif\u001b[0m \u001b[0mioargs\u001b[0m\u001b[1;33m.\u001b[0m\u001b[0mencoding\u001b[0m \u001b[1;32mand\u001b[0m \u001b[1;34m\"b\"\u001b[0m \u001b[1;32mnot\u001b[0m \u001b[1;32min\u001b[0m \u001b[0mioargs\u001b[0m\u001b[1;33m.\u001b[0m\u001b[0mmode\u001b[0m\u001b[1;33m:\u001b[0m\u001b[1;33m\u001b[0m\u001b[1;33m\u001b[0m\u001b[0m\n\u001b[0;32m    701\u001b[0m             \u001b[1;31m# Encoding\u001b[0m\u001b[1;33m\u001b[0m\u001b[1;33m\u001b[0m\u001b[1;33m\u001b[0m\u001b[0m\n\u001b[1;32m--> 702\u001b[1;33m             handle = open(\n\u001b[0m\u001b[0;32m    703\u001b[0m                 \u001b[0mhandle\u001b[0m\u001b[1;33m,\u001b[0m\u001b[1;33m\u001b[0m\u001b[1;33m\u001b[0m\u001b[0m\n\u001b[0;32m    704\u001b[0m                 \u001b[0mioargs\u001b[0m\u001b[1;33m.\u001b[0m\u001b[0mmode\u001b[0m\u001b[1;33m,\u001b[0m\u001b[1;33m\u001b[0m\u001b[1;33m\u001b[0m\u001b[0m\n",
      "\u001b[1;31mFileNotFoundError\u001b[0m: [Errno 2] No such file or directory: 'data_files\\\\crypto_tickers1.csv'"
     ]
    }
   ],
   "source": [
    "ticker_data = Path(\"data_files/crypto_tickers1.csv\")\n",
    "ticker= pd.read_csv(ticker_data, header=None)\n",
    "ticker_df = pd.DataFrame(ticker)\n",
    "my_crypto_list = ticker_df[0].tolist()\n",
    "screener=\"CRYPTO\"\n",
    "exchange=\"BINANCE\"\n",
    "df_daily = pd.DataFrame()\n",
    "print(f\"Nice work! No issues have been identified, let me look into these and get back to you shortly...\")"
   ]
  },
  {
   "cell_type": "code",
   "execution_count": null,
   "id": "4254da07",
   "metadata": {
    "tags": []
   },
   "outputs": [],
   "source": [
    "#Get historical pricing information for total population\n",
    "for ticker in my_crypto_list:\n",
    "    data = tv.get_hist(\n",
    "        symbol=ticker,\n",
    "        exchange=exchange,\n",
    "        interval=Interval.in_daily,n_bars=500)\n",
    "    df_daily = df_daily.append(data)\n",
    "print(f'finished extracting historical prices..')"
   ]
  },
  {
   "cell_type": "code",
   "execution_count": null,
   "id": "718039df",
   "metadata": {
    "tags": []
   },
   "outputs": [],
   "source": [
    "#Grab indicator recommendations from Trading View API\n",
    "from tradingview_ta import TA_Handler, Interval, Exchange\n",
    "staging_df = pd.DataFrame()\n",
    "ticker_df_daily = pd.DataFrame()\n",
    "for ticker in my_crypto_list:\n",
    "    try:\n",
    "        data = (TA_Handler(symbol=ticker,screener=screener,\n",
    "                           exchange=exchange,interval=Interval.INTERVAL_1_DAY ).get_analysis().summary)\n",
    "        symbol = ticker\n",
    "        staging_df = list(data.values())\n",
    "        final_df = (pd.DataFrame((data), index={ticker}))\n",
    "        ticker_df_daily = ticker_df_daily.append(final_df)\n",
    "    except:\n",
    "        pass\n",
    "print(f'finished extracting analyst recommendations..')"
   ]
  },
  {
   "cell_type": "code",
   "execution_count": null,
   "id": "2016a561",
   "metadata": {},
   "outputs": [],
   "source": [
    "#Filter imported list by analyst recommendations\n",
    "initial_drop = ticker_df_daily.loc[ticker_df_daily['RECOMMENDATION']=='SELL']\n",
    "initial_pass_prime = ticker_df_daily.loc[ticker_df_daily['RECOMMENDATION']=='BUY']\n",
    "initial_pass_subprime = ticker_df_daily.loc[ticker_df_daily['RECOMMENDATION']=='NEUTRAL']\n",
    "#initial_drop = initial_indicator['RECOMMENDATION'].str.contains('SELL')\n",
    "buy_count = initial_pass_prime['RECOMMENDATION'].count() + initial_pass_subprime['RECOMMENDATION'].count()\n",
    "sell_count = initial_drop['RECOMMENDATION'].count()\n",
    "print('Here are the initial findings:')\n",
    "print('')\n",
    "print(f'It is not a good time to invest in {sell_count} of the cryptos from your list')\n",
    "print(f'These {sell_count} cryptos are not in a buying position')\n",
    "print(initial_drop['RECOMMENDATION'])\n",
    "print(f'These {sell_count} cryptos have been dropped from consideration..')\n",
    "print('')\n",
    "print('')\n",
    "print(f'Moving on, our initial inidicator data suggest {buy_count} cryptos from your list should be considered for further analysis:')\n",
    "print('Here they are:')\n",
    "print('Our Prime candidates that are in buy positions are:')\n",
    "print(initial_pass_prime['RECOMMENDATION'])\n",
    "print('')\n",
    "print('And these are neutral for now, we can resverve for later if we need additional cryptos for analysis')\n",
    "print(initial_pass_subprime['RECOMMENDATION'])"
   ]
  },
  {
   "cell_type": "code",
   "execution_count": null,
   "id": "e8a3643a",
   "metadata": {},
   "outputs": [],
   "source": [
    "#Extract index values for the tickers that are prime and subprime and format data for further analysis. \n",
    "initial_pass_prime.reset_index(inplace=True)\n",
    "initial_pass_prime = initial_pass_prime['index']\n",
    "initial_pass_subprime.reset_index(inplace=True)\n",
    "initial_pass_subprime = initial_pass_subprime['index']\n",
    "staging_df = pd.DataFrame()\n",
    "staging_df1 = pd.DataFrame()\n",
    "prime_df = pd.DataFrame()\n",
    "subprime_df = pd.DataFrame()\n",
    "print(f'Nice work, {name}, you found {buy_count} cryptos that might be good investments this week!')\n",
    "print(f'However, give me a minute while I dig into some insider techniques')"
   ]
  },
  {
   "cell_type": "code",
   "execution_count": null,
   "id": "7f05b04b",
   "metadata": {
    "tags": []
   },
   "outputs": [],
   "source": [
    "#Run a for loop through prime and subprime cryptos and pull in all oscilattor data for technical analysis\n",
    "#Prime cryptos\n",
    "for ticker in initial_pass_prime:\n",
    "    try:\n",
    "        data = (TA_Handler(symbol=ticker,screener=screener,\n",
    "                           exchange=exchange,interval=Interval.INTERVAL_1_DAY ).get_analysis().indicators)\n",
    "        symbol = ticker\n",
    "        staging_df = list(data.values())\n",
    "        final_df = (pd.DataFrame((data), index={ticker}))\n",
    "        prime_df = prime_df.append(final_df)\n",
    "    except:\n",
    "        pass\n",
    "    \n",
    "#Sub-prime cryptos\n",
    "for ticker in initial_pass_subprime:\n",
    "    try:\n",
    "        data = (TA_Handler(symbol=ticker,screener=screener,\n",
    "                           exchange=exchange,interval=Interval.INTERVAL_1_DAY ).get_analysis().indicators)\n",
    "        symbol = ticker\n",
    "        staging_df1 = list(data.values())\n",
    "        final_df = (pd.DataFrame((data), index={ticker}))\n",
    "        subprime_df = subprime_df.append(final_df)\n",
    "    except:\n",
    "        pass\n",
    "print('Extracted oscillator data for built-in technical analysis test')"
   ]
  },
  {
   "cell_type": "code",
   "execution_count": null,
   "id": "837fdf90",
   "metadata": {
    "tags": []
   },
   "outputs": [],
   "source": [
    "#Extract oscillator information for all cryptos that meet the 'buy threshold'  \n",
    "crypataras_picks = []\n",
    "print(f'Determining which cryptos are well positioned from a technical analysis perspective.')\n",
    "print(f'This test applies a threshold to the oscillator values to determine if any cryptos are either in an overbought or oversold position')\n",
    "print(f'')\n",
    "def strong_performers():\n",
    "    for i, j in prime_df.iterrows():\n",
    "        if j['RSI'] > 45 and j['RSI'] < 90:\n",
    "            print(f'{i} has passed the rsi_test, moving to moving average covergence and divergence analysis..')\n",
    "            if j['MACD.macd'] > 0 and j['MACD.macd'] < 40:\n",
    "                print(f'{i} has passed our moving average covergence and divergence analysis, moving to stochator analysis..')\n",
    "                if j['Stoch.K'] > 35 and j['Stoch.K'] < 85:\n",
    "                    if j['Stoch.D'] > 40 and j['Stoch.D'] < 85:\n",
    "                        if j['Stoch.RSI.K'] > 30 and j['Stoch.RSI.K'] < 80:\n",
    "                            print(f'{i} has passed our multiple stochator analysis, testing the Awesome Oscillators..')\n",
    "                            if j['AO'] > 0 and j['AO'] < 55:\n",
    "                                crypataras_picks.append(i)\n",
    "                                \n",
    "    else:\n",
    "        print(f'{i} has failed one of our oscillator performance test and is dropped from consideration..')\n",
    "\n",
    "strong_performers()\n",
    "initial_count = len(crypataras_picks)\n",
    "print(f'')\n",
    "print('Done with technical analysis test..')"
   ]
  },
  {
   "cell_type": "code",
   "execution_count": null,
   "id": "15f0995b",
   "metadata": {},
   "outputs": [],
   "source": [
    "crypataras_picks"
   ]
  },
  {
   "cell_type": "code",
   "execution_count": null,
   "id": "44d09c88",
   "metadata": {},
   "outputs": [],
   "source": [
    "print(f'{initial_count} of the cryptos from your list are in an optimal buying position.')\n",
    "print(f'{initial_count} of the cryptos from your list are in an optimal buying position.Here they are: {crypataras_picks}')\n",
    "Dup = {}\n",
    "#print(This program requires a minimum of five cryptos to run further analysis. Importing random ticker from subprime dataframe \n",
    "if len(crypataras_picks) < 5:\n",
    "    print('This program requires a minimum of five cryptos to run remaining analysis. Importing random ticker from subprime dataframe..')\n",
    "    computer_selection_1 = subprime_df.sample().reset_index()\n",
    "    ticker_random_1 = computer_selection_1.iloc[:, 0].tolist()\n",
    "    string=''.join([str(item) for item in ticker_random_1])\n",
    "    if string in crypataras_picks:\n",
    "        string = Dup[string]\n",
    "    else:\n",
    "        crypataras_picks.append(string)\n",
    "        Dup[string] = string = len(crypataras_picks)-1\n",
    "if len(crypataras_picks) < 5:\n",
    "    print('This program requires a minimum of five cryptos to run remaining analysis. Importing random ticker from subprime dataframe..')\n",
    "    computer_selection_2 = subprime_df.sample().reset_index()\n",
    "    ticker_random_2 = computer_selection_2.iloc[:, 0].tolist()\n",
    "    string=''.join([str(item) for item in ticker_random_2])\n",
    "    if string in crypataras_picks:\n",
    "        string = Dup[string]\n",
    "    else:\n",
    "        crypataras_picks.append(string)\n",
    "        Dup[string] = string = len(crypataras_picks)-1\n",
    "if len(crypataras_picks) < 5:\n",
    "    print('This program requires a minimum of five cryptos to run remaining analysis. Importing random ticker from subprime dataframe..')\n",
    "    computer_selection_3 = subprime_df.sample().reset_index()\n",
    "    ticker_random_3 = computer_selection_3.iloc[:, 0].tolist()\n",
    "    string=''.join([str(item) for item in ticker_random_3])\n",
    "    if string in crypataras_picks:\n",
    "        string = Dup[string]\n",
    "    else:\n",
    "        crypataras_picks.append(string)\n",
    "        Dup[string] = string = len(crypataras_picks)-1\n",
    "if len(crypataras_picks) < 5:\n",
    "    print('This program requires a minimum of five cryptos to run remaining analysis. Importing random ticker from subprime dataframe..')\n",
    "    computer_selection_4 = initial_drop.sample().reset_index()\n",
    "    ticker_random_4 = computer_selection_4.iloc[:, 0].tolist()\n",
    "    string=''.join([str(item) for item in ticker_random_4])\n",
    "    if string in crypataras_picks:\n",
    "        string = Dup[string]\n",
    "    else:\n",
    "        crypataras_picks.append(string)\n",
    "        Dup[string] = string = len(crypataras_picks)-1"
   ]
  },
  {
   "cell_type": "code",
   "execution_count": null,
   "id": "bc120299",
   "metadata": {},
   "outputs": [],
   "source": [
    "from tvDatafeed import TvDatafeed,Interval\n",
    "load_dotenv()\n",
    "tradev_id = os.getenv(\"username\")\n",
    "tradev_secret_key = os.getenv(\"password\")\n",
    "logging.basicConfig(level=logging.DEBUG)\n",
    "tv = TvDatafeed(tradev_id, tradev_secret_key, chromedriver_path=None)"
   ]
  },
  {
   "cell_type": "code",
   "execution_count": null,
   "id": "4e540cec",
   "metadata": {},
   "outputs": [],
   "source": [
    "final_crypto_df = pd.DataFrame()\n",
    "bars= 100\n",
    "for all_picks in crypataras_picks:\n",
    "    picks_df = tv.get_hist(symbol=all_picks,\n",
    "                       exchange=exchange,\n",
    "                       interval=Interval.in_daily,\n",
    "                       n_bars=bars)\n",
    "    final_crypto_df = final_crypto_df.append(picks_df)\n",
    "final_crypto_df.head(5)"
   ]
  },
  {
   "cell_type": "code",
   "execution_count": null,
   "id": "de5b944f",
   "metadata": {},
   "outputs": [],
   "source": [
    "#Format dataframe.\n",
    "#Step 1: extract exchange and ticker from 'symbol' column into separate columns.\n",
    "final_df_cleaner = final_crypto_df\n",
    "final_df_cleaner[['exchange', 'ticker']] = final_df_cleaner['symbol'].str.split(':',expand=True)\n",
    "#Step 2: Extract ticker and close values, reset index\n",
    "final_df_cleaner = final_df_cleaner[['ticker','close']]\n",
    "final_df_cleaner = final_df_cleaner[['ticker','close']].reset_index()\n",
    "#Step3: Pivot data to make ticker values the column headers\n",
    "final_df_cleaner = final_df_cleaner.pivot(index='datetime',\n",
    "           columns='ticker',\n",
    "           values='close')\n",
    "#Step4: calculate return data\n",
    "print('Extracted historical returns into dataframe..')\n",
    "crypto_pick_returns = final_df_cleaner.pct_change().dropna()\n",
    "crypto_pick_returns.tail(5)"
   ]
  },
  {
   "cell_type": "code",
   "execution_count": null,
   "id": "abfe4087",
   "metadata": {},
   "outputs": [],
   "source": [
    "#Step5: Calculate Cumulative Returns\n",
    "print('Calculated cumulative returns..')\n",
    "cumulative_daily_returns = (1 + crypto_pick_returns).cumprod() -1\n",
    "cumulative_daily_returns.tail(10)"
   ]
  },
  {
   "cell_type": "code",
   "execution_count": null,
   "id": "efc60bbd",
   "metadata": {},
   "outputs": [],
   "source": [
    "#Step5: Calculate Cumulative Returns\n",
    "print('Activating Cryptara Smartfolio')\n",
    "print('Logging returns to normalize dataset..')\n",
    "log_returns= np.log(cumulative_daily_returns)\n",
    "log_returns.tail()"
   ]
  },
  {
   "cell_type": "code",
   "execution_count": null,
   "id": "dd784559",
   "metadata": {},
   "outputs": [],
   "source": [
    "#Calculate volatility and \n",
    "print(f'Running multiple scenaries to determine appropriate weights for selected cryptos')\n",
    "#Initialize variables for \n",
    "num_of_portfolios= 5000\n",
    "weight= np.zeros((num_of_portfolios,len(crypataras_picks)))\n",
    "expected_return=  np.zeros(num_of_portfolios)\n",
    "expected_volatility= np.zeros(num_of_portfolios)\n",
    "sharpe_ratio= np.zeros(num_of_portfolios)\n",
    "expected_return\n",
    "mean_log_ret= log_returns.mean()\n",
    "sigma = log_returns.cov()\n",
    "\n",
    "for i in range (num_of_portfolios):\n",
    "    # generate random weight vectos \n",
    "    w= np.array(np.random.random(len(crypataras_picks)))\n",
    "        #sum of weights equal to 1 \n",
    "    w= w/ np.sum(w)\n",
    "    weight[i,:]= w\n",
    "    \n",
    "    # expected log return \n",
    "    expected_return[i]= np.sum(mean_log_ret*w) \n",
    "    \n",
    "    #expected volatility \n",
    "    expected_volatility[i]= np.sqrt(np.dot(w.T,np.dot(sigma,w)))\n",
    "    \n",
    "    # sharpe ratio\n",
    "    sharpe_ratio[i] =  expected_return[i]/expected_volatility[i]"
   ]
  },
  {
   "cell_type": "code",
   "execution_count": null,
   "id": "f2714e62",
   "metadata": {},
   "outputs": [],
   "source": [
    "# Weighted portfolio that sharpe ratio\n",
    "max_index = sharpe_ratio.argmax()\n",
    "weight[max_index,:]"
   ]
  },
  {
   "cell_type": "code",
   "execution_count": null,
   "id": "021c7688",
   "metadata": {},
   "outputs": [],
   "source": [
    "# Portfolio weights are exported to a csv that can be used for monteclaro simulation\n",
    "portfolio_weights = np.array([weight[max_index,:]])\n",
    "smartfolio_weights = pd.DataFrame(portfolio_weights)\n",
    "smartfolio_weights.to_csv('smartfolio_weights.csv')"
   ]
  },
  {
   "cell_type": "code",
   "execution_count": null,
   "id": "61a6b659",
   "metadata": {
    "tags": []
   },
   "outputs": [],
   "source": [
    "import matplotlib.pyplot as plt\n",
    "plt.figure(figsize=(20,5))\n",
    "plt.scatter(expected_volatility,expected_return,c=sharpe_ratio)\n",
    "plt.xlabel('Expected Volatility')\n",
    "plt.ylabel('Expected Log Returns')\n",
    "plt.colorbar(label='Sharpe Ratio')\n",
    "plt.scatter(expected_volatility[max_index], expected_return[max_index], c='red')\n",
    "plt.show()\n",
    "print(f'here are the smartfolio weights:{smartfolio_weights}')"
   ]
  },
  {
   "cell_type": "code",
   "execution_count": null,
   "id": "b734d450",
   "metadata": {},
   "outputs": [],
   "source": [
    "import itertools\n",
    "from itertools import product\n",
    "from MCForecastTools import MCSimulation\n",
    "%matplotlib inline"
   ]
  },
  {
   "cell_type": "code",
   "execution_count": null,
   "id": "83312cd9",
   "metadata": {},
   "outputs": [],
   "source": [
    "mcsims_df = pd.DataFrame()\n",
    "for final_cryptos in crypataras_picks:\n",
    "    mcsims = tv.get_hist(symbol=final_cryptos,\n",
    "                       exchange=exchange,\n",
    "                       interval=Interval.in_daily,\n",
    "                       n_bars=bars)\n",
    "    mcsims_df = mcsims_df.append(mcsims)"
   ]
  },
  {
   "cell_type": "code",
   "execution_count": null,
   "id": "6446bfcc",
   "metadata": {
    "tags": []
   },
   "outputs": [],
   "source": [
    "mcsims_df"
   ]
  },
  {
   "cell_type": "code",
   "execution_count": null,
   "id": "d9b18512",
   "metadata": {
    "tags": []
   },
   "outputs": [],
   "source": [
    "ticker1_df = mcsims_df.loc[mcsims_df.symbol==f'{exchange}' + ':' +f'{crypataras_picks[0]}']\n",
    "ticker2_df = mcsims_df.loc[mcsims_df.symbol==f'{exchange}' + ':' +f'{crypataras_picks[1]}']\n",
    "ticker3_df = mcsims_df.loc[mcsims_df.symbol==f'{exchange}' + ':' +f'{crypataras_picks[2]}']\n",
    "ticker4_df = mcsims_df.loc[mcsims_df.symbol==f'{exchange}' + ':' +f'{crypataras_picks[3]}']\n",
    "ticker5_df = mcsims_df.loc[mcsims_df.symbol==f'{exchange}' + ':' +f'{crypataras_picks[4]}']\n",
    "sim_data = pd.concat([ticker1_df, ticker2_df, ticker3_df, ticker4_df, ticker5_df], axis='columns', join='inner')"
   ]
  },
  {
   "cell_type": "markdown",
   "id": "568038aa",
   "metadata": {},
   "source": [
    "mcsims_df.to_csv('updated_delete.csv')"
   ]
  },
  {
   "cell_type": "code",
   "execution_count": null,
   "id": "1fe142f3",
   "metadata": {},
   "outputs": [],
   "source": [
    "mdex = itertools.product(crypataras_picks, ticker1_df.columns)\n",
    "columns = []\n",
    "for x in mdex:\n",
    " columns.append(x)\n",
    "sim_data.columns = pd.MultiIndex.from_tuples(columns) "
   ]
  },
  {
   "cell_type": "code",
   "execution_count": null,
   "id": "24a02015",
   "metadata": {},
   "outputs": [],
   "source": [
    "smartfolio_weights"
   ]
  },
  {
   "cell_type": "code",
   "execution_count": null,
   "id": "817b07c8",
   "metadata": {},
   "outputs": [],
   "source": [
    "# possible format for mc_weights\n",
    "smart_weights =[smartfolio_weights[0],smartfolio_weights[1],smartfolio_weights[2],smartfolio_weights[3],smartfolio_weights[4]]\n",
    "#weights = smart_weights"
   ]
  },
  {
   "cell_type": "code",
   "execution_count": null,
   "id": "7f0084a1",
   "metadata": {},
   "outputs": [],
   "source": [
    "# you can set weights = smart_weights, reference cell above\n",
    "\n",
    "MC_even_dist = MCSimulation(\n",
    "    portfolio_data = sim_data, \n",
    "    weights = [.20, .20, .20, .20, .20],\n",
    "    num_simulation=100,\n",
    "    num_trading_days = 126\n",
    ")\n"
   ]
  },
  {
   "cell_type": "code",
   "execution_count": null,
   "id": "07572244",
   "metadata": {
    "tags": []
   },
   "outputs": [],
   "source": [
    "cumula_return = MC_even_dist.calc_cumulative_return()"
   ]
  },
  {
   "cell_type": "code",
   "execution_count": null,
   "id": "a9f53ef4",
   "metadata": {},
   "outputs": [],
   "source": [
    "cumula_return.to_csv('mc_df.csv')"
   ]
  },
  {
   "cell_type": "code",
   "execution_count": null,
   "id": "d3d6ec1a",
   "metadata": {},
   "outputs": [],
   "source": [
    "type(simulated_returns_data)"
   ]
  },
  {
   "cell_type": "code",
   "execution_count": null,
   "id": "4aa332b0",
   "metadata": {},
   "outputs": [],
   "source": [
    "simulated_returns_data = {\n",
    "    \"mean\": list(MC_even_dist.simulated_return.mean(axis=1)),\n",
    "    \"median\": list(MC_even_dist.simulated_return.median(axis=1)),\n",
    "    \"min\": list(MC_even_dist.simulated_return.min(axis=1)),\n",
    "    \"max\": list(MC_even_dist.simulated_return.max(axis=1))\n",
    "}"
   ]
  },
  {
   "cell_type": "code",
   "execution_count": null,
   "id": "e53f4024",
   "metadata": {},
   "outputs": [],
   "source": [
    "df_simulated_returns = pd.DataFrame(simulated_returns_data)"
   ]
  },
  {
   "cell_type": "code",
   "execution_count": null,
   "id": "0feffbd7",
   "metadata": {
    "tags": []
   },
   "outputs": [],
   "source": [
    "df_simulated_returns.head()"
   ]
  },
  {
   "cell_type": "code",
   "execution_count": null,
   "id": "aedc7409",
   "metadata": {},
   "outputs": [],
   "source": [
    "df_simulated_returns.to_csv('mc_stats.csv')"
   ]
  },
  {
   "cell_type": "code",
   "execution_count": null,
   "id": "c517cb7f",
   "metadata": {},
   "outputs": [],
   "source": [
    "import panel as pn\n",
    "pn.extension('plotly')\n",
    "from panel.interact import interact\n",
    "import plotly.express as px\n",
    "import plotly.graph_objects as go\n",
    "from plotly.offline import iplot\n",
    "from plotly.subplots import make_subplots\n",
    "from panel import widgets\n",
    "\n",
    "\n",
    "import pandas as pd\n",
    "import os\n",
    "from pathlib import Path\n",
    "from dotenv import load_dotenv\n",
    "\n",
    "import warnings\n",
    "warnings.filterwarnings('ignore')"
   ]
  },
  {
   "cell_type": "code",
   "execution_count": null,
   "id": "37ce2606",
   "metadata": {},
   "outputs": [],
   "source": [
    "mcs_path = Path(\"mc_df.csv\")\n",
    "mc_df = pd.read_csv(mcs_path, index_col=[0])\n",
    "mc_df.index.name=\"Days\"\n",
    "mc_df.head(30)"
   ]
  },
  {
   "cell_type": "code",
   "execution_count": null,
   "id": "87d8fc28",
   "metadata": {},
   "outputs": [],
   "source": [
    "fig1 = px.line(mc_df)\n",
    "fig1 = fig1.update_layout(\n",
    "    xaxis_title=\"Predicted Time Period(Days)\",\n",
    "    yaxis_title=\"Daily Return\",\n",
    "    showlegend=False,\n",
    "    title='Simulation of Returns on Portfolio Investment')\n",
    "fig1.show()"
   ]
  },
  {
   "cell_type": "code",
   "execution_count": null,
   "id": "30a9ec31",
   "metadata": {},
   "outputs": [],
   "source": [
    "#use dataframe of stats for daily returns of simulation from aarons part as well\n",
    "mc_path = Path(\"mc_stats.csv\")\n",
    "df_simulated_returns = pd.read_csv(mc_path, index_col=[0])\n",
    "df_simulated_returns.index.name=\"Days\"\n",
    "df_simulated_returns\n"
   ]
  },
  {
   "cell_type": "code",
   "execution_count": null,
   "id": "6aba0ee6",
   "metadata": {},
   "outputs": [],
   "source": [
    "fig2 = go.Figure()\n",
    "fig2.add_trace(go.Scatter(x=df_simulated_returns.index, y=df_simulated_returns['mean'],\n",
    "                    mode='lines',\n",
    "                    name='mean returns',\n",
    "                    line=dict(color=\"salmon\", width=1),))\n",
    "fig2.add_trace(go.Scatter(x=df_simulated_returns.index, y=df_simulated_returns['median'],\n",
    "                    mode='lines',\n",
    "                    name='median returns',\n",
    "                    line=dict(color=\"teal\", width=1),))\n",
    "fig2.add_trace(go.Scatter(x=df_simulated_returns.index, y=df_simulated_returns['min'],\n",
    "                    mode='lines',\n",
    "                    name='minimum returns',\n",
    "                    line=dict(color=\"darkred\", width=1),))\n",
    "fig2.add_trace(go.Scatter(x=df_simulated_returns.index, y=df_simulated_returns['max'],\n",
    "                    mode='lines',\n",
    "                    name='maximum returns',\n",
    "                    line=dict(color=\"olive\", width=1),))\n",
    "fig2.update_layout(\n",
    "    height=500,\n",
    "    width=1200,\n",
    "    xaxis_title=\"Number of Days(in Simulation)\",\n",
    "    yaxis_title=\"Daily Returns\",\n",
    "    legend_title=\"Stats\",\n",
    "    title=\"Statistical Analysis for Simulation of Return on Investment\")\n",
    "fig2.show()"
   ]
  },
  {
   "cell_type": "code",
   "execution_count": null,
   "id": "0e8cde89",
   "metadata": {},
   "outputs": [],
   "source": [
    "# Set initial investment\n",
    "initial_investment = 11999\n",
    "\n",
    "# Multiply an initial investment by the daily returns of simulative stock prices to return the progression of daily returns in terms of money\n",
    "cumulative_pnl = initial_investment * df_simulated_returns\n",
    "\n",
    "# Display sample data\n",
    "cumulative_pnl.head()"
   ]
  },
  {
   "cell_type": "code",
   "execution_count": null,
   "id": "185c8000",
   "metadata": {},
   "outputs": [],
   "source": [
    "#Plot simulated investment portfolio returns with initial investment number (values are in USD)\n",
    "fig3 = go.Figure()\n",
    "fig3 = fig3.add_trace(go.Scatter(x=cumulative_pnl.index, y=cumulative_pnl['mean'],\n",
    "                    mode='lines',\n",
    "                    name='mean returns',\n",
    "                    line=dict(color=\"salmon\", width=1),))\n",
    "fig3 = fig3.add_trace(go.Scatter(x=cumulative_pnl.index, y=cumulative_pnl['median'],\n",
    "                    mode='lines',\n",
    "                    name='median returns',\n",
    "                    line=dict(color=\"teal\", width=1),))\n",
    "fig3 = fig3.add_trace(go.Scatter(x=cumulative_pnl.index, y=cumulative_pnl['min'],\n",
    "                    mode='lines',\n",
    "                    name='minimum returns',\n",
    "                    line=dict(color=\"darkred\", width=1),))\n",
    "fig3 = fig3.add_trace(go.Scatter(x=cumulative_pnl.index, y=cumulative_pnl['max'],\n",
    "                    mode='lines',\n",
    "                    name='maximum returns',\n",
    "                    line=dict(color=\"olive\", width=1),))\n",
    "fig3 = fig3.update_layout(\n",
    "    height=500,\n",
    "    width=1200,\n",
    "    xaxis_title=\"Time Period(Days)\",\n",
    "    yaxis_title=\"Returns(USD)\",\n",
    "    legend_title=\"Stats\",\n",
    "    title=\"$11,999 Initial Investment - Predicted Earnings\")\n",
    "fig3.show()\n",
    "\n",
    "print(\"You've chosen to invest $11,900 in a diverse cryptocurrency portfolio!\")\n",
    "print(\"This simulation can help you visualize what your portfolio may look like in the days following your initial investment.\")\n",
    "print(\"Let's take a look at some other coins that are popularly traded right now.\")\n"
   ]
  },
  {
   "cell_type": "code",
   "execution_count": null,
   "id": "f7adc2c4",
   "metadata": {},
   "outputs": [],
   "source": [
    "# # CAN ONLY RUN IN TRADING VIEW ENV\n",
    "# #--------------------------\n",
    "# # ticker list for candlestick and RSI general visualizations\n",
    "# # does not need to be cryptara's picks!\n",
    "\n",
    "# tickers=['COMPUSD','SUSHIUSD','LTCUSD','ETCUSD','DOGEUSD','STORJUSD','ADAUSD','BTCUSD','ETHUSD','SOLUSD','UNIUSD']\n",
    "\n",
    "# #set variables\n",
    "# my_crypto_portfolio = tickers\n",
    "# df_daily = pd.DataFrame()\n",
    "# exchange = 'COINBASE',\n",
    "\n",
    "# #create for loop to append each ticker into dataframe\n",
    "# for ticker in my_crypto_portfolio:\n",
    "#     data = tv.get_hist(\n",
    "#         symbol=ticker,\n",
    "#         exchange=exchange,\n",
    "#         interval=Interval.in_daily,n_bars=1000)\n",
    "#     df_daily = df_daily.append(data)\n",
    "    \n",
    "    \n",
    "# #adjust index from datetime to date to remove timestamp\n",
    "# df_daily.index = pd.to_datetime(df_daily.index, errors='coerce').date\n",
    "\n",
    "# #divide volume by 1,000,000 to convert Volume to V(millions)\n",
    "# df_daily['volume'] = (df_daily['volume'].astype(float)/1000).round(4).astype(float)\n",
    "# df_daily.to_csv('daily_ohlc.csv')"
   ]
  },
  {
   "cell_type": "code",
   "execution_count": null,
   "id": "ecbd1c07",
   "metadata": {},
   "outputs": [],
   "source": [
    "#read in COINBASE ticker dataframe\n",
    "daily_path = Path(\"daily_ohlc.csv\")\n",
    "df_daily = pd.read_csv(daily_path, index_col=[0])\n",
    "df_daily.index.name = \"Date\""
   ]
  },
  {
   "cell_type": "code",
   "execution_count": null,
   "id": "1ceefebc",
   "metadata": {},
   "outputs": [],
   "source": [
    "\n",
    "\n",
    "#.loc COINBASE tickers Symbol, Open, High, Low, Close, Volume data as new df\n",
    "comp_df = df_daily.loc[df_daily.symbol=='COINBASE:COMPUSD']\n",
    "sushi_df = df_daily.loc[df_daily.symbol=='COINBASE:SUSHIUSD']\n",
    "ltc_df = df_daily.loc[df_daily.symbol=='COINBASE:LTCUSD']\n",
    "etc_df = df_daily.loc[df_daily.symbol=='COINBASE:ETCUSD']\n",
    "doge_df = df_daily.loc[df_daily.symbol=='COINBASE:DOGEUSD']\n",
    "storj_df = df_daily.loc[df_daily.symbol=='COINBASE:STORJUSD']\n",
    "ada_df = df_daily.loc[df_daily.symbol=='COINBASE:ADAUSD']\n",
    "btc_df = df_daily.loc[df_daily.symbol=='COINBASE:BTCUSD']\n",
    "eth_df = df_daily.loc[df_daily.symbol=='COINBASE:ETHUSD']\n",
    "sol_df = df_daily.loc[df_daily.symbol=='COINBASE:SOLUSD']\n",
    "uni_df = df_daily.loc[df_daily.symbol=='COINBASE:UNIUSD']\n",
    "\n",
    "#reset COINBASE ticker index to prep for plotting candlestick RSI\n",
    "comp_df=comp_df.tail(60).reset_index()\n",
    "sushi_df=sushi_df.tail(60).reset_index()\n",
    "ltc_df=ltc_df.tail(60).reset_index()\n",
    "etc_df=etc_df.tail(60).reset_index()\n",
    "doge_df=doge_df.tail(60).reset_index()\n",
    "storj_df=storj_df.tail(60).reset_index()\n",
    "ada_df=ada_df.tail(60).reset_index()\n",
    "btc_df=btc_df.tail(60).reset_index()\n",
    "eth_df=eth_df.tail(60).reset_index()\n",
    "sol_df=sol_df.tail(60).reset_index()\n",
    "uni_df=uni_df.tail(60).reset_index()"
   ]
  },
  {
   "cell_type": "code",
   "execution_count": null,
   "id": "7f68f72b",
   "metadata": {},
   "outputs": [],
   "source": [
    "\n",
    "print(\"When current price falls below the 'lower-bb' we can expect prices to begin to rise - this indicates a good BUY opportunity.\") \n",
    "print(\"When current price raises above the 'upper-bb' we can expect prices to begin to fall soon - this presents an opportunity to SELL.\")\n",
    "\n",
    "# calculate sma and std for upper and lower bb for each df in df_list\n",
    "df_list = [comp_df, sushi_df, ltc_df, etc_df, doge_df, storj_df, ada_df, btc_df, eth_df, sol_df, uni_df]\n",
    "WINDOW=30\n",
    "\n",
    "for df in df_list:\n",
    "    df['sma'] = df['close'].rolling(WINDOW).mean()\n",
    "    df['std'] = df['close'].rolling(WINDOW).std(ddof = 0)\n",
    "    \n",
    "    \n",
    "    # Create subplots with 2 rows; top for candlestick price, and bottom for bar volume\n",
    "    fig = make_subplots(rows = 2, cols = 1, shared_xaxes = True, subplot_titles = (f'{df.symbol[0]} Relative Strength Index', 'Volume(MM)'), vertical_spacing = 0.1, row_width = [.5, 1.4])\n",
    "\n",
    "# Candlestick Plot\n",
    "    fig.add_trace(go.Candlestick(x = df['Date'],\n",
    "                                 open = df['open'],\n",
    "                                 high = df['high'],\n",
    "                                 low = df['low'],\n",
    "                                 close = df['close'], showlegend=False,\n",
    "                                 increasing_line_color= 'olive', decreasing_line_color= 'darkred',\n",
    "                                 name = 'candlestick'),\n",
    "                  row = 1, col = 1)\n",
    "\n",
    "# Moving Average\n",
    "    fig.add_trace(go.Scatter(x = df['Date'],\n",
    "                             y = df['sma'],\n",
    "                             line_color = 'black',\n",
    "                             name = 'sma'),\n",
    "                  row = 1, col = 1)\n",
    "    \n",
    "# Upper Bound\n",
    "    fig.add_trace(go.Scatter(x = df['Date'],\n",
    "                             y = df['sma'] + (df['std'] * 2),\n",
    "                             line_color = 'tan',\n",
    "                             line = {'dash': 'dash'},\n",
    "                             name = 'upper band',\n",
    "                             opacity = 0.5),\n",
    "                  row = 1, col = 1) \n",
    "# Lower Bound fill in between with parameter 'fill': 'tonexty'\n",
    "    fig.add_trace(go.Scatter(x = df['Date'],\n",
    "                             y = df['sma'] - (df['std'] * 2),\n",
    "                             line_color = 'tan',\n",
    "                             line = {'dash': 'dash'},\n",
    "                             fill = 'tonexty',\n",
    "                             name = 'lower band',\n",
    "                             opacity = 0.5),\n",
    "                  row = 1, col = 1)\n",
    "\n",
    "# Labels & Titles\n",
    "    fig.update_layout(\n",
    "        height=500,\n",
    "        width=1200,\n",
    "        xaxis_title=None,\n",
    "        yaxis_title=\"Price\",\n",
    "        legend_title=\"Indicators\",\n",
    "        )\n",
    "# ----------------\n",
    "\n",
    "# Volume Plot\n",
    "    fig.add_trace(go.Bar(x = df['Date'], y = df['volume'], showlegend=False), \n",
    "              row = 2, col = 1)\n",
    "# Remove range slider; (short time frame)\n",
    "    fig.update(layout_xaxis_rangeslider_visible=True)\n",
    "\n",
    "#comment out fig.show() if you dont want it to load all 11 charts ->\n",
    "    fig.show();    \n",
    "   \n"
   ]
  },
  {
   "cell_type": "code",
   "execution_count": null,
   "id": "8d7589ea",
   "metadata": {},
   "outputs": [],
   "source": [
    "#candlestick charts\n",
    "df_list = [comp_df, sushi_df, ltc_df, etc_df, doge_df, storj_df, ada_df, btc_df, eth_df, sol_df, uni_df]\n",
    "\n",
    "for df in df_list:\n",
    "    fig = go.Figure(\n",
    "    data=[\n",
    "        go.Candlestick(x=df['Date'],\n",
    "                       open=df['open'],\n",
    "                       high=df['high'],\n",
    "                       low=df['low'],\n",
    "                       close=df['close'],\n",
    "                       increasing_line_color= 'olive', decreasing_line_color= 'darkred')\n",
    "        \n",
    "    ])\n",
    "    fig.update(layout_xaxis_rangeslider_visible=True)\n",
    "    fig.update_layout(\n",
    "        height=500,\n",
    "        width=1200,\n",
    "        title=f'{df.symbol[0]} Daily Price',\n",
    "        xaxis_title='Date',\n",
    "        yaxis_title='Daily Price')\n",
    "    #comment out fig.show() if you dont want 11 charts to show\n",
    "    fig.show()\n"
   ]
  },
  {
   "cell_type": "code",
   "execution_count": null,
   "id": "4035e9f3",
   "metadata": {},
   "outputs": [],
   "source": [
    "# dashboard components\n",
    "# code from the plots above can be commented out at the very end once everything is working\n",
    "\n",
    "# mcsftool plot simulation (120) = fig1\n",
    "fig1 = px.line(mc_df)\n",
    "fig1 = fig1.update_layout(\n",
    "    xaxis_title=\"Predicted Time Period(Days)\",\n",
    "    yaxis_title=\"Daily Return\",\n",
    "    showlegend=False,\n",
    "    title='Simulation of Returns on Portfolio Investment')\n",
    "\n",
    "#-------------end plot 1----------------\n",
    "\n",
    "#stat plot = fig2\n",
    "fig2 = go.Figure()\n",
    "fig2 = fig2.add_trace(go.Scatter(x=df_simulated_returns.index, y=df_simulated_returns['mean'],\n",
    "                    mode='lines',\n",
    "                    name='mean returns',\n",
    "                    line=dict(color=\"salmon\", width=1),))\n",
    "fig2 =fig2.add_trace(go.Scatter(x=df_simulated_returns.index, y=df_simulated_returns['median'],\n",
    "                    mode='lines',\n",
    "                    name='median returns',\n",
    "                    line=dict(color=\"teal\", width=1),))\n",
    "fig2 =fig2.add_trace(go.Scatter(x=df_simulated_returns.index, y=df_simulated_returns['min'],\n",
    "                    mode='lines',\n",
    "                    name='minimum returns',\n",
    "                    line=dict(color=\"darkred\", width=1),))\n",
    "fig2 =fig2.add_trace(go.Scatter(x=df_simulated_returns.index, y=df_simulated_returns['max'],\n",
    "                    mode='lines',\n",
    "                    name='maximum returns',\n",
    "                    line=dict(color=\"olive\", width=1),))\n",
    "fig2 =fig2.update_layout(\n",
    "    height=500,\n",
    "    width=1200,\n",
    "    xaxis_title=\"Number of Days(in Simulation)\",\n",
    "    yaxis_title=\"Daily Returns\",\n",
    "    legend_title=\"Stats\",\n",
    "    title=\"Statistical Analysis for Simulation of Return on Investment\")\n",
    "\n",
    "#----------------end plot 2------------------\n",
    "\n",
    "#Plot simulated investment portfolio returns with initial investment number (values are in USD)\n",
    "# investment plot = fig3\n",
    "fig3 = go.Figure()\n",
    "fig3 =fig3.add_trace(go.Scatter(x=cumulative_pnl.index, y=cumulative_pnl['mean'],\n",
    "                    mode='lines',\n",
    "                    name='mean returns',\n",
    "                    line=dict(color=\"salmon\", width=1),))\n",
    "fig3 =fig3.add_trace(go.Scatter(x=cumulative_pnl.index, y=cumulative_pnl['median'],\n",
    "                    mode='lines',\n",
    "                    name='median returns',\n",
    "                    line=dict(color=\"teal\", width=1),))\n",
    "fig3 =fig3.add_trace(go.Scatter(x=cumulative_pnl.index, y=cumulative_pnl['min'],\n",
    "                    mode='lines',\n",
    "                    name='minimum returns',\n",
    "                    line=dict(color=\"darkred\", width=1),))\n",
    "fig3 =fig3.add_trace(go.Scatter(x=cumulative_pnl.index, y=cumulative_pnl['max'],\n",
    "                    mode='lines',\n",
    "                    name='maximum returns',\n",
    "                    line=dict(color=\"olive\", width=1),))\n",
    "fig3 =fig3.update_layout(\n",
    "    height=500,\n",
    "    width=1200,\n",
    "    xaxis_title=\"Time Period(Days)\",\n",
    "    yaxis_title=\"Returns(USD)\",\n",
    "    legend_title=\"Stats\",\n",
    "    title=\"$11,999 Initial Investment - Predicted Earnings\")\n",
    "\n",
    "#------------end plot 3-------------------"
   ]
  },
  {
   "cell_type": "code",
   "execution_count": null,
   "id": "30635d80",
   "metadata": {},
   "outputs": [],
   "source": [
    "monte_column = pn.Column(\"## Monte Carlo Simulations\", fig1)"
   ]
  },
  {
   "cell_type": "code",
   "execution_count": null,
   "id": "f0a8aff1",
   "metadata": {},
   "outputs": [],
   "source": [
    "return_stats = pn.Column(\"##Return Stats\", fig2)"
   ]
  },
  {
   "cell_type": "code",
   "execution_count": null,
   "id": "720034e1",
   "metadata": {},
   "outputs": [],
   "source": [
    "investment_sim = pn.Column(\"## Investment Predictions\", fig3)"
   ]
  },
  {
   "cell_type": "code",
   "execution_count": null,
   "id": "f99671e4",
   "metadata": {},
   "outputs": [],
   "source": [
    "simulations = pn.Tabs(\n",
    "    (\n",
    "        \"Monte Carlo Simulations\",\n",
    "        fig1\n",
    "    ),\n",
    "    (\n",
    "        \"Return Stats\",\n",
    "        fig2\n",
    "    ),\n",
    "    (\n",
    "        \"Investment Predictions\",\n",
    "        fig3\n",
    "    )\n",
    ")\n",
    "#simulations"
   ]
  },
  {
   "cell_type": "code",
   "execution_count": null,
   "id": "4713af51",
   "metadata": {},
   "outputs": [],
   "source": [
    "dashboard = pn.Tabs(\n",
    "    (\"Predicted Earnings\",monte_column),\n",
    "    ( \"Return Stats\",return_stats),\n",
    "    (\"Investment Predictions\",fig3)\n",
    ")"
   ]
  },
  {
   "cell_type": "code",
   "execution_count": null,
   "id": "5cb689a6",
   "metadata": {},
   "outputs": [],
   "source": [
    "#should open localhost tab with dashboard components\n",
    "pn.serve(dashboard)"
   ]
  },
  {
   "cell_type": "code",
   "execution_count": null,
   "id": "56a18df8",
   "metadata": {},
   "outputs": [],
   "source": [
    "#next step is to try to get a separate tab each for RSI plot and Candlestick plot"
   ]
  }
 ],
 "metadata": {
  "kernelspec": {
   "display_name": "Python 3 (ipykernel)",
   "language": "python",
   "name": "python3"
  },
  "language_info": {
   "codemirror_mode": {
    "name": "ipython",
    "version": 3
   },
   "file_extension": ".py",
   "mimetype": "text/x-python",
   "name": "python",
   "nbconvert_exporter": "python",
   "pygments_lexer": "ipython3",
   "version": "3.9.6"
  }
 },
 "nbformat": 4,
 "nbformat_minor": 5
}
